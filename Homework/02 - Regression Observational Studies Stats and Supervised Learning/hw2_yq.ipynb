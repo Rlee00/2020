{
 "cells": [
  {
   "cell_type": "markdown",
   "metadata": {},
   "source": [
    "# Homework 2 (HW2)\n",
    "\n",
    "---\n",
    "By the end of this homework we expect you to be able to:\n",
    "1. Preprocess data and make it amenable to statistical analysis and machine learning models;\n",
    "2. Train and test out-of-the-box machine learning models in Python;\n",
    "3. Carry out statistical hypothesis testing;\n",
    "4. Carry out simple multivariate regression analyses;\n",
    "5. Use techniques to control for covariates;\n",
    "---\n",
    "\n",
    "## Important Dates\n",
    "\n",
    "- Homework release: Fri 6 Nov 2020\n",
    "- **Homework due**: Fri 20 Nov 2020, 23:59\n",
    "- Grade release: Mon 30 Nov 2020\n",
    "\n",
    "---\n",
    "\n",
    "##  Some rules\n",
    "\n",
    "1. You are allowed to use any built-in Python library that comes with Anaconda. If you want to use an external library, you have to justify your choice.\n",
    "2. Make sure you use the data folder provided in the repository in **read-only** mode.\n",
    "3. Be sure to provide a textual description of your thought process, the assumptions you made, the solution you implemented, and explanations for your answers. A notebook that only has code cells will not suffice.\n",
    "4. For questions containing the **/Discuss:/** prefix, answer not with code, but with a textual explanation (in markdown).\n",
    "5. Back up any hypotheses and claims with data, since this is an important aspect of the course.\n",
    "6. Please write all your comments in English, and use meaningful variable names in your code. Your repo should have a single notebook (plus the required data files) in the master branch. If there are multiple notebooks present, we will **strictly** not grade anything.\n",
    "7. Also, be sure to hand in a fully-run and evaluated notebook. We will not run your notebook for you, we will grade it as is, which means that only the results contained in your evaluated code cells will be considered, and we will not see the results in unevaluated code cells. In order to check whether everything looks as intended, you can check the rendered notebook on the GitHub website once you have pushed your solution there.\n",
    "8. Make sure to print results or dataframes that confirm you have properly addressed the task.\n",
    "9. Lastly, the grading is done in the *double blind* mode, i.e., the TAs grades an anonymized version of your notebook, so make sure that your notebook **neither has your team name nor the names of the members**.\n",
    "\n",
    "## Context\n",
    "\n",
    "Publishing papers is a big part of the lives of [Ph.D. students](http://phdcomics.com/comics/archive.php?comicid=154), [post-docs](http://phdcomics.com/comics/archive.php?comicid=1744) and [professors](http://phdcomics.com/comics/archive.php?comicid=1051). \n",
    "In Computer Science, publishing happens mostly in conferences. What follows is a slight simplification of how these conferences decide which papers to accept and which papers to reject.\n",
    " \n",
    "Every year, scholars submit papers to prestigious conferences. The papers are then assigned to reviewers (usually around 3), who are other people from the same research community (respect thy neighbor!). Each reviewer weighs in on whether they believe the papers they were assigned are good or bad, and write a review, often along with a score (e.g. +3 Strong Accept, +2 Accept, +1 Weak Accept, 0 Borderline, …,  -3 Strong Reject). Then, in the end, \"special\" reviewers called, \"Area Chairs\" analyze all the reviews that were written for the same paper and decide what gets accepted and what gets rejected. Importantly, throughout this whole dance, reviewers and authors are anonymous. When you're reviewing a paper, you do not know who wrote it. And when you receive the review, you don't know who reviewed it. Because of that, we call this a double-blind reviewing process.\n",
    "\n",
    "An interesting development that has evolved in recent years is the rise of pre-prints. In previous times, researchers often exposed their research to the world only after it had been peer-reviewed and published in a conference or a journal. But recently researchers are much keener to let their ideas out into the world as soon as possible, and they publish their research before it has been approved to any conference or journal, by posting the research on so-called pre-print servers. The most common pre-print server for Computer Science, Physics, and Maths is called [arXiv](https://arxiv.org/), for Biology, an increasingly popular one is [bioRxiv](https://www.biorxiv.org/), for Psychology [psyArXiv](https://psyarxiv.com/) (they are not very creative with the names). Notice that pre-prints and peer-review are not mutually exclusive, in fact, usually, you publish your pre-print, and then you try to publish your work in a peer-reviewed setting.\n",
    "\n",
    "Overall, publishing pre-prints has many benefits. They make science more accessible and hasten the circulation of important results in the academic community. However, a big issue brought forth with pre-prints is that they often break the anonymity in the double-blind reviewing process. For instance, in machine learning, since most papers are published as pre-prints, it is often easy to figure out if the paper you are reviewing is from a famous researcher or a big company with prominent research scientists. From critics' viewpoint, knowing the authors of the papers you are reviewing can bias your reviews. If you know that a given author is famous, you'd be more inclined to take his or her word for granted. If the author is from an institution you’ve never heard about, you are more likely to doubt his or her findings.\n",
    "\n",
    "In this homework, we will take a data-driven deep dive into the world of academic publishing. Can you use your freshly acquired data-science skills to predict which papers are going to make the cut? Are your data analysis skills sharp enough to figure out whether the aforementioned concerns about pre-print issues are justified?\n",
    "\n",
    "\n",
    "## The data\n",
    "\n",
    "The data, whose source has been *\"double-blinded\"* from you, and which has been simplified a bit for the assignment, contains information about submissions to a prestigious machine learning conference called ICLR (pronounced “I-clear”). You can find the dataframe in the git repo for the homework (`./data/dataset_final.csv`). We provide a brief description of the fields you will encounter.\n",
    "\n",
    "- `year`: year the paper has been submitted to ICLR. Notice that we provide data for three years, 2018, 2019, and 2020.\n",
    "\n",
    "\n",
    "- `paper`: title of the paper.\n",
    "\n",
    "\n",
    "- `authors`: names of the authors separated by ;.\n",
    "\n",
    "\n",
    "- `ratings`: mean rating given to the paper by the reviewers.\n",
    "\n",
    "\n",
    "- `decisions`: either Accept if the paper was accepted, or Reject otherwise.\n",
    "\n",
    "\n",
    "- `institution`: institutions for each of the authors, separated by ;.\n",
    "\n",
    "\n",
    "- `csranking`: ranking of the institutions according to csrankings. The better the institution, the better the rank. Notice that, if a paper has more than 1 author, this field will contain multiple values, separated by ;. For institutions that are not in csrankings, the value will be -1.\n",
    "\n",
    "\n",
    "- `categories`: topical categories of the paper. Each number corresponds to a different category: (1) Theory, (2) Computer Vision, (3) Natural Language Processing, (4) Adversarial ML, (5) Generative Modeling, (7) Fairness, (8) Generalization, (9) Optimization, (10) Graphs, (11) Bayesian Methods, (0) Others. A paper may belong to multiple categories, separated by ;.\n",
    "\n",
    "\n",
    "- `authors_citations`: number of citations of each one of the authors, separated by ;.\n",
    "\n",
    "\n",
    "- `authors_publications`: number of publications by each one of the authors, separated by ;.\n",
    "\n",
    "\n",
    "- `authors_hindex`: h-index of each one of the authors, separated by ;. The h-index is an author-level metric that measures both the productivity and citation impact of the publications of a scientist or scholar. It is the maximum value $h$ such that the given author has published $h$ papers that have each been cited at least $h$ times.\n",
    "\n",
    "\n",
    "- `arxiv`: whether the paper was spotted in a pre-print server around the submission period.\n",
    "\n",
    "Also, notice that in this dataframe, when some piece of data was not available, -1 will be used as the value. For example, companies aren't a part of csrankings, so for people who work in big companies, the values are -1 in the field csranking.\n"
   ]
  },
  {
   "cell_type": "markdown",
   "metadata": {},
   "source": [
    "## _Step 1:_ Predicting paper ratings\n",
    "\n",
    "The first part of this homework poses a simple question: Can you predict the ratings the paper will receive given attributes related to its authors? To answer this question, we will build an ML pipeline from scratch, preprocessing the data, training a regression model, and then evaluating it.\n",
    "\n",
    "\n",
    "---\n",
    "\n",
    "### Task 1.1\n",
    "\n",
    "Some of the fields in the data are not very amenable to serve as input to traditional machine learning algorithms. Namely, we have some fields for which there are a varying number of values (e.g. papers with 3 authors will have 3 values in the `author_citations` field, papers with 5 authors will have 5).\n",
    "\n",
    "\n",
    "Your first task is to perform some feature engineering and derive unique values for each paper which you will be able to use in your ML model. \n",
    "More specifically, you must:\n",
    "\n",
    "1. Create 3 new fields in the dataframe corresponding to the median value of the number of citations per author, the number of publications per author, and the h-index per author. So for instance, for the row `authors_publications`, you will create an additional column, e.g. `authors_publications_median`, containing the median number of publications per author in each paper.\n",
    "2. Create another field entitled `reputation` capturing how famous the last author of the paper is. Notice that the last author of the paper is usually the most senior person involved in the project. This field should equal $\\log_{10}\\Big(\\frac{\\#citations}{\\#publications} + 1\\Big)$. Notice that each author in the dataset has at least 1 publication, so you don't risk dividing by 0.\n",
    "3. Create two fields called `has_top_company` and `has_top_institution`. The field `has_top_company` equals 1 if the article contains an author in the following list of companies `[\"Facebook\", \"Google\", \"Microsoft\", \"Deepmind\"]`, and 0 otherwise. The field `has_top_institution` equals 1 if the article contains an author in the top 10 institutions according to CSRankings.\n",
    "4. **Discuss:** How did you handle -1 values in item 1.1.1? Justify your approach.\n",
    "\n",
    "---"
   ]
  },
  {
   "cell_type": "markdown",
   "metadata": {},
   "source": [
    "### Solution 1.1.1~1.1.3"
   ]
  },
  {
   "cell_type": "code",
   "execution_count": 1,
   "metadata": {},
   "outputs": [],
   "source": [
    "#Import required packages\n",
    "import numpy as np\n",
    "import pandas as pd\n",
    "\n",
    "import statistics\n",
    "import math\n",
    "\n",
    "from sklearn.model_selection import train_test_split\n",
    "from sklearn.ensemble import GradientBoostingRegressor\n",
    "from sklearn.metrics import mean_squared_error\n",
    "from sklearn.model_selection import cross_val_score\n",
    "from sklearn.model_selection import cross_validate\n",
    "from sklearn import linear_model\n",
    "from sklearn.metrics import r2_score\n",
    "from scipy import stats\n",
    "\n",
    "import matplotlib.pyplot as plt\n",
    "import seaborn as sns"
   ]
  },
  {
   "cell_type": "code",
   "execution_count": 2,
   "metadata": {},
   "outputs": [],
   "source": [
    "#Read the dataset\n",
    "paper = pd.read_csv('data/dataset_final.csv')"
   ]
  },
  {
   "cell_type": "code",
   "execution_count": 3,
   "metadata": {
    "scrolled": true
   },
   "outputs": [
    {
     "data": {
      "text/html": [
       "<div>\n",
       "<style scoped>\n",
       "    .dataframe tbody tr th:only-of-type {\n",
       "        vertical-align: middle;\n",
       "    }\n",
       "\n",
       "    .dataframe tbody tr th {\n",
       "        vertical-align: top;\n",
       "    }\n",
       "\n",
       "    .dataframe thead th {\n",
       "        text-align: right;\n",
       "    }\n",
       "</style>\n",
       "<table border=\"1\" class=\"dataframe\">\n",
       "  <thead>\n",
       "    <tr style=\"text-align: right;\">\n",
       "      <th></th>\n",
       "      <th>year</th>\n",
       "      <th>paper</th>\n",
       "      <th>authors</th>\n",
       "      <th>ratings</th>\n",
       "      <th>decisions</th>\n",
       "      <th>institution</th>\n",
       "      <th>csranking</th>\n",
       "      <th>categories</th>\n",
       "      <th>authors_citations</th>\n",
       "      <th>authors_publications</th>\n",
       "      <th>authors_hindex</th>\n",
       "      <th>arxiv</th>\n",
       "    </tr>\n",
       "  </thead>\n",
       "  <tbody>\n",
       "    <tr>\n",
       "      <th>0</th>\n",
       "      <td>2018</td>\n",
       "      <td>Certifying Some Distributional Robustness with...</td>\n",
       "      <td>Aman Sinha;Hongseok Namkoong;John Duchi</td>\n",
       "      <td>9.000000</td>\n",
       "      <td>Accept</td>\n",
       "      <td>Stanford University;Stanford University;Stanfo...</td>\n",
       "      <td>4;4;4</td>\n",
       "      <td>4</td>\n",
       "      <td>655;904;12908</td>\n",
       "      <td>42;19;162</td>\n",
       "      <td>8;10;42</td>\n",
       "      <td>True</td>\n",
       "    </tr>\n",
       "    <tr>\n",
       "      <th>1</th>\n",
       "      <td>2018</td>\n",
       "      <td>Parametric Information Bottleneck to Optimize ...</td>\n",
       "      <td>Thanh T. Nguyen;Jaesik Choi</td>\n",
       "      <td>4.666667</td>\n",
       "      <td>Reject</td>\n",
       "      <td>Ulsan National Institute of Science and Techno...</td>\n",
       "      <td>468;468</td>\n",
       "      <td>8</td>\n",
       "      <td>1052;727</td>\n",
       "      <td>86;88</td>\n",
       "      <td>16;15</td>\n",
       "      <td>False</td>\n",
       "    </tr>\n",
       "    <tr>\n",
       "      <th>2</th>\n",
       "      <td>2018</td>\n",
       "      <td>Towards Neural Phrase-based Machine Translation</td>\n",
       "      <td>Po-Sen Huang;Chong Wang;Sitao Huang;Dengyong Z...</td>\n",
       "      <td>6.666667</td>\n",
       "      <td>Accept</td>\n",
       "      <td>Microsoft;Google;University of Illinois, Urban...</td>\n",
       "      <td>-1;-1;3;-1;-1</td>\n",
       "      <td>3;2</td>\n",
       "      <td>1718;17889;161;8800;20766</td>\n",
       "      <td>59;1045;17;78;409</td>\n",
       "      <td>17;54;7;33;63</td>\n",
       "      <td>True</td>\n",
       "    </tr>\n",
       "    <tr>\n",
       "      <th>3</th>\n",
       "      <td>2018</td>\n",
       "      <td>Interactive Grounded Language Acquisition and ...</td>\n",
       "      <td>Haonan Yu;Haichao Zhang;Wei Xu</td>\n",
       "      <td>6.333333</td>\n",
       "      <td>Accept</td>\n",
       "      <td>Baidu;Baidu;Baidu</td>\n",
       "      <td>-1;-1;-1</td>\n",
       "      <td>6;8</td>\n",
       "      <td>890;1382;9553</td>\n",
       "      <td>37;63;557</td>\n",
       "      <td>12;20;44</td>\n",
       "      <td>False</td>\n",
       "    </tr>\n",
       "    <tr>\n",
       "      <th>4</th>\n",
       "      <td>2018</td>\n",
       "      <td>A Boo(n) for Evaluating Architecture Performance</td>\n",
       "      <td>Ondrej Bajgar;Rudolf Kadlec;and Jan Kleindienst</td>\n",
       "      <td>4.666667</td>\n",
       "      <td>Reject</td>\n",
       "      <td>;International Business Machines;International...</td>\n",
       "      <td>-1;-1;-1</td>\n",
       "      <td>0</td>\n",
       "      <td>366;678;658</td>\n",
       "      <td>10;40;76</td>\n",
       "      <td>5;11;9</td>\n",
       "      <td>False</td>\n",
       "    </tr>\n",
       "  </tbody>\n",
       "</table>\n",
       "</div>"
      ],
      "text/plain": [
       "   year                                              paper  \\\n",
       "0  2018  Certifying Some Distributional Robustness with...   \n",
       "1  2018  Parametric Information Bottleneck to Optimize ...   \n",
       "2  2018    Towards Neural Phrase-based Machine Translation   \n",
       "3  2018  Interactive Grounded Language Acquisition and ...   \n",
       "4  2018   A Boo(n) for Evaluating Architecture Performance   \n",
       "\n",
       "                                             authors   ratings decisions  \\\n",
       "0            Aman Sinha;Hongseok Namkoong;John Duchi  9.000000    Accept   \n",
       "1                        Thanh T. Nguyen;Jaesik Choi  4.666667    Reject   \n",
       "2  Po-Sen Huang;Chong Wang;Sitao Huang;Dengyong Z...  6.666667    Accept   \n",
       "3                     Haonan Yu;Haichao Zhang;Wei Xu  6.333333    Accept   \n",
       "4    Ondrej Bajgar;Rudolf Kadlec;and Jan Kleindienst  4.666667    Reject   \n",
       "\n",
       "                                         institution      csranking  \\\n",
       "0  Stanford University;Stanford University;Stanfo...          4;4;4   \n",
       "1  Ulsan National Institute of Science and Techno...        468;468   \n",
       "2  Microsoft;Google;University of Illinois, Urban...  -1;-1;3;-1;-1   \n",
       "3                                  Baidu;Baidu;Baidu       -1;-1;-1   \n",
       "4  ;International Business Machines;International...       -1;-1;-1   \n",
       "\n",
       "  categories          authors_citations authors_publications authors_hindex  \\\n",
       "0          4              655;904;12908            42;19;162        8;10;42   \n",
       "1          8                   1052;727                86;88          16;15   \n",
       "2        3;2  1718;17889;161;8800;20766    59;1045;17;78;409  17;54;7;33;63   \n",
       "3        6;8              890;1382;9553            37;63;557       12;20;44   \n",
       "4          0                366;678;658             10;40;76         5;11;9   \n",
       "\n",
       "   arxiv  \n",
       "0   True  \n",
       "1  False  \n",
       "2   True  \n",
       "3  False  \n",
       "4  False  "
      ]
     },
     "execution_count": 3,
     "metadata": {},
     "output_type": "execute_result"
    }
   ],
   "source": [
    "#Check the data\n",
    "paper.head()"
   ]
  },
  {
   "cell_type": "code",
   "execution_count": 4,
   "metadata": {
    "scrolled": false
   },
   "outputs": [
    {
     "data": {
      "text/plain": [
       "year                      int64\n",
       "paper                    object\n",
       "authors                  object\n",
       "ratings                 float64\n",
       "decisions                object\n",
       "institution              object\n",
       "csranking                object\n",
       "categories               object\n",
       "authors_citations        object\n",
       "authors_publications     object\n",
       "authors_hindex           object\n",
       "arxiv                      bool\n",
       "dtype: object"
      ]
     },
     "execution_count": 4,
     "metadata": {},
     "output_type": "execute_result"
    }
   ],
   "source": [
    "paper.dtypes"
   ]
  },
  {
   "cell_type": "markdown",
   "metadata": {},
   "source": [
    "Based on above results, we found that:\n",
    "\n",
    "1. The data tyep of 'year' is integer. It's ok and suitable for following analysis.\n",
    "2. In 'author', 'insitution', they are a object consiting of authors' name and insitutions' name. It will be better if we can split them up.\n",
    "3. In 'csranking', 'categories', 'authors_citations', 'authors_publications', 'authors_hindex', the number is not splited. It's better if we split them up.\n",
    "\n",
    "What we do for preprocessing the data:\n",
    "\n",
    "1. Split 'authors', 'institution' into a python list of authors and institutions.\n",
    "2. Same work is done for 'csranking', 'categories', 'authors_citations', 'authors_publications', 'authors_hindex'.\n",
    "3. We transform 'decisions' into True and False.\n"
   ]
  },
  {
   "cell_type": "code",
   "execution_count": 5,
   "metadata": {},
   "outputs": [],
   "source": [
    "#Preprocess\n",
    "\n",
    "#authors: split them into a list of names\n",
    "paper['authors'] = pd.Series(row.split(';') for row in paper.authors)\n",
    "\n",
    "#decisions: transform into True and False\n",
    "paper['decisions'] = (paper['decisions'] == 'Accept')\n",
    "\n",
    "#institution: split them into a list of names\n",
    "paper['institution'] = pd.Series(row.split(';') for row in paper.institution)\n",
    "\n",
    "#csranking: split into a list of numbers\n",
    "paper['csranking'] = pd.Series(list(map(int,t)) for t in pd.Series(row.split(';') for row in paper.csranking))\n",
    "\n",
    "#categories: split into a list of numbers\n",
    "paper['categories'] = pd.Series(list(map(int,t)) for t in pd.Series(row.split(';') for row in paper.categories))\n",
    "\n",
    "#authors_citations: split into a list of numbers\n",
    "paper['authors_citations'] = pd.Series(list(map(int,t)) for t in pd.Series(row.split(';') for row in paper.authors_citations))\n",
    "\n",
    "#authors_publications: split into a list of numbers\n",
    "paper['authors_publications'] = pd.Series(list(map(int,t)) for t in pd.Series(row.split(';') for row in paper.authors_publications))\n",
    "\n",
    "#authors_hindex: split into a list of numbers\n",
    "paper['authors_hindex'] = pd.Series(list(map(int,t)) for t in pd.Series(row.split(';') for row in paper.authors_hindex))\n"
   ]
  },
  {
   "cell_type": "code",
   "execution_count": 6,
   "metadata": {
    "scrolled": true
   },
   "outputs": [
    {
     "data": {
      "text/html": [
       "<div>\n",
       "<style scoped>\n",
       "    .dataframe tbody tr th:only-of-type {\n",
       "        vertical-align: middle;\n",
       "    }\n",
       "\n",
       "    .dataframe tbody tr th {\n",
       "        vertical-align: top;\n",
       "    }\n",
       "\n",
       "    .dataframe thead th {\n",
       "        text-align: right;\n",
       "    }\n",
       "</style>\n",
       "<table border=\"1\" class=\"dataframe\">\n",
       "  <thead>\n",
       "    <tr style=\"text-align: right;\">\n",
       "      <th></th>\n",
       "      <th>year</th>\n",
       "      <th>paper</th>\n",
       "      <th>authors</th>\n",
       "      <th>ratings</th>\n",
       "      <th>decisions</th>\n",
       "      <th>institution</th>\n",
       "      <th>csranking</th>\n",
       "      <th>categories</th>\n",
       "      <th>authors_citations</th>\n",
       "      <th>authors_publications</th>\n",
       "      <th>authors_hindex</th>\n",
       "      <th>arxiv</th>\n",
       "    </tr>\n",
       "  </thead>\n",
       "  <tbody>\n",
       "    <tr>\n",
       "      <th>0</th>\n",
       "      <td>2018</td>\n",
       "      <td>Certifying Some Distributional Robustness with...</td>\n",
       "      <td>[Aman Sinha, Hongseok Namkoong, John Duchi]</td>\n",
       "      <td>9.000000</td>\n",
       "      <td>True</td>\n",
       "      <td>[Stanford University, Stanford University, Sta...</td>\n",
       "      <td>[4, 4, 4]</td>\n",
       "      <td>[4]</td>\n",
       "      <td>[655, 904, 12908]</td>\n",
       "      <td>[42, 19, 162]</td>\n",
       "      <td>[8, 10, 42]</td>\n",
       "      <td>True</td>\n",
       "    </tr>\n",
       "    <tr>\n",
       "      <th>1</th>\n",
       "      <td>2018</td>\n",
       "      <td>Parametric Information Bottleneck to Optimize ...</td>\n",
       "      <td>[Thanh T. Nguyen, Jaesik Choi]</td>\n",
       "      <td>4.666667</td>\n",
       "      <td>False</td>\n",
       "      <td>[Ulsan National Institute of Science and Techn...</td>\n",
       "      <td>[468, 468]</td>\n",
       "      <td>[8]</td>\n",
       "      <td>[1052, 727]</td>\n",
       "      <td>[86, 88]</td>\n",
       "      <td>[16, 15]</td>\n",
       "      <td>False</td>\n",
       "    </tr>\n",
       "    <tr>\n",
       "      <th>2</th>\n",
       "      <td>2018</td>\n",
       "      <td>Towards Neural Phrase-based Machine Translation</td>\n",
       "      <td>[Po-Sen Huang, Chong Wang, Sitao Huang, Dengyo...</td>\n",
       "      <td>6.666667</td>\n",
       "      <td>True</td>\n",
       "      <td>[Microsoft, Google, University of Illinois, Ur...</td>\n",
       "      <td>[-1, -1, 3, -1, -1]</td>\n",
       "      <td>[3, 2]</td>\n",
       "      <td>[1718, 17889, 161, 8800, 20766]</td>\n",
       "      <td>[59, 1045, 17, 78, 409]</td>\n",
       "      <td>[17, 54, 7, 33, 63]</td>\n",
       "      <td>True</td>\n",
       "    </tr>\n",
       "    <tr>\n",
       "      <th>3</th>\n",
       "      <td>2018</td>\n",
       "      <td>Interactive Grounded Language Acquisition and ...</td>\n",
       "      <td>[Haonan Yu, Haichao Zhang, Wei Xu]</td>\n",
       "      <td>6.333333</td>\n",
       "      <td>True</td>\n",
       "      <td>[Baidu, Baidu, Baidu]</td>\n",
       "      <td>[-1, -1, -1]</td>\n",
       "      <td>[6, 8]</td>\n",
       "      <td>[890, 1382, 9553]</td>\n",
       "      <td>[37, 63, 557]</td>\n",
       "      <td>[12, 20, 44]</td>\n",
       "      <td>False</td>\n",
       "    </tr>\n",
       "    <tr>\n",
       "      <th>4</th>\n",
       "      <td>2018</td>\n",
       "      <td>A Boo(n) for Evaluating Architecture Performance</td>\n",
       "      <td>[Ondrej Bajgar, Rudolf Kadlec, and Jan Kleindi...</td>\n",
       "      <td>4.666667</td>\n",
       "      <td>False</td>\n",
       "      <td>[, International Business Machines, Internatio...</td>\n",
       "      <td>[-1, -1, -1]</td>\n",
       "      <td>[0]</td>\n",
       "      <td>[366, 678, 658]</td>\n",
       "      <td>[10, 40, 76]</td>\n",
       "      <td>[5, 11, 9]</td>\n",
       "      <td>False</td>\n",
       "    </tr>\n",
       "  </tbody>\n",
       "</table>\n",
       "</div>"
      ],
      "text/plain": [
       "   year                                              paper  \\\n",
       "0  2018  Certifying Some Distributional Robustness with...   \n",
       "1  2018  Parametric Information Bottleneck to Optimize ...   \n",
       "2  2018    Towards Neural Phrase-based Machine Translation   \n",
       "3  2018  Interactive Grounded Language Acquisition and ...   \n",
       "4  2018   A Boo(n) for Evaluating Architecture Performance   \n",
       "\n",
       "                                             authors   ratings  decisions  \\\n",
       "0        [Aman Sinha, Hongseok Namkoong, John Duchi]  9.000000       True   \n",
       "1                     [Thanh T. Nguyen, Jaesik Choi]  4.666667      False   \n",
       "2  [Po-Sen Huang, Chong Wang, Sitao Huang, Dengyo...  6.666667       True   \n",
       "3                 [Haonan Yu, Haichao Zhang, Wei Xu]  6.333333       True   \n",
       "4  [Ondrej Bajgar, Rudolf Kadlec, and Jan Kleindi...  4.666667      False   \n",
       "\n",
       "                                         institution            csranking  \\\n",
       "0  [Stanford University, Stanford University, Sta...            [4, 4, 4]   \n",
       "1  [Ulsan National Institute of Science and Techn...           [468, 468]   \n",
       "2  [Microsoft, Google, University of Illinois, Ur...  [-1, -1, 3, -1, -1]   \n",
       "3                              [Baidu, Baidu, Baidu]         [-1, -1, -1]   \n",
       "4  [, International Business Machines, Internatio...         [-1, -1, -1]   \n",
       "\n",
       "  categories                authors_citations     authors_publications  \\\n",
       "0        [4]                [655, 904, 12908]            [42, 19, 162]   \n",
       "1        [8]                      [1052, 727]                 [86, 88]   \n",
       "2     [3, 2]  [1718, 17889, 161, 8800, 20766]  [59, 1045, 17, 78, 409]   \n",
       "3     [6, 8]                [890, 1382, 9553]            [37, 63, 557]   \n",
       "4        [0]                  [366, 678, 658]             [10, 40, 76]   \n",
       "\n",
       "        authors_hindex  arxiv  \n",
       "0          [8, 10, 42]   True  \n",
       "1             [16, 15]  False  \n",
       "2  [17, 54, 7, 33, 63]   True  \n",
       "3         [12, 20, 44]  False  \n",
       "4           [5, 11, 9]  False  "
      ]
     },
     "execution_count": 6,
     "metadata": {},
     "output_type": "execute_result"
    }
   ],
   "source": [
    "#Check the data\n",
    "paper.head()"
   ]
  },
  {
   "cell_type": "markdown",
   "metadata": {},
   "source": [
    "What we found:\n",
    "1. In 'authors_citations', 'authors_publications' and 'authors_hindex'. There are -1 values in them.\n",
    "\n",
    "What we do:\n",
    "1. When computing median values, we just ignore these values and compute the median for rest of them.\n",
    "2. For repuation, we follow the formula to compute reputation.\n",
    "3. For 'has_top_company', we only consider [\"Facebook\", \"Google\", \"Microsoft\", \"Deepmind\"]. Maybe they have a different name for same company, but we only consider their standard names.\n",
    "4. For 'has_top_institution', we can select those with rank between [1,10].\n"
   ]
  },
  {
   "cell_type": "code",
   "execution_count": 7,
   "metadata": {
    "scrolled": true
   },
   "outputs": [],
   "source": [
    "#Create authors_citations_median\n",
    "paper['authors_citations_median'] = 0\n",
    "for i in paper.index:\n",
    "    temp = paper.loc[i,'authors_citations']\n",
    "    if -1 in paper.loc[i,'authors_citations']:\n",
    "        temp.remove(-1) #remove -1 values\n",
    "        paper.loc[i,'authors_citations_median'] = statistics.median(temp)\n",
    "    else:\n",
    "        paper.loc[i,'authors_citations_median'] = statistics.median(temp)\n",
    "\n",
    "#Create authors_publications_median\n",
    "paper['authors_publications_median'] = 0\n",
    "for i in paper.index:\n",
    "    temp = paper.loc[i,'authors_publications']\n",
    "    if -1 in paper.loc[i,'authors_publications']:\n",
    "        temp.remove(-1)\n",
    "        paper.loc[i,'authors_publications_median'] = statistics.median(temp)\n",
    "    else:\n",
    "        paper.loc[i,'authors_publications_median'] = statistics.median(temp)\n",
    "\n",
    "#Create authors_hindex_median\n",
    "paper['authors_hindex_median'] = 0\n",
    "for i in paper.index:\n",
    "    temp = paper.loc[i,'authors_hindex']\n",
    "    if -1 in paper.loc[i,'authors_hindex']:\n",
    "        temp.remove(-1) #remove -1 values\n",
    "        paper.loc[i,'authors_hindex_median'] = statistics.median(temp)\n",
    "    else:\n",
    "        paper.loc[i,'authors_hindex_median'] = statistics.median(temp)\n",
    "        \n",
    "#Create reputation\n",
    "paper['reputation'] = pd.Series(math.log10(paper.loc[i,'authors_citations'][-1]/paper.loc[i,'authors_publications'][-1]+1) for i in paper.index)\n",
    "\n",
    "#Create has_top_company\n",
    "paper['has_top_company'] = 0\n",
    "top_company = [\"Facebook\", \"Google\", \"Microsoft\", \"Deepmind\"]\n",
    "for i in paper.index:\n",
    "    if len(set(paper.loc[i,'institution'])&set(top_company))!=0:\n",
    "        paper.loc[i,'has_top_company'] = 1\n",
    "        \n",
    "#Create has_top_institution\n",
    "paper['has_top_institution'] = 0\n",
    "for i in paper.index:\n",
    "    if any([1<=rank<=10 for rank in paper.loc[i,'csranking']]):\n",
    "        paper.loc[i,'has_top_institution'] = 1"
   ]
  },
  {
   "cell_type": "code",
   "execution_count": 8,
   "metadata": {},
   "outputs": [
    {
     "data": {
      "text/html": [
       "<div>\n",
       "<style scoped>\n",
       "    .dataframe tbody tr th:only-of-type {\n",
       "        vertical-align: middle;\n",
       "    }\n",
       "\n",
       "    .dataframe tbody tr th {\n",
       "        vertical-align: top;\n",
       "    }\n",
       "\n",
       "    .dataframe thead th {\n",
       "        text-align: right;\n",
       "    }\n",
       "</style>\n",
       "<table border=\"1\" class=\"dataframe\">\n",
       "  <thead>\n",
       "    <tr style=\"text-align: right;\">\n",
       "      <th></th>\n",
       "      <th>year</th>\n",
       "      <th>paper</th>\n",
       "      <th>authors</th>\n",
       "      <th>ratings</th>\n",
       "      <th>decisions</th>\n",
       "      <th>institution</th>\n",
       "      <th>csranking</th>\n",
       "      <th>categories</th>\n",
       "      <th>authors_citations</th>\n",
       "      <th>authors_publications</th>\n",
       "      <th>authors_hindex</th>\n",
       "      <th>arxiv</th>\n",
       "      <th>authors_citations_median</th>\n",
       "      <th>authors_publications_median</th>\n",
       "      <th>authors_hindex_median</th>\n",
       "      <th>reputation</th>\n",
       "      <th>has_top_company</th>\n",
       "      <th>has_top_institution</th>\n",
       "    </tr>\n",
       "  </thead>\n",
       "  <tbody>\n",
       "    <tr>\n",
       "      <th>0</th>\n",
       "      <td>2018</td>\n",
       "      <td>Certifying Some Distributional Robustness with...</td>\n",
       "      <td>[Aman Sinha, Hongseok Namkoong, John Duchi]</td>\n",
       "      <td>9.000000</td>\n",
       "      <td>True</td>\n",
       "      <td>[Stanford University, Stanford University, Sta...</td>\n",
       "      <td>[4, 4, 4]</td>\n",
       "      <td>[4]</td>\n",
       "      <td>[655, 904, 12908]</td>\n",
       "      <td>[42, 19, 162]</td>\n",
       "      <td>[8, 10, 42]</td>\n",
       "      <td>True</td>\n",
       "      <td>904.0</td>\n",
       "      <td>42.0</td>\n",
       "      <td>10.0</td>\n",
       "      <td>1.906761</td>\n",
       "      <td>0</td>\n",
       "      <td>1</td>\n",
       "    </tr>\n",
       "    <tr>\n",
       "      <th>1</th>\n",
       "      <td>2018</td>\n",
       "      <td>Parametric Information Bottleneck to Optimize ...</td>\n",
       "      <td>[Thanh T. Nguyen, Jaesik Choi]</td>\n",
       "      <td>4.666667</td>\n",
       "      <td>False</td>\n",
       "      <td>[Ulsan National Institute of Science and Techn...</td>\n",
       "      <td>[468, 468]</td>\n",
       "      <td>[8]</td>\n",
       "      <td>[1052, 727]</td>\n",
       "      <td>[86, 88]</td>\n",
       "      <td>[16, 15]</td>\n",
       "      <td>False</td>\n",
       "      <td>889.5</td>\n",
       "      <td>87.0</td>\n",
       "      <td>15.5</td>\n",
       "      <td>0.966675</td>\n",
       "      <td>0</td>\n",
       "      <td>0</td>\n",
       "    </tr>\n",
       "    <tr>\n",
       "      <th>2</th>\n",
       "      <td>2018</td>\n",
       "      <td>Towards Neural Phrase-based Machine Translation</td>\n",
       "      <td>[Po-Sen Huang, Chong Wang, Sitao Huang, Dengyo...</td>\n",
       "      <td>6.666667</td>\n",
       "      <td>True</td>\n",
       "      <td>[Microsoft, Google, University of Illinois, Ur...</td>\n",
       "      <td>[-1, -1, 3, -1, -1]</td>\n",
       "      <td>[3, 2]</td>\n",
       "      <td>[1718, 17889, 161, 8800, 20766]</td>\n",
       "      <td>[59, 1045, 17, 78, 409]</td>\n",
       "      <td>[17, 54, 7, 33, 63]</td>\n",
       "      <td>True</td>\n",
       "      <td>8800.0</td>\n",
       "      <td>78.0</td>\n",
       "      <td>33.0</td>\n",
       "      <td>1.714100</td>\n",
       "      <td>1</td>\n",
       "      <td>1</td>\n",
       "    </tr>\n",
       "    <tr>\n",
       "      <th>3</th>\n",
       "      <td>2018</td>\n",
       "      <td>Interactive Grounded Language Acquisition and ...</td>\n",
       "      <td>[Haonan Yu, Haichao Zhang, Wei Xu]</td>\n",
       "      <td>6.333333</td>\n",
       "      <td>True</td>\n",
       "      <td>[Baidu, Baidu, Baidu]</td>\n",
       "      <td>[-1, -1, -1]</td>\n",
       "      <td>[6, 8]</td>\n",
       "      <td>[890, 1382, 9553]</td>\n",
       "      <td>[37, 63, 557]</td>\n",
       "      <td>[12, 20, 44]</td>\n",
       "      <td>False</td>\n",
       "      <td>1382.0</td>\n",
       "      <td>63.0</td>\n",
       "      <td>20.0</td>\n",
       "      <td>1.258896</td>\n",
       "      <td>0</td>\n",
       "      <td>0</td>\n",
       "    </tr>\n",
       "    <tr>\n",
       "      <th>4</th>\n",
       "      <td>2018</td>\n",
       "      <td>A Boo(n) for Evaluating Architecture Performance</td>\n",
       "      <td>[Ondrej Bajgar, Rudolf Kadlec, and Jan Kleindi...</td>\n",
       "      <td>4.666667</td>\n",
       "      <td>False</td>\n",
       "      <td>[, International Business Machines, Internatio...</td>\n",
       "      <td>[-1, -1, -1]</td>\n",
       "      <td>[0]</td>\n",
       "      <td>[366, 678, 658]</td>\n",
       "      <td>[10, 40, 76]</td>\n",
       "      <td>[5, 11, 9]</td>\n",
       "      <td>False</td>\n",
       "      <td>658.0</td>\n",
       "      <td>40.0</td>\n",
       "      <td>9.0</td>\n",
       "      <td>0.984882</td>\n",
       "      <td>0</td>\n",
       "      <td>0</td>\n",
       "    </tr>\n",
       "  </tbody>\n",
       "</table>\n",
       "</div>"
      ],
      "text/plain": [
       "   year                                              paper  \\\n",
       "0  2018  Certifying Some Distributional Robustness with...   \n",
       "1  2018  Parametric Information Bottleneck to Optimize ...   \n",
       "2  2018    Towards Neural Phrase-based Machine Translation   \n",
       "3  2018  Interactive Grounded Language Acquisition and ...   \n",
       "4  2018   A Boo(n) for Evaluating Architecture Performance   \n",
       "\n",
       "                                             authors   ratings  decisions  \\\n",
       "0        [Aman Sinha, Hongseok Namkoong, John Duchi]  9.000000       True   \n",
       "1                     [Thanh T. Nguyen, Jaesik Choi]  4.666667      False   \n",
       "2  [Po-Sen Huang, Chong Wang, Sitao Huang, Dengyo...  6.666667       True   \n",
       "3                 [Haonan Yu, Haichao Zhang, Wei Xu]  6.333333       True   \n",
       "4  [Ondrej Bajgar, Rudolf Kadlec, and Jan Kleindi...  4.666667      False   \n",
       "\n",
       "                                         institution            csranking  \\\n",
       "0  [Stanford University, Stanford University, Sta...            [4, 4, 4]   \n",
       "1  [Ulsan National Institute of Science and Techn...           [468, 468]   \n",
       "2  [Microsoft, Google, University of Illinois, Ur...  [-1, -1, 3, -1, -1]   \n",
       "3                              [Baidu, Baidu, Baidu]         [-1, -1, -1]   \n",
       "4  [, International Business Machines, Internatio...         [-1, -1, -1]   \n",
       "\n",
       "  categories                authors_citations     authors_publications  \\\n",
       "0        [4]                [655, 904, 12908]            [42, 19, 162]   \n",
       "1        [8]                      [1052, 727]                 [86, 88]   \n",
       "2     [3, 2]  [1718, 17889, 161, 8800, 20766]  [59, 1045, 17, 78, 409]   \n",
       "3     [6, 8]                [890, 1382, 9553]            [37, 63, 557]   \n",
       "4        [0]                  [366, 678, 658]             [10, 40, 76]   \n",
       "\n",
       "        authors_hindex  arxiv  authors_citations_median  \\\n",
       "0          [8, 10, 42]   True                     904.0   \n",
       "1             [16, 15]  False                     889.5   \n",
       "2  [17, 54, 7, 33, 63]   True                    8800.0   \n",
       "3         [12, 20, 44]  False                    1382.0   \n",
       "4           [5, 11, 9]  False                     658.0   \n",
       "\n",
       "   authors_publications_median  authors_hindex_median  reputation  \\\n",
       "0                         42.0                   10.0    1.906761   \n",
       "1                         87.0                   15.5    0.966675   \n",
       "2                         78.0                   33.0    1.714100   \n",
       "3                         63.0                   20.0    1.258896   \n",
       "4                         40.0                    9.0    0.984882   \n",
       "\n",
       "   has_top_company  has_top_institution  \n",
       "0                0                    1  \n",
       "1                0                    0  \n",
       "2                1                    1  \n",
       "3                0                    0  \n",
       "4                0                    0  "
      ]
     },
     "execution_count": 8,
     "metadata": {},
     "output_type": "execute_result"
    }
   ],
   "source": [
    "paper.head()"
   ]
  },
  {
   "cell_type": "markdown",
   "metadata": {},
   "source": [
    "### Solution 1.1.4 Discuss part (handelling with -1 values)\n",
    "1. when computing median, we just ignore -1 values and compute median for rest of the list."
   ]
  },
  {
   "cell_type": "markdown",
   "metadata": {},
   "source": [
    "We also create craze feature here."
   ]
  },
  {
   "cell_type": "code",
   "execution_count": 9,
   "metadata": {},
   "outputs": [],
   "source": [
    "#Create crazy feature\n",
    "paper['crazy'] = 0\n",
    "for i in paper.index:\n",
    "    if paper.loc[i,'ratings']>4.96:\n",
    "        paper.loc[i,'crazy'] = 9 - paper.loc[i,'ratings']\n",
    "    else:\n",
    "        paper.loc[i,'crazy'] = - paper.loc[i,'ratings']"
   ]
  },
  {
   "cell_type": "markdown",
   "metadata": {},
   "source": [
    "### Task 1.2\n",
    "\n",
    "Now that you have cleaned up your data, your next task is to divide your data into a training set and a testing set. You should do this in two ways:\n",
    "\n",
    "1. First, do it randomly. Split the data into a training set (70%) and a testing set (30%). We refer to these as \"random split\" in the subsequent tasks.\n",
    "2. Second, do it longitudinally. Use the data from 2018 and 2019 for the training set, and the data from 2020 as the testing set. We refer to these as \"longitudinal split\" in the subsequent tasks.\n"
   ]
  },
  {
   "cell_type": "markdown",
   "metadata": {},
   "source": [
    "### Solution 1.2"
   ]
  },
  {
   "cell_type": "markdown",
   "metadata": {},
   "source": [
    "We use train_test_split functions provided in sklearn.model_selection to split our dataset. We set shuffle as 'True' and test_size as 0.3. So we can split the data into a trainning set (70%) and a testing set (30%)."
   ]
  },
  {
   "cell_type": "code",
   "execution_count": 10,
   "metadata": {},
   "outputs": [],
   "source": [
    "#Randomly split the dataset\n",
    "#Shuffle the dataset\n",
    "rs_train, rs_test = train_test_split(paper,shuffle=True,test_size=0.3)"
   ]
  },
  {
   "cell_type": "markdown",
   "metadata": {},
   "source": [
    "To longitudinally split the data, we selct data from 2018 and 2019 for the training set. And we select the data from 2020 as the testing set."
   ]
  },
  {
   "cell_type": "code",
   "execution_count": 11,
   "metadata": {},
   "outputs": [],
   "source": [
    "#Longitudinally split the dataset\n",
    "ls_train = paper.loc[(paper['year'] ==2018)|(paper['year']==2019)]\n",
    "ls_test = paper.loc[paper['year']==2020]"
   ]
  },
  {
   "cell_type": "markdown",
   "metadata": {},
   "source": [
    "### Task 1.3\n",
    "\n",
    "Build a Linear Regression model (use [sklearn](https://scikit-learn.org/stable/)) that predicts the score of a paper (which is in the variable ratings in the dataframe). Train it and test it using the split you previously defined. Your model should use as features:\n",
    "- Median values for the number of author citations, publications and h-indexes, as calculated in Task 1.1.1.\n",
    "\n",
    "- `reputation` of the last author, as calculated in Task 1.1.2.\n",
    "\n",
    "For the two scenarios above (random split and longitudinal split):\n",
    "\n",
    "1. Report the model $R^2$ in each case (for the testing set).\n",
    "2. **Discuss:** Hypothesize a reason why the results are different. Additionally, interpret the $R^2$ value for the longitudinal split. How can it be negative?\n",
    "3. **From now onwards (in this task and the following ones), consider only the random split.** For a given entry $X$ your model outputs a predicted score $Y'$. The difference between the real score $Y$ and the predicted score $Y'$ is called the \"residual\". Plot the distribution of your residuals for the test set. Using this distribution, estimate what is the probability that your prediction is off by more than 2-points? Provide bootstrapped confidence intervals for your answer.\n",
    "4. **Discuss:** Identify three additional features that are already computed in your dataframe and that could boost your model's predictive performance. You are not allowed to use the variable `decisions` as an input here. Before running any experiments, discuss why each of these features might add valuable information to your model.\n",
    "5. Report the $R^2$ (for the test set) for a newly trained model with these additional features. Please note that you do not need to improve the model performance to be successful in this task!\n",
    "\n",
    "**Hint**: [Metrics!](https://scikit-learn.org/stable/modules/classes.html#sklearn-metrics-metrics)"
   ]
  },
  {
   "cell_type": "markdown",
   "metadata": {},
   "source": [
    "### Solution 1.3.1"
   ]
  },
  {
   "cell_type": "code",
   "execution_count": 12,
   "metadata": {},
   "outputs": [
    {
     "name": "stdout",
     "output_type": "stream",
     "text": [
      "Random split R^2 = 0.07574195523621252\n"
     ]
    }
   ],
   "source": [
    "#Random Split Case\n",
    "features = ['authors_publications_median','authors_citations_median','authors_hindex_median','reputation']\n",
    "rs_train_y = rs_train['ratings'].to_numpy()\n",
    "rs_train_X = rs_train[features].to_numpy()\n",
    "rs_test_y = rs_test['ratings'].to_numpy()\n",
    "rs_test_X = rs_test[features].to_numpy()\n",
    "\n",
    "rs_reg = linear_model.LinearRegression()\n",
    "rs_reg.fit(rs_train_X,rs_train_y)\n",
    "rs_test_pred = rs_reg.predict(rs_test_X)\n",
    "print(\"Random split R^2 = {}\".format(r2_score(rs_test_y,rs_test_pred)))"
   ]
  },
  {
   "cell_type": "code",
   "execution_count": 13,
   "metadata": {
    "scrolled": true
   },
   "outputs": [
    {
     "name": "stdout",
     "output_type": "stream",
     "text": [
      "Longitudinally split R^2 = -0.23969385314865432\n"
     ]
    }
   ],
   "source": [
    "#Longitudinally Split Case\n",
    "ls_train_y = ls_train['ratings'].to_numpy()\n",
    "ls_train_X = ls_train[features].to_numpy()\n",
    "ls_test_y = ls_test['ratings'].to_numpy()\n",
    "ls_test_X = ls_test[features].to_numpy()\n",
    "\n",
    "ls_reg = linear_model.LinearRegression()\n",
    "ls_reg.fit(ls_train_X,ls_train_y)\n",
    "ls_test_pred = ls_reg.predict(ls_test_X)\n",
    "print(\"Longitudinally split R^2 = {}\".format(r2_score(ls_test_y,ls_reg.predict(ls_test_X))))"
   ]
  },
  {
   "cell_type": "markdown",
   "metadata": {},
   "source": [
    "Here, the $R^2$ for Random split is 0.076. The $R^2$ for longitudinal split is -0.240."
   ]
  },
  {
   "cell_type": "markdown",
   "metadata": {},
   "source": [
    "### Solution 1.3.2\n",
    "\n",
    "It seems that random split has better results than longitudinal split. The reason why they have different results is following:\n",
    "\n",
    "1. Random split has larger train dataset. In radom split, there are 2,979 records in the dataset which takes up 70% in the whole dataset. However, in longitudinally split, there are only 2,204 records, which takes up about 51.8%.\n",
    "2. For random split, the train dataset consists data from 2018 to 2020. However in longitudinal split, the train dataset consist only data from 2018 to 2019. And in this case, we are trying to predict for year 2020.\n",
    "\n",
    "For longitudinal split, the $R^2$ score is negative. This means that this model fits poorly. And this model is worse than a horizontal line (which refers to prediction by using average value.)"
   ]
  },
  {
   "cell_type": "markdown",
   "metadata": {},
   "source": [
    "### Solution 1.3.3\n",
    "\n",
    "Plot the distribution of residual is easy. Here, to estimate the probability that our prediction is off by more than 2-points. We will shuffle the data 1000 times. And we train and test the model 1000 times. We will get residual each time and compute the probability of our prediction is off by more than 2-points. Then we have 1000 such probability and compute the estimate."
   ]
  },
  {
   "cell_type": "code",
   "execution_count": 14,
   "metadata": {},
   "outputs": [],
   "source": [
    "#Compute residual\n",
    "rs_residual = rs_test_y-rs_test_pred"
   ]
  },
  {
   "cell_type": "markdown",
   "metadata": {},
   "source": [
    "For this single case, the probaility is as follows:"
   ]
  },
  {
   "cell_type": "code",
   "execution_count": 17,
   "metadata": {
    "scrolled": true
   },
   "outputs": [
    {
     "name": "stdout",
     "output_type": "stream",
     "text": [
      "Probability prediction is off by more than 2-points:0.164\n"
     ]
    }
   ],
   "source": [
    "print(\"Probability prediction is off by more than 2-points:{:.3f}\".format(np.sum(np.absolute(rs_residual)>2)/len(rs_residual)))"
   ]
  },
  {
   "cell_type": "code",
   "execution_count": 18,
   "metadata": {
    "scrolled": true
   },
   "outputs": [
    {
     "name": "stderr",
     "output_type": "stream",
     "text": [
      "C:\\DEVELOPMENT\\anconda3\\lib\\site-packages\\matplotlib\\cbook\\__init__.py:1402: FutureWarning: Support for multi-dimensional indexing (e.g. `obj[:, None]`) is deprecated and will be removed in a future version.  Convert to a numpy array before indexing instead.\n",
      "  ndim = x[:, None].ndim\n",
      "C:\\DEVELOPMENT\\anconda3\\lib\\site-packages\\matplotlib\\axes\\_base.py:276: FutureWarning: Support for multi-dimensional indexing (e.g. `obj[:, None]`) is deprecated and will be removed in a future version.  Convert to a numpy array before indexing instead.\n",
      "  x = x[:, np.newaxis]\n",
      "C:\\DEVELOPMENT\\anconda3\\lib\\site-packages\\matplotlib\\axes\\_base.py:278: FutureWarning: Support for multi-dimensional indexing (e.g. `obj[:, None]`) is deprecated and will be removed in a future version.  Convert to a numpy array before indexing instead.\n",
      "  y = y[:, np.newaxis]\n"
     ]
    },
    {
     "data": {
      "image/png": "[encoded data removed]",
      "text/plain": [
       "<Figure size 432x432 with 1 Axes>"
      ]
     },
     "metadata": {
      "needs_background": "light"
     },
     "output_type": "display_data"
    }
   ],
   "source": [
    "#Plot Distribution of residual\n",
    "\n",
    "fig, ax = plt.subplots(figsize=(6,6))\n",
    "sns.histplot(ax=ax,data=rs_residual,stat='density',kde='true')\n",
    "ax.set_title('Distribution of residual')\n",
    "ax.set_xlabel('residual')\n",
    "ax.set_ylabel('density')\n",
    "plt.show()"
   ]
  },
  {
   "cell_type": "code",
   "execution_count": 19,
   "metadata": {},
   "outputs": [],
   "source": [
    "N_bootstrap = 1000\n",
    "p_array = np.zeros(N_bootstrap) #Initialize the probability array of off by 2-points\n",
    "\n",
    "#Compute the probability each time\n",
    "for i in range(N_bootstrap):\n",
    "    rs_train, rs_test = train_test_split(paper,shuffle=True,test_size=0.3)\n",
    "    rs_train_y = rs_train['ratings'].to_numpy()\n",
    "    rs_train_X = rs_train[features].to_numpy()\n",
    "    rs_test_y = rs_test['ratings'].to_numpy()\n",
    "    rs_test_X = rs_test[features].to_numpy()\n",
    "\n",
    "    rs_reg = linear_model.LinearRegression()\n",
    "    rs_reg.fit(rs_train_X,rs_train_y)\n",
    "    rs_test_pred = rs_reg.predict(rs_test_X)\n",
    "    rs_residual = rs_test_y-rs_test_pred\n",
    "    p_array[i] = np.sum(np.absolute(rs_residual)>2)/len(rs_residual)"
   ]
  },
  {
   "cell_type": "markdown",
   "metadata": {},
   "source": [
    "Here, we get an array of probability of our predciton off by 2-points. We can visualize and estimate it."
   ]
  },
  {
   "cell_type": "code",
   "execution_count": 20,
   "metadata": {
    "scrolled": true
   },
   "outputs": [
    {
     "name": "stderr",
     "output_type": "stream",
     "text": [
      "C:\\DEVELOPMENT\\anconda3\\lib\\site-packages\\matplotlib\\cbook\\__init__.py:1402: FutureWarning: Support for multi-dimensional indexing (e.g. `obj[:, None]`) is deprecated and will be removed in a future version.  Convert to a numpy array before indexing instead.\n",
      "  ndim = x[:, None].ndim\n",
      "C:\\DEVELOPMENT\\anconda3\\lib\\site-packages\\matplotlib\\axes\\_base.py:276: FutureWarning: Support for multi-dimensional indexing (e.g. `obj[:, None]`) is deprecated and will be removed in a future version.  Convert to a numpy array before indexing instead.\n",
      "  x = x[:, np.newaxis]\n",
      "C:\\DEVELOPMENT\\anconda3\\lib\\site-packages\\matplotlib\\axes\\_base.py:278: FutureWarning: Support for multi-dimensional indexing (e.g. `obj[:, None]`) is deprecated and will be removed in a future version.  Convert to a numpy array before indexing instead.\n",
      "  y = y[:, np.newaxis]\n"
     ]
    },
    {
     "data": {
      "image/png": "[encoded data removed]",
      "text/plain": [
       "<Figure size 432x432 with 1 Axes>"
      ]
     },
     "metadata": {
      "needs_background": "light"
     },
     "output_type": "display_data"
    }
   ],
   "source": [
    "fig, ax = plt.subplots(figsize=(6,6))\n",
    "sns.histplot(ax=ax,data=p_array,stat='density',kde='true')\n",
    "ax.set_title('Distribution of probability')\n",
    "ax.set_xlabel('probility')\n",
    "ax.set_ylabel('density')\n",
    "plt.show()"
   ]
  },
  {
   "cell_type": "code",
   "execution_count": 21,
   "metadata": {},
   "outputs": [],
   "source": [
    "#Define the function to calculate confidence interval\n",
    "#We comput confidence interval using t t-tes\n",
    "def CI_Calculate(data,confidence):\n",
    "    mean = np.mean(data)\n",
    "    std_err = stats.sem(data)\n",
    "    h = stats.sem(data) * stats.t.ppf((1 + confidence) / 2, len(data) - 1)\n",
    "    return mean, (mean-h,mean+h)"
   ]
  },
  {
   "cell_type": "code",
   "execution_count": 22,
   "metadata": {},
   "outputs": [],
   "source": [
    "#Compute the confidence interval\n",
    "p_mean,p_interval=CI_Calculate(p_array,0.95) "
   ]
  },
  {
   "cell_type": "code",
   "execution_count": 24,
   "metadata": {},
   "outputs": [
    {
     "name": "stdout",
     "output_type": "stream",
     "text": [
      "estimate of probability:0.161\n",
      "confidence interval with 0.95 confidence:(0.1609,0.1619)\n"
     ]
    }
   ],
   "source": [
    "print(\"estimate of probability:{:.3f}\".format(p_mean))\n",
    "print(\"confidence interval with 0.95 confidence:({:.4f},{:.4f})\".format(p_interval[0],p_interval[1]))"
   ]
  },
  {
   "cell_type": "markdown",
   "metadata": {},
   "source": [
    " Therefore, we estimate that the probability our prediction is off by more than 2-points is 0.161. And the confidence interval is between $(0.1609,0.1619)$ with 95% confidence."
   ]
  },
  {
   "cell_type": "markdown",
   "metadata": {},
   "source": [
    "### Solution 1.3.4\n",
    "\n",
    "Features we are going to add are 'arxiv','has_top_company' and 'has_top_institution'."
   ]
  },
  {
   "cell_type": "code",
   "execution_count": 31,
   "metadata": {},
   "outputs": [
    {
     "name": "stdout",
     "output_type": "stream",
     "text": [
      "R^2 = 0.124\n"
     ]
    }
   ],
   "source": [
    "rs_train, rs_test = train_test_split(paper,shuffle=True,test_size=0.3)\n",
    "\n",
    "features_new = ['authors_publications_median','authors_citations_median','authors_hindex_median','reputation','arxiv','has_top_company','has_top_institution']\n",
    "\n",
    "rs_train_y = rs_train['ratings'].to_numpy()\n",
    "rs_train_X = rs_train[features_new].to_numpy()\n",
    "rs_test_y = rs_test['ratings'].to_numpy()\n",
    "rs_test_X = rs_test[features_new].to_numpy()\n",
    "\n",
    "rs_reg = linear_model.LinearRegression()\n",
    "rs_reg.fit(rs_train_X,rs_train_y)\n",
    "rs_test_pred = rs_reg.predict(rs_test_X)\n",
    "\n",
    "print(\"R^2 = {:.3f}\".format(r2_score(rs_test_y,rs_test_pred)))"
   ]
  },
  {
   "cell_type": "markdown",
   "metadata": {},
   "source": [
    "$R^2$ value increased a little compared to orignal case which indicate that our new feature boost the performance of model."
   ]
  },
  {
   "cell_type": "markdown",
   "metadata": {},
   "source": [
    "### Task 1.4\n",
    "\n",
    "Experiment with training a different regressor, a [Gradient Boosting Regressor](https://scikit-learn.org/stable/modules/ensemble.html?highlight=xgboost#gradient-boosting). This regressor is analogous to the Gradient Boosting Classifier that you have seen in class. This model performs extremely well for a variety of tasks and is often used in machine learning competitions for tabular data (e.g., on [Kaggle](www.kaggle.com)). You must:\n",
    "\n",
    "1. Train a Gradient Boosting Regressor without specifying any parameters, e.g. `GradientBoostingRegressor().fit(X, y)`, and report its $R^2$ on the testing set. Your model should again use as features:\n",
    "    - Median values for the number of author citations, publications and h-indexes as calculated in Task 1.1.1.\n",
    "    - `reputation` of the last author, as calculated in Task 1.1.2.\n",
    "2. Create an additional feature called $crazy$, which is derived as follows. If the score  of the paper, $ratings$, is bigger than 4.96, then $crazy = 9 - ratings$, otherwise, $crazy = - ratings$. Train a Gradient Boosting Regressor to predict paper scores using only $crazy$ as a feature. Additionally, train a Linear Regression model to predict paper scores using only $crazy$ as a feature. Report the $R^2$ in the testing set.\n",
    "3. **Discuss:** Why does the Gradient Boosting Regressor perform so much better?"
   ]
  },
  {
   "cell_type": "markdown",
   "metadata": {},
   "source": [
    "### Solution 1.4.1"
   ]
  },
  {
   "cell_type": "code",
   "execution_count": 33,
   "metadata": {},
   "outputs": [
    {
     "name": "stdout",
     "output_type": "stream",
     "text": [
      "R^2 = 0.11297035272508582\n"
     ]
    }
   ],
   "source": [
    "#Random Split\n",
    "features = ['authors_publications_median','authors_citations_median','authors_hindex_median','reputation']\n",
    "rs_train_y = rs_train['ratings'].to_numpy()\n",
    "rs_train_X = rs_train[features].to_numpy()\n",
    "rs_test_y = rs_test['ratings'].to_numpy()\n",
    "rs_test_X = rs_test[features].to_numpy()\n",
    "\n",
    "rs_model_gbr = GradientBoostingRegressor().fit(rs_train_X,rs_train_y)\n",
    "\n",
    "print(\"R^2 = {}\".format(r2_score(rs_test_y,rs_model_gbr.predict(rs_test_X))))"
   ]
  },
  {
   "cell_type": "markdown",
   "metadata": {},
   "source": [
    "### Solution 1.4.2"
   ]
  },
  {
   "cell_type": "markdown",
   "metadata": {},
   "source": [
    "We already created 'crazy' in task 1.1."
   ]
  },
  {
   "cell_type": "code",
   "execution_count": 34,
   "metadata": {},
   "outputs": [
    {
     "name": "stdout",
     "output_type": "stream",
     "text": [
      "Gradient Boosting Regressor R^2=0.9999966954886648\n",
      "Linear Regression R^2=0.41798970259263846\n"
     ]
    }
   ],
   "source": [
    "#Random Split\n",
    "rs_train_y = rs_train['ratings'].to_numpy()\n",
    "rs_train_X = rs_train['crazy'].to_numpy().reshape(-1,1)\n",
    "rs_test_y = rs_test['ratings'].to_numpy()\n",
    "rs_test_X = rs_test['crazy'].to_numpy().reshape(-1,1)\n",
    "\n",
    "rs_model_gbr = GradientBoostingRegressor().fit(rs_train_X,rs_train_y)#GBR model\n",
    "\n",
    "rs_reg = linear_model.LinearRegression()#Linear regression\n",
    "rs_reg.fit(rs_train_X,rs_train_y)\n",
    "\n",
    "\n",
    "print(\"Gradient Boosting Regressor R^2={}\".format(r2_score(rs_test_y,rs_model_gbr.predict(rs_test_X))))\n",
    "print(\"Linear Regression R^2={}\".format(r2_score(rs_test_y,rs_reg.predict(rs_test_X))))"
   ]
  },
  {
   "cell_type": "markdown",
   "metadata": {},
   "source": [
    "### 1.4.3 Solution\n",
    "\n",
    "Here, Gradient boosting regression is much better than linear regression. And The $R^2$ score of Gradient Boosting Regressor is very close to 1 which means that this model almost predict completely correct. \n",
    "\n",
    "The reason why result is different is that gradient boosting regressor use regression tree to fit the model. And This is consistent with the 'crazy' feature. The creation of 'crazy' feature can be considered as a decision tree. However, for linear regressor, it fits the model linearly which may not get good results."
   ]
  },
  {
   "cell_type": "markdown",
   "metadata": {},
   "source": [
    "### Task 1.5\n",
    "\n",
    "Complex models often have several hyper-parameters. \n",
    "To obtain the best results, it is common-place to use a cross-validation set-up in your training data to find the best hyper-parameters, and then use it for the test set.\n",
    "\n",
    "\n",
    "1. Write modular code (i.e., a function) to divide your training data into $N$ folds and perform cross-validation.\n",
    "2.  Experiment tuning two hyper-parameters of the Gradient Boosting Regressor: `n_estimators` and `learning_rate`.\n",
    "For each possible combination of the two hyper-parameters (see below for the range of values that you should try for each hyper-parameter), train your model in a cross-validation setup with $N$=20. Report the mean $R^2$ along with the 90% CI for the 18 scenarios. Notice that you can calculate the 90% CI in a bootstrap-like fashion.\n",
    "    - `n_estimators`$ \\in  \\{ 50, 75, 100, 150, 200, 250\\}$\n",
    "    - `learning_rate`$ \\in  \\{ 0.1, 0.05, 0.01\\}$.\n",
    "3. With the best hyper-parameters obtained, train your model with the entire training set and report the $R^2$ on the testing set.\n",
    "4. **Discuss:** Why don't we tune the hyper-parameters in the testing set instead of doing cross-validation in the training set?"
   ]
  },
  {
   "cell_type": "markdown",
   "metadata": {},
   "source": [
    "### Solution 1.5.1 "
   ]
  },
  {
   "cell_type": "code",
   "execution_count": 37,
   "metadata": {},
   "outputs": [],
   "source": [
    "# In this task, we still use following features\n",
    "features = ['authors_publications_median','authors_citations_median','authors_hindex_median','reputation']\n",
    "rs_train, rs_test = train_test_split(paper,shuffle=True,test_size=0.3)\n",
    "rs_train_y = rs_train['ratings'].to_numpy()\n",
    "rs_train_X = rs_train[features].to_numpy()\n",
    "rs_test_y = rs_test['ratings'].to_numpy()\n",
    "rs_test_X = rs_test[features].to_numpy()"
   ]
  },
  {
   "cell_type": "code",
   "execution_count": 38,
   "metadata": {},
   "outputs": [],
   "source": [
    "def Divide_Cross_Validation(train_X,train_y,num_folds,n_estimators=100,learning_rate=0.1):\n",
    "    #Prameters: train_X, train_y, num_folds,n_estimators,learning_rate\n",
    "        #train_X: a numpy array contain X of training data\n",
    "        #train_y: a numpy array contain y of trainning data\n",
    "        #num_folds: number of folds to preform cross-validation\n",
    "        #n_estimators: number of estimators (default value = 100)\n",
    "        #learning_rate: learning rate (default value = 0.1)\n",
    "    #Return: an array contain R^2 values\n",
    "    cv_results = cross_validate(GradientBoostingRegressor(n_estimators=n_estimators,learning_rate=learning_rate),train_X,train_y,scoring='r2',cv=num_folds)\n",
    "    return cv_results['test_score']"
   ]
  },
  {
   "cell_type": "code",
   "execution_count": 39,
   "metadata": {
    "scrolled": true
   },
   "outputs": [
    {
     "name": "stdout",
     "output_type": "stream",
     "text": [
      "[ 0.06489047 -0.06016732  0.0656773   0.2055973   0.0415351  -0.00591613\n",
      "  0.07799247 -0.00500517  0.08942344  0.10099976  0.12442286  0.1562064\n",
      "  0.11197952  0.14460351  0.07915095  0.12906864  0.10165925  0.11824116\n",
      "  0.13431238  0.08374558]\n"
     ]
    }
   ],
   "source": [
    "#Use the modular function to do cross-validation\n",
    "print(Divide_Cross_Validation(rs_train_X,rs_train_y,20))"
   ]
  },
  {
   "cell_type": "markdown",
   "metadata": {},
   "source": [
    "### Solution 1.5.2\n"
   ]
  },
  {
   "cell_type": "markdown",
   "metadata": {},
   "source": [
    "We still use orignal features here. \n",
    "\n",
    "features = ['authors_publications_median','authors_citations_median','authors_hindex_median','reputation']"
   ]
  },
  {
   "cell_type": "code",
   "execution_count": 40,
   "metadata": {
    "scrolled": true
   },
   "outputs": [
    {
     "name": "stdout",
     "output_type": "stream",
     "text": [
      "Best n_estimators:75\n",
      "Best learning rate:0.05\n"
     ]
    }
   ],
   "source": [
    "list_estimators = [50,75,100,150,200,250]\n",
    "list_learning_rate = [0.1,0.05,0.01]\n",
    "best_n_estimators = 50\n",
    "best_learning_rate = 0.1\n",
    "best_score = np.NINF\n",
    "mean_r2_array = np.zeros(18)\n",
    "mean_r2_iter = 0\n",
    "\n",
    "for n_estimators in list_estimators:\n",
    "    for learning_rate in list_learning_rate:\n",
    "        r2_array = Divide_Cross_Validation(rs_train_X,rs_train_y,20,n_estimators,learning_rate)\n",
    "        mean_r2_array[mean_r2_iter] = np.mean(r2_array)\n",
    "        mean_r2_iter = mean_r2_iter + 1\n",
    "        if np.mean(r2_array)>best_score:\n",
    "            best_n_estimators = n_estimators\n",
    "            best_learning_rate = learning_rate\n",
    "            best_score = np.mean(r2_array)\n",
    "\n",
    "print(\"Best n_estimators:{}\".format(best_n_estimators))\n",
    "print(\"Best learning rate:{}\".format(best_learning_rate))"
   ]
  },
  {
   "cell_type": "code",
   "execution_count": 143,
   "metadata": {},
   "outputs": [
    {
     "name": "stdout",
     "output_type": "stream",
     "text": [
      "Mean R^2:0.0829\n",
      "Confidence Interval:(0.0773,0.0886)\n"
     ]
    }
   ],
   "source": [
    "r2_mean,r2_interval =  CI_Calculate(mean_r2_array,0.90)\n",
    "print(\"Mean R^2:{:.4f}\".format(r2_mean))\n",
    "print(\"Confidence Interval:({:.4f},{:.4f})\".format(r2_interval[0],r2_interval[1]))"
   ]
  },
  {
   "cell_type": "markdown",
   "metadata": {},
   "source": [
    "Here, the mean $R^2$ is 0.0829. And it's in the confidence interval (0.0773,0.0886) with 0.9 confidence."
   ]
  },
  {
   "cell_type": "markdown",
   "metadata": {},
   "source": [
    "### Solution 1.5.3"
   ]
  },
  {
   "cell_type": "code",
   "execution_count": 46,
   "metadata": {},
   "outputs": [
    {
     "name": "stdout",
     "output_type": "stream",
     "text": [
      "Best model R^2: 0.1044\n"
     ]
    }
   ],
   "source": [
    "best_model_gbr = GradientBoostingRegressor(n_estimators = best_n_estimators,learning_rate = best_learning_rate).fit(rs_train_X,rs_train_y)\n",
    "print(\"Best model R^2: {:.4f}\".format(r2_score(rs_test_y,best_model_gbr.predict(rs_test_X))))"
   ]
  },
  {
   "cell_type": "markdown",
   "metadata": {},
   "source": [
    "### Solution 1.5.4\n",
    "\n",
    "The test dataset is only for test. If we tune the hyper-parameters in the testing set. We are actually using the testing set to train our datset which makes no sense. Therefore, we do cross-validation in the trainning set."
   ]
  },
  {
   "cell_type": "markdown",
   "metadata": {},
   "source": [
    "## _Step 2:_ What influences papers getting accepted?\n",
    "\n",
    "Time to change hats!\n",
    "\n",
    "If before we were interested in creating an accurate regressor, now we are interested in understanding what increases the chance of papers getting accepted. \n",
    "\n",
    "Typically, in that scenario, simpler models with a clear statistical interpretation (e.g. logistic regression) yield more interesting insights.\n",
    "\n",
    "For the analysis in this and the next step, you should use [statsmodels](https://www.statsmodels.org/) (for the regressions) and [scipy](https://www.scipy.org/) (for the statistical hypothesis testing).\n"
   ]
  },
  {
   "cell_type": "markdown",
   "metadata": {},
   "source": [
    "### Task 2.1\n",
    "\n",
    "Let's warm up with some visualizations and some hypothesis testing!\n",
    "\n",
    "1. Plot the distributions of 1) ratings of papers that got accepted in 2020, 2) ratings of papers that got rejected in 2020.\n",
    "2. Select a statistical test to compare whether the mean for ratings of papers that got accepted in 2020 is significantly higher.\n",
    "3. **Discuss:** Justify why the statistical test you selected is appropriate. Interpret the test-related statistic and its p-value: concretely, what do they mean?"
   ]
  },
  {
   "cell_type": "markdown",
   "metadata": {},
   "source": [
    "### Solution 2.1.1"
   ]
  },
  {
   "cell_type": "code",
   "execution_count": 73,
   "metadata": {},
   "outputs": [],
   "source": [
    "paper_2020 = paper.loc[paper['year'] ==2020].copy()\n",
    "\n",
    "accepted_paper_2020 = paper_2020.loc[(paper['decisions']==True)]\n",
    "rejected_paper_2020 = paper_2020.loc[(paper['decisions']==False)]"
   ]
  },
  {
   "cell_type": "code",
   "execution_count": 74,
   "metadata": {},
   "outputs": [
    {
     "name": "stderr",
     "output_type": "stream",
     "text": [
      "C:\\DEVELOPMENT\\anconda3\\lib\\site-packages\\matplotlib\\cbook\\__init__.py:1402: FutureWarning: Support for multi-dimensional indexing (e.g. `obj[:, None]`) is deprecated and will be removed in a future version.  Convert to a numpy array before indexing instead.\n",
      "  ndim = x[:, None].ndim\n",
      "C:\\DEVELOPMENT\\anconda3\\lib\\site-packages\\matplotlib\\axes\\_base.py:276: FutureWarning: Support for multi-dimensional indexing (e.g. `obj[:, None]`) is deprecated and will be removed in a future version.  Convert to a numpy array before indexing instead.\n",
      "  x = x[:, np.newaxis]\n",
      "C:\\DEVELOPMENT\\anconda3\\lib\\site-packages\\matplotlib\\axes\\_base.py:278: FutureWarning: Support for multi-dimensional indexing (e.g. `obj[:, None]`) is deprecated and will be removed in a future version.  Convert to a numpy array before indexing instead.\n",
      "  y = y[:, np.newaxis]\n"
     ]
    },
    {
     "data": {
      "image/png": "[encoded data removed]",
      "text/plain": [
       "<Figure size 432x432 with 1 Axes>"
      ]
     },
     "metadata": {
      "needs_background": "light"
     },
     "output_type": "display_data"
    }
   ],
   "source": [
    "fig, ax = plt.subplots(figsize=(6,6))\n",
    "sns.histplot(ax=ax,data=accepted_paper_2020['ratings'],stat='density',kde='true')\n",
    "ax.set_title('Distribution of ratings of accepted papers')\n",
    "ax.set_xlabel('ratings')\n",
    "ax.set_ylabel('density')\n",
    "plt.show()"
   ]
  },
  {
   "cell_type": "code",
   "execution_count": 75,
   "metadata": {
    "scrolled": true
   },
   "outputs": [
    {
     "name": "stderr",
     "output_type": "stream",
     "text": [
      "C:\\DEVELOPMENT\\anconda3\\lib\\site-packages\\matplotlib\\cbook\\__init__.py:1402: FutureWarning: Support for multi-dimensional indexing (e.g. `obj[:, None]`) is deprecated and will be removed in a future version.  Convert to a numpy array before indexing instead.\n",
      "  ndim = x[:, None].ndim\n",
      "C:\\DEVELOPMENT\\anconda3\\lib\\site-packages\\matplotlib\\axes\\_base.py:276: FutureWarning: Support for multi-dimensional indexing (e.g. `obj[:, None]`) is deprecated and will be removed in a future version.  Convert to a numpy array before indexing instead.\n",
      "  x = x[:, np.newaxis]\n",
      "C:\\DEVELOPMENT\\anconda3\\lib\\site-packages\\matplotlib\\axes\\_base.py:278: FutureWarning: Support for multi-dimensional indexing (e.g. `obj[:, None]`) is deprecated and will be removed in a future version.  Convert to a numpy array before indexing instead.\n",
      "  y = y[:, np.newaxis]\n"
     ]
    },
    {
     "data": {
      "image/png": "[encoded data removed]",
      "text/plain": [
       "<Figure size 432x432 with 1 Axes>"
      ]
     },
     "metadata": {
      "needs_background": "light"
     },
     "output_type": "display_data"
    }
   ],
   "source": [
    "fig, ax = plt.subplots(figsize=(6,6))\n",
    "sns.histplot(ax=ax,data=rejected_paper_2020['ratings'],stat='density',kde='true')\n",
    "ax.set_title('Distribution of ratings for rejected papers')\n",
    "ax.set_xlabel('ratings')\n",
    "ax.set_ylabel('density')\n",
    "plt.show()"
   ]
  },
  {
   "cell_type": "markdown",
   "metadata": {},
   "source": [
    "### Solution 2.1.2 \n",
    "\n",
    "Here, the null hypothesis is \n",
    "$$H_0: \\mu_1 \\leq \\mu_2$$\n",
    "\n",
    "And the alternative hypothesis is\n",
    "$$H_A: \\mu_1 > \\mu_2$$\n",
    "\n",
    "Since we don't know the real mean and standard deviation for their distribution and they have different sample sizes. We can use t-test to test this hypothesis. t-test is suitable for this case. \n",
    "\n",
    "For papers accepted in 2020. The number of observations is 629. The mean is 6.139 and the std is 0.805.\n",
    "\n",
    "For papers rejected in 2020. The number of observations is 1423. The mean is 3.683 and the std is 1.233.\n",
    "\n",
    "The degrees of freedoms are $$df = N_0 + N_1 -2 = 2050$$\n",
    "\n",
    "t-statistics can be computed as follows:\n",
    "$$t = \\frac{\\mu_0-\\mu_1}{\\sqrt{\\frac{S_0^2}{N_0}+\\frac{S_1^2}{N_1}}}$$\n",
    "\n",
    "And there is a p-value corresponds to the t-statistics.\n",
    "\n",
    "Finally, we get that the t-statistics is 53.562. And the p-value is 0.0. This indicates that their means are significantly different. We should reject the null hypothesis.\n",
    "\n",
    "Following codes relates to the calculations of numbers appeared in the statistical test."
   ]
  },
  {
   "cell_type": "code",
   "execution_count": 76,
   "metadata": {},
   "outputs": [
    {
     "name": "stdout",
     "output_type": "stream",
     "text": [
      "For papers accepted in 2020\n",
      "Numbers:629\n",
      "Mean value:6.139\n",
      "Standard deviation:0.805\n"
     ]
    }
   ],
   "source": [
    "print(\"For papers accepted in 2020\")\n",
    "print(\"Numbers:{}\".format(len(accepted_paper_2020)))\n",
    "print(\"Mean value:{:.3f}\".format(np.mean(accepted_paper_2020['ratings'])))\n",
    "print(\"Standard deviation:{:.3f}\".format(np.std(accepted_paper_2020['ratings'])))"
   ]
  },
  {
   "cell_type": "code",
   "execution_count": 77,
   "metadata": {},
   "outputs": [
    {
     "name": "stdout",
     "output_type": "stream",
     "text": [
      "For papers rejected in 2020\n",
      "Numbers:1423\n",
      "Mean value:3.683\n",
      "Standard deviation:1.233\n"
     ]
    }
   ],
   "source": [
    "print(\"For papers rejected in 2020\")\n",
    "print(\"Numbers:{}\".format(len(rejected_paper_2020)))\n",
    "print(\"Mean value:{:.3f}\".format(np.mean(rejected_paper_2020['ratings'])))\n",
    "print(\"Standard deviation:{:.3f}\".format(np.std(rejected_paper_2020['ratings'])))"
   ]
  },
  {
   "cell_type": "code",
   "execution_count": 78,
   "metadata": {
    "scrolled": true
   },
   "outputs": [
    {
     "name": "stdout",
     "output_type": "stream",
     "text": [
      "degrees of freedoms:2050\n"
     ]
    }
   ],
   "source": [
    "print(\"degrees of freedoms:{}\".format(len(accepted_paper_2020)+len(rejected_paper_2020)-2))"
   ]
  },
  {
   "cell_type": "code",
   "execution_count": 79,
   "metadata": {},
   "outputs": [
    {
     "data": {
      "text/plain": [
       "53.61199133102332"
      ]
     },
     "execution_count": 79,
     "metadata": {},
     "output_type": "execute_result"
    }
   ],
   "source": [
    "#The t-statistics\n",
    "(6.139-3.683)/(math.sqrt(0.805*0.805/629+1.233*1.233/1423))"
   ]
  },
  {
   "cell_type": "code",
   "execution_count": 80,
   "metadata": {},
   "outputs": [
    {
     "data": {
      "text/plain": [
       "Ttest_indResult(statistic=53.56214101855919, pvalue=0.0)"
      ]
     },
     "execution_count": 80,
     "metadata": {},
     "output_type": "execute_result"
    }
   ],
   "source": [
    "stats.ttest_ind(accepted_paper_2020['ratings'].to_numpy(), rejected_paper_2020['ratings'].to_numpy(), equal_var = False)"
   ]
  },
  {
   "cell_type": "markdown",
   "metadata": {},
   "source": [
    "### Solution 2.1.3\n",
    "We are using t-test because of following reasons:\n",
    "\n",
    "1. t-test is suitable for comparing means of two samples\n",
    "2. Our samples have different sample size.\n",
    "3. We don't know the actual distribution of these samples."
   ]
  },
  {
   "cell_type": "markdown",
   "metadata": {},
   "source": [
    "### Task 2.2\n",
    "\n",
    "We will now carry out a logistic regression modeling the binary variable `decisions` as a function of the continuous variable `ratings` and an intercept. \n",
    "\n",
    "Recall that a logistic regression is a model in the form:\n",
    "\n",
    "$$\n",
    "\\log \\Big( \\frac{p}{1-p} \\Big) = b_0 + b_1x_1 + b_2x_2 + \\ldots\n",
    "$$\n",
    "\n",
    "Where $p$ is the probability of the dependent variable (here, `decisions`) being equals to 1. \n",
    "Note that $\\frac{p}{1-p}$ represents the odds of the variable, and thus, on the left-hand side we have the log-odds of the variable.\n",
    "This can be also written as:\n",
    "\n",
    "$$\n",
    "\\Big( \\frac{p}{1-p} \\Big) = e^{b_0 + b_1 x_1 + b_2 x_2 + \\ldots} =  e^{b_0} e^{b_1 x_1} e^{b_2 x_2} \\ldots\n",
    "$$\n",
    "\n",
    "Given a linear variable, say $x_1$, if we increase the value associated with this variable by a single unit, and keep everything constant, we have:\n",
    "\n",
    "$$\n",
    " e^{b_1(x_1+1)} =  e^{b_1 x_1 + b_1} = e^{b_1 x_1}e^{b_1}  \n",
    "$$\n",
    "\n",
    "This means that we multiply the odds of the outcome variable by $e^{b_1}$. Thus, let's say that $x_1$ is the average rating, and $\\beta_1$ is the associated coefficient. Also, let's assume that $\\beta_1$ equals 2. In that case, increasing the score of the paper by 1 unit is equivalent to multiplying both sides of the previous equation by $e^{b_1}$. The original equation for our model becomes:\n",
    "\n",
    "$$\n",
    "\\Big( \\frac{p}{1-p} \\Big) = e^{b_0} e^{b_1 x_1} \n",
    "$$\n",
    "$$\n",
    "\\Big( \\frac{p}{1-p} \\Big) e^{b_1}  = e^{b_0} e^{b_1 x_1} e^{b_1}\n",
    "$$\n",
    "\n",
    "Since $b_1=2$, we have that this is the same as multiplying the odds of the variable by $e^2\\approx7$. \n",
    "So for example, if a paper with a score 5 had $p=0.05$ of being approved, its odds would be $0.05/0.95\\approx0.052$. According to our model, an increase in 1-rating point would mean that the new odds would be $0.052*7\\approx0.36$. Using the odds formula  ($\\frac{p}{1-p}$), this suggests that this paper would have a chance of $0.56$ of being accepted.\n",
    "\n",
    "---\n",
    "\n",
    "This is the theory. Now, let's find out what the real world looks like.\n",
    "\n",
    "\n",
    "1. Fit a logistic regression model to our data considering as the training set all papers submitted in 2020. Your model should predict a binary variable related to decisions (which equals true if the paper was accepted and false otherwise) as a function of the paper ratings and an intercept. In mathematical notation:\n",
    "$$\n",
    "d = b_0 + r b_1\n",
    "$$\n",
    "Where $d$ is the binary variable corresponding to a decision, $r$ is a numeric variable corresponding to the rating a paper has received and $b$ are coefficients.\n",
    "Notice that here we have no testing set!\n",
    "Report the summary of your model. \n",
    "2. **Discuss:** Interpreting the coefficients of your model, calculate the probability that a paper with a score 7 will be accepted.\n"
   ]
  },
  {
   "cell_type": "markdown",
   "metadata": {},
   "source": [
    "### Solution 2.2.1"
   ]
  },
  {
   "cell_type": "code",
   "execution_count": 81,
   "metadata": {},
   "outputs": [
    {
     "data": {
      "text/plain": [
       "LogisticRegression()"
      ]
     },
     "execution_count": 81,
     "metadata": {},
     "output_type": "execute_result"
    }
   ],
   "source": [
    "logistic_train_X = paper_2020['ratings'].to_numpy().reshape(-1,1)\n",
    "logistic_train_y = paper_2020['decisions'].to_numpy()\n",
    "log_model = linear_model.LogisticRegression(fit_intercept=True)\n",
    "\n",
    "log_model.fit(logistic_train_X,logistic_train_y)"
   ]
  },
  {
   "cell_type": "code",
   "execution_count": 82,
   "metadata": {},
   "outputs": [
    {
     "data": {
      "text/plain": [
       "array([[2.33911659]])"
      ]
     },
     "execution_count": 82,
     "metadata": {},
     "output_type": "execute_result"
    }
   ],
   "source": [
    "log_model.coef_"
   ]
  },
  {
   "cell_type": "code",
   "execution_count": 83,
   "metadata": {
    "scrolled": true
   },
   "outputs": [
    {
     "data": {
      "text/plain": [
       "array([-12.73047846])"
      ]
     },
     "execution_count": 83,
     "metadata": {},
     "output_type": "execute_result"
    }
   ],
   "source": [
    "log_model.intercept_"
   ]
  },
  {
   "cell_type": "markdown",
   "metadata": {},
   "source": [
    "Here, we conclude that $b_0 = -12.730$ and $b_1 = 2.339$"
   ]
  },
  {
   "cell_type": "markdown",
   "metadata": {},
   "source": [
    "### Solution 2.2.2\n",
    "\n",
    "$$\n",
    "\\begin{align}\n",
    "    log(\\frac{p}{1-p}) &=& &b_0 + b_1 x_1 \\\\\n",
    "                       &=& &-12.730 + 2.339\\times7 \\\\\n",
    "                       &=& &3.643\n",
    "\\end{align}\n",
    "$$\n",
    "\n",
    "\n",
    "Then we can solve that $p = \\frac{e^{3.643}}{1+e^{3.643}}=0.974$\n",
    "Therefore, the probability that a paper with a score 7 will be accepted is 0.974."
   ]
  },
  {
   "cell_type": "markdown",
   "metadata": {},
   "source": [
    "### Task 2.3\n",
    "\n",
    "Our model is not so interesting since the only independent variable (that is, our model' feature or predictor) is something blatantly associated with paper acceptance. Let's go further! \n",
    "\n",
    "1. Run a logistic regression with the binary decision as the dependent variable (the outcome) and using as independent variables (the features): ratings, the reputation of the last author, and whether the paper was on arxiv or not. That is, in [patsy-style formula](https://patsy.readthedocs.io/en/latest/formulas.html): `decisions ~ ratings + reputation + arxiv` (variable names do not need to be exactly these). Consider all papers submitted in 2020 as your training data.\n",
    "Notice that reputation was calculated in Task 1.1. \n",
    "2. **Discuss:** Unlike `ratings` and `reputation`, the variable `arxiv` is binary. Following the same logic as we did for continuous variables in the text of Task 2.2, interpret the meaning of this coefficient. What happens to the odds ratio if the paper was seen in arxiv? Is this effect statistically significant?"
   ]
  },
  {
   "cell_type": "markdown",
   "metadata": {},
   "source": [
    "### Solution 2.3.1"
   ]
  },
  {
   "cell_type": "code",
   "execution_count": 147,
   "metadata": {},
   "outputs": [
    {
     "data": {
      "text/plain": [
       "LogisticRegression()"
      ]
     },
     "execution_count": 147,
     "metadata": {},
     "output_type": "execute_result"
    }
   ],
   "source": [
    "log_features = ['ratings','reputation','arxiv']\n",
    "\n",
    "logistic_train_X = paper_2020[log_features].to_numpy()\n",
    "logistic_train_y = paper_2020['decisions'].to_numpy()\n",
    "log_model = linear_model.LogisticRegression(fit_intercept=True)\n",
    "\n",
    "log_model.fit(logistic_train_X,logistic_train_y)"
   ]
  },
  {
   "cell_type": "code",
   "execution_count": 148,
   "metadata": {},
   "outputs": [
    {
     "data": {
      "text/plain": [
       "array([[2.32609507, 0.22254585, 0.28146655]])"
      ]
     },
     "execution_count": 148,
     "metadata": {},
     "output_type": "execute_result"
    }
   ],
   "source": [
    "log_model.coef_"
   ]
  },
  {
   "cell_type": "code",
   "execution_count": 149,
   "metadata": {},
   "outputs": [
    {
     "data": {
      "text/plain": [
       "array([-13.06731333])"
      ]
     },
     "execution_count": 149,
     "metadata": {},
     "output_type": "execute_result"
    }
   ],
   "source": [
    "log_model.intercept_"
   ]
  },
  {
   "cell_type": "markdown",
   "metadata": {},
   "source": [
    "### Solution 2.3.2\n",
    "\n",
    "For our logistic regression model in 2.3.1:\n",
    "\n",
    "$$\n",
    "\\log \\Big( \\frac{p}{1-p} \\Big) = b_0 + b_1x_1 + b_2x_2 + b_3x_3\n",
    "$$\n",
    "\n",
    "And we consider $x_3$ as arxiv. It's a binary variable. There are two cases here. Wether $x_3 = 0$ or $x_3 =1$\n",
    "\n",
    "if $x_3=0$, $\\exp^{b_3x_3} = 1$. If $x_3=1$,$e^{b_3x_3} = e^{b_3} = e^{0.2814} = 1.325$\n",
    "\n",
    "In these two cases, the models are\n",
    "\n",
    "$$\n",
    "\\frac{p}{1-p} = e^{b_0}e^{b_1}e^{b_2} \n",
    "$$\n",
    "\n",
    "and \n",
    "$$\n",
    "\\frac{p}{1-p} = e^{b_0}e^{b_1}e^{b_2} e^{b_3}\n",
    "$$\n",
    "\n",
    "Therefore, the odds ration multiplies 1.325 when paper is seen in arxiv. And this will definitely effect statistical significance."
   ]
  },
  {
   "cell_type": "markdown",
   "metadata": {},
   "source": [
    "### Task 2.4\n",
    "\n",
    "Let's finally move on to the question that you have been dying to answer: Do pre-prints favor top institutions? \n",
    "\n",
    "In order to (try to) answer that question, you must fit yet another logistic regression.\n",
    "\n",
    "Your regression should have the paper decision as the dependent variable, and `ratings`, `reputation`, and `arxiv` as independent variables just like in task 2.3. Yet, here, include also as independent variables the binary variable `has_top_institution`, which equals 1 if the paper has an author in a top-10 institution; and the interaction variable `arxiv:has_top_institution`, which equals one only if the paper is from a top-10 institution **and** if it appeared on arxiv before the submission deadline. In patsy-style formula your model should look something like: \n",
    "\n",
    "`decisions_bool ~ ratings + reputation + arxiv + has_top_institution + arxiv:has_top_institution`\n",
    "\n",
    "\n",
    "1. Fit this model and estimate the effect of posting on arxiv for a top institution. Again, consider only papers submitted in the 2020 edition.\n",
    "2. **Discuss:** Interpreting the p-values, discuss: is this evidence that arxiv breaks double-blind submissions?"
   ]
  },
  {
   "cell_type": "markdown",
   "metadata": {},
   "source": [
    "### Solution 2.4.1"
   ]
  },
  {
   "cell_type": "code",
   "execution_count": 87,
   "metadata": {},
   "outputs": [],
   "source": [
    "paper_2020['arxiv:has_top_institution'] = ((paper_2020['has_top_institution'])&(paper_2020['arxiv']))"
   ]
  },
  {
   "cell_type": "code",
   "execution_count": 88,
   "metadata": {},
   "outputs": [
    {
     "data": {
      "text/html": [
       "<div>\n",
       "<style scoped>\n",
       "    .dataframe tbody tr th:only-of-type {\n",
       "        vertical-align: middle;\n",
       "    }\n",
       "\n",
       "    .dataframe tbody tr th {\n",
       "        vertical-align: top;\n",
       "    }\n",
       "\n",
       "    .dataframe thead th {\n",
       "        text-align: right;\n",
       "    }\n",
       "</style>\n",
       "<table border=\"1\" class=\"dataframe\">\n",
       "  <thead>\n",
       "    <tr style=\"text-align: right;\">\n",
       "      <th></th>\n",
       "      <th>year</th>\n",
       "      <th>paper</th>\n",
       "      <th>authors</th>\n",
       "      <th>ratings</th>\n",
       "      <th>decisions</th>\n",
       "      <th>institution</th>\n",
       "      <th>csranking</th>\n",
       "      <th>categories</th>\n",
       "      <th>authors_citations</th>\n",
       "      <th>authors_publications</th>\n",
       "      <th>authors_hindex</th>\n",
       "      <th>arxiv</th>\n",
       "      <th>authors_citations_median</th>\n",
       "      <th>authors_publications_median</th>\n",
       "      <th>authors_hindex_median</th>\n",
       "      <th>reputation</th>\n",
       "      <th>has_top_company</th>\n",
       "      <th>has_top_institution</th>\n",
       "      <th>crazy</th>\n",
       "      <th>arxiv:has_top_institution</th>\n",
       "    </tr>\n",
       "  </thead>\n",
       "  <tbody>\n",
       "    <tr>\n",
       "      <th>2204</th>\n",
       "      <td>2020</td>\n",
       "      <td>Pitfalls of In-Domain Uncertainty Estimation a...</td>\n",
       "      <td>[Arsenii Ashukha, Alexander Lyzhov, Dmitry Mol...</td>\n",
       "      <td>6.666667</td>\n",
       "      <td>True</td>\n",
       "      <td>[Samsung, Skolkovo Institute of Science and Te...</td>\n",
       "      <td>[-1, -1, -1, 481]</td>\n",
       "      <td>[0]</td>\n",
       "      <td>[488, 12, 481, 2097]</td>\n",
       "      <td>[14, 2, 17, 124]</td>\n",
       "      <td>[8, 1, 7, 16]</td>\n",
       "      <td>False</td>\n",
       "      <td>484.5</td>\n",
       "      <td>15.5</td>\n",
       "      <td>7.5</td>\n",
       "      <td>1.253127</td>\n",
       "      <td>0</td>\n",
       "      <td>0</td>\n",
       "      <td>2.333333</td>\n",
       "      <td>False</td>\n",
       "    </tr>\n",
       "    <tr>\n",
       "      <th>2205</th>\n",
       "      <td>2020</td>\n",
       "      <td>An Inductive Bias for Distances: Neural Nets t...</td>\n",
       "      <td>[Silviu Pitis, Harris Chan, Kiarash Jamali, Ji...</td>\n",
       "      <td>6.750000</td>\n",
       "      <td>True</td>\n",
       "      <td>[Department of Computer Science, University of...</td>\n",
       "      <td>[18, 18, 18, 18]</td>\n",
       "      <td>[1, 10]</td>\n",
       "      <td>[15, 23, 3, 52924]</td>\n",
       "      <td>[9, 13, 3, 56]</td>\n",
       "      <td>[2, 3, 1, 22]</td>\n",
       "      <td>False</td>\n",
       "      <td>19.0</td>\n",
       "      <td>11.0</td>\n",
       "      <td>2.5</td>\n",
       "      <td>2.975924</td>\n",
       "      <td>0</td>\n",
       "      <td>0</td>\n",
       "      <td>2.250000</td>\n",
       "      <td>False</td>\n",
       "    </tr>\n",
       "    <tr>\n",
       "      <th>2206</th>\n",
       "      <td>2020</td>\n",
       "      <td>Stochastic AUC Maximization with Deep Neural N...</td>\n",
       "      <td>[Mingrui Liu, Zhuoning Yuan, Yiming Ying, Tian...</td>\n",
       "      <td>6.000000</td>\n",
       "      <td>True</td>\n",
       "      <td>[University of Iowa, University of Iowa, State...</td>\n",
       "      <td>[154, 154, 266, 154]</td>\n",
       "      <td>[9]</td>\n",
       "      <td>[238, 112, 2144, 3236]</td>\n",
       "      <td>[29, 12, 64, 187]</td>\n",
       "      <td>[9, 4, 24, 29]</td>\n",
       "      <td>True</td>\n",
       "      <td>1191.0</td>\n",
       "      <td>46.5</td>\n",
       "      <td>16.5</td>\n",
       "      <td>1.262565</td>\n",
       "      <td>0</td>\n",
       "      <td>0</td>\n",
       "      <td>3.000000</td>\n",
       "      <td>False</td>\n",
       "    </tr>\n",
       "    <tr>\n",
       "      <th>2207</th>\n",
       "      <td>2020</td>\n",
       "      <td>On the interaction between supervision and sel...</td>\n",
       "      <td>[Ryan Lowe*, Abhinav Gupta*, Jakob Foerster, D...</td>\n",
       "      <td>6.666667</td>\n",
       "      <td>True</td>\n",
       "      <td>[McGill University, University of Montreal, Fa...</td>\n",
       "      <td>[86, 128, -1, -1, 86]</td>\n",
       "      <td>[3]</td>\n",
       "      <td>[3343, 36, 2107, 3454, 11328]</td>\n",
       "      <td>[53, 10, 58, 80, 267]</td>\n",
       "      <td>[17, 3, 19, 29, 46]</td>\n",
       "      <td>False</td>\n",
       "      <td>3343.0</td>\n",
       "      <td>58.0</td>\n",
       "      <td>19.0</td>\n",
       "      <td>1.637759</td>\n",
       "      <td>1</td>\n",
       "      <td>0</td>\n",
       "      <td>2.333333</td>\n",
       "      <td>False</td>\n",
       "    </tr>\n",
       "    <tr>\n",
       "      <th>2208</th>\n",
       "      <td>2020</td>\n",
       "      <td>Towards Better Understanding of Adaptive Gradi...</td>\n",
       "      <td>[Mingrui Liu, Youssef Mroueh, Jerret Ross, Wei...</td>\n",
       "      <td>6.000000</td>\n",
       "      <td>True</td>\n",
       "      <td>[University of Iowa, International Business Ma...</td>\n",
       "      <td>[154, -1, -1, -1, -1, -1, 154]</td>\n",
       "      <td>[5, 9]</td>\n",
       "      <td>[238, 916, 392, 108, 241, 848, 3236]</td>\n",
       "      <td>[29, 53, 12, 46, 30, 86, 187]</td>\n",
       "      <td>[9, 11, 4, 6, 6, 17, 29]</td>\n",
       "      <td>False</td>\n",
       "      <td>392.0</td>\n",
       "      <td>46.0</td>\n",
       "      <td>9.0</td>\n",
       "      <td>1.262565</td>\n",
       "      <td>0</td>\n",
       "      <td>0</td>\n",
       "      <td>3.000000</td>\n",
       "      <td>False</td>\n",
       "    </tr>\n",
       "  </tbody>\n",
       "</table>\n",
       "</div>"
      ],
      "text/plain": [
       "      year                                              paper  \\\n",
       "2204  2020  Pitfalls of In-Domain Uncertainty Estimation a...   \n",
       "2205  2020  An Inductive Bias for Distances: Neural Nets t...   \n",
       "2206  2020  Stochastic AUC Maximization with Deep Neural N...   \n",
       "2207  2020  On the interaction between supervision and sel...   \n",
       "2208  2020  Towards Better Understanding of Adaptive Gradi...   \n",
       "\n",
       "                                                authors   ratings  decisions  \\\n",
       "2204  [Arsenii Ashukha, Alexander Lyzhov, Dmitry Mol...  6.666667       True   \n",
       "2205  [Silviu Pitis, Harris Chan, Kiarash Jamali, Ji...  6.750000       True   \n",
       "2206  [Mingrui Liu, Zhuoning Yuan, Yiming Ying, Tian...  6.000000       True   \n",
       "2207  [Ryan Lowe*, Abhinav Gupta*, Jakob Foerster, D...  6.666667       True   \n",
       "2208  [Mingrui Liu, Youssef Mroueh, Jerret Ross, Wei...  6.000000       True   \n",
       "\n",
       "                                            institution  \\\n",
       "2204  [Samsung, Skolkovo Institute of Science and Te...   \n",
       "2205  [Department of Computer Science, University of...   \n",
       "2206  [University of Iowa, University of Iowa, State...   \n",
       "2207  [McGill University, University of Montreal, Fa...   \n",
       "2208  [University of Iowa, International Business Ma...   \n",
       "\n",
       "                           csranking categories  \\\n",
       "2204               [-1, -1, -1, 481]        [0]   \n",
       "2205                [18, 18, 18, 18]    [1, 10]   \n",
       "2206            [154, 154, 266, 154]        [9]   \n",
       "2207           [86, 128, -1, -1, 86]        [3]   \n",
       "2208  [154, -1, -1, -1, -1, -1, 154]     [5, 9]   \n",
       "\n",
       "                         authors_citations           authors_publications  \\\n",
       "2204                  [488, 12, 481, 2097]               [14, 2, 17, 124]   \n",
       "2205                    [15, 23, 3, 52924]                 [9, 13, 3, 56]   \n",
       "2206                [238, 112, 2144, 3236]              [29, 12, 64, 187]   \n",
       "2207         [3343, 36, 2107, 3454, 11328]          [53, 10, 58, 80, 267]   \n",
       "2208  [238, 916, 392, 108, 241, 848, 3236]  [29, 53, 12, 46, 30, 86, 187]   \n",
       "\n",
       "                authors_hindex  arxiv  authors_citations_median  \\\n",
       "2204             [8, 1, 7, 16]  False                     484.5   \n",
       "2205             [2, 3, 1, 22]  False                      19.0   \n",
       "2206            [9, 4, 24, 29]   True                    1191.0   \n",
       "2207       [17, 3, 19, 29, 46]  False                    3343.0   \n",
       "2208  [9, 11, 4, 6, 6, 17, 29]  False                     392.0   \n",
       "\n",
       "      authors_publications_median  authors_hindex_median  reputation  \\\n",
       "2204                         15.5                    7.5    1.253127   \n",
       "2205                         11.0                    2.5    2.975924   \n",
       "2206                         46.5                   16.5    1.262565   \n",
       "2207                         58.0                   19.0    1.637759   \n",
       "2208                         46.0                    9.0    1.262565   \n",
       "\n",
       "      has_top_company  has_top_institution     crazy  \\\n",
       "2204                0                    0  2.333333   \n",
       "2205                0                    0  2.250000   \n",
       "2206                0                    0  3.000000   \n",
       "2207                1                    0  2.333333   \n",
       "2208                0                    0  3.000000   \n",
       "\n",
       "      arxiv:has_top_institution  \n",
       "2204                      False  \n",
       "2205                      False  \n",
       "2206                      False  \n",
       "2207                      False  \n",
       "2208                      False  "
      ]
     },
     "execution_count": 88,
     "metadata": {},
     "output_type": "execute_result"
    }
   ],
   "source": [
    "#check data\n",
    "paper_2020.head()"
   ]
  },
  {
   "cell_type": "code",
   "execution_count": 89,
   "metadata": {},
   "outputs": [
    {
     "data": {
      "text/plain": [
       "LogisticRegression()"
      ]
     },
     "execution_count": 89,
     "metadata": {},
     "output_type": "execute_result"
    }
   ],
   "source": [
    "log_new_features = ['ratings','reputation','arxiv','has_top_institution','arxiv:has_top_institution']\n",
    "\n",
    "logistic_train_X = paper_2020[log_new_features].to_numpy()\n",
    "logistic_train_y = paper_2020['decisions'].to_numpy()\n",
    "log_model = linear_model.LogisticRegression(fit_intercept=True)\n",
    "\n",
    "log_model.fit(logistic_train_X,logistic_train_y)"
   ]
  },
  {
   "cell_type": "code",
   "execution_count": 90,
   "metadata": {},
   "outputs": [
    {
     "data": {
      "text/plain": [
       "array([[2.3525865 , 0.15951865, 0.11853512, 0.36688717, 0.52706571]])"
      ]
     },
     "execution_count": 90,
     "metadata": {},
     "output_type": "execute_result"
    }
   ],
   "source": [
    "log_model.coef_"
   ]
  },
  {
   "cell_type": "code",
   "execution_count": 91,
   "metadata": {},
   "outputs": [
    {
     "data": {
      "text/plain": [
       "array([-13.22596737])"
      ]
     },
     "execution_count": 91,
     "metadata": {},
     "output_type": "execute_result"
    }
   ],
   "source": [
    "log_model.intercept_"
   ]
  },
  {
   "cell_type": "markdown",
   "metadata": {},
   "source": [
    "### Solution 2.4.2\n",
    "\n",
    "For our logistic regression model in 2.4.1:\n",
    "\n",
    "$$\n",
    "\\log \\Big( \\frac{p}{1-p} \\Big) = b_0 + b_1x_1 + b_2x_2 + b_3x_3 +b_4x_4 +b_5x_5\n",
    "$$\n",
    "\n",
    "And we consider $x_5$ as arxiv:has_top_institution. It's a binary variable. There are two cases here. Wether $x_5 = 0$ or $x_5 =1$\n",
    "\n",
    "if $x_5=0$, $\\exp^{b_5x_5} = 1$. If $x_5=1$,$e^{b_5x_5} = e^{b_5} = e^{0.5271} = 1.694$\n",
    "\n",
    "In these two cases, the models are\n",
    "\n",
    "$$\n",
    "\\frac{p}{1-p} = e^{b_0}e^{b_1}e^{b_2}e^{b_3}e^{b_4}\n",
    "$$\n",
    "\n",
    "and \n",
    "\n",
    "$$\n",
    "\\frac{p}{1-p} = e^{b_0}e^{b_1}e^{b_2}e^{b_3}e^{b_4}e^{b_5}\n",
    "$$\n",
    "\n",
    "Therefore, the odds ration multiplies 1.694 when 'arxiv:has_top_institution' is True.\n",
    "\n",
    "I think it's the evidence that arxiv breaks double-blind submissions. Because, if this variable is true, the odds will increase and probability will increase."
   ]
  },
  {
   "cell_type": "markdown",
   "metadata": {},
   "source": [
    "## Step 3: Matching\n",
    "\n",
    "Okay, so let's change hats one last time.\n",
    "\n",
    "As you have all seen in class, a particularly powerful way of disentangling causal effects from observational data is through matching: making sure we are not comparing apples to oranges.\n",
    "\n",
    "\n",
    "### Task 3.1\n",
    "\n",
    "One of the ways to do matching is called \"Propensity Score Matching.\" There, we calculate a *propensity score* for each subject which represents the propensity to receive a \"treatment.\" Then, we match subjects who received and did not receive the treatment, but that had similar propensity scores (that is, even though some received the treatment and some did not, they had similar chances to receive it).\n",
    "\n",
    "In our specific case, we can further attempt to study the impact of pre-prints by considering publishing to arxiv as our \"treatment\".\n",
    "\n",
    "In that context, the first step to perform propensity score matching is to create a classifier that predicts whether a paper was published on arxiv or not.\n",
    "\n",
    "1. We have trained this classifier for you (don't get spoiled!). You may load the pandas dataframe entitled `propensity_scores.csv.gz` from the github repo. \n",
    "Notice that we will be using only the articles published in 2020. \n",
    "Create a new dataframe that is a merged version of this new dataframe with the dataframe you have been working on so far. Remember to keep only the papers published in 2020!\n",
    "2. **Discuss:** In which way is this classifier (that is a classifier trained to estimate propensity scores) different from the previous classifier that you trained in Step 1?\n",
    "\n",
    "**Hint:** For a classifier tra we don't need a training set and a test set!\n"
   ]
  },
  {
   "cell_type": "markdown",
   "metadata": {},
   "source": [
    "### Solution 3.1.1\n",
    "\n",
    "Here, we use dataframe merge method to merge dataframes."
   ]
  },
  {
   "cell_type": "code",
   "execution_count": 160,
   "metadata": {},
   "outputs": [],
   "source": [
    "propensity = pd.read_csv('data/propensity_scores.csv.gz',compression='gzip')"
   ]
  },
  {
   "cell_type": "code",
   "execution_count": 161,
   "metadata": {
    "scrolled": true
   },
   "outputs": [
    {
     "data": {
      "text/html": [
       "<div>\n",
       "<style scoped>\n",
       "    .dataframe tbody tr th:only-of-type {\n",
       "        vertical-align: middle;\n",
       "    }\n",
       "\n",
       "    .dataframe tbody tr th {\n",
       "        vertical-align: top;\n",
       "    }\n",
       "\n",
       "    .dataframe thead th {\n",
       "        text-align: right;\n",
       "    }\n",
       "</style>\n",
       "<table border=\"1\" class=\"dataframe\">\n",
       "  <thead>\n",
       "    <tr style=\"text-align: right;\">\n",
       "      <th></th>\n",
       "      <th>paper</th>\n",
       "      <th>propensity_score</th>\n",
       "    </tr>\n",
       "  </thead>\n",
       "  <tbody>\n",
       "    <tr>\n",
       "      <th>0</th>\n",
       "      <td>Pitfalls of In-Domain Uncertainty Estimation a...</td>\n",
       "      <td>0.360486</td>\n",
       "    </tr>\n",
       "    <tr>\n",
       "      <th>1</th>\n",
       "      <td>An Inductive Bias for Distances: Neural Nets t...</td>\n",
       "      <td>0.567842</td>\n",
       "    </tr>\n",
       "    <tr>\n",
       "      <th>2</th>\n",
       "      <td>Stochastic AUC Maximization with Deep Neural N...</td>\n",
       "      <td>0.334322</td>\n",
       "    </tr>\n",
       "    <tr>\n",
       "      <th>3</th>\n",
       "      <td>On the interaction between supervision and sel...</td>\n",
       "      <td>0.402644</td>\n",
       "    </tr>\n",
       "    <tr>\n",
       "      <th>4</th>\n",
       "      <td>Towards Better Understanding of Adaptive Gradi...</td>\n",
       "      <td>0.334322</td>\n",
       "    </tr>\n",
       "  </tbody>\n",
       "</table>\n",
       "</div>"
      ],
      "text/plain": [
       "                                               paper  propensity_score\n",
       "0  Pitfalls of In-Domain Uncertainty Estimation a...          0.360486\n",
       "1  An Inductive Bias for Distances: Neural Nets t...          0.567842\n",
       "2  Stochastic AUC Maximization with Deep Neural N...          0.334322\n",
       "3  On the interaction between supervision and sel...          0.402644\n",
       "4  Towards Better Understanding of Adaptive Gradi...          0.334322"
      ]
     },
     "execution_count": 161,
     "metadata": {},
     "output_type": "execute_result"
    }
   ],
   "source": [
    "propensity.head()"
   ]
  },
  {
   "cell_type": "code",
   "execution_count": 162,
   "metadata": {
    "scrolled": true
   },
   "outputs": [],
   "source": [
    "#Use dataframe merge method to merge dataframes\n",
    "merged_paper_2020=paper_2020.merge(propensity,how='left',on='paper')"
   ]
  },
  {
   "cell_type": "code",
   "execution_count": 163,
   "metadata": {},
   "outputs": [
    {
     "data": {
      "text/html": [
       "<div>\n",
       "<style scoped>\n",
       "    .dataframe tbody tr th:only-of-type {\n",
       "        vertical-align: middle;\n",
       "    }\n",
       "\n",
       "    .dataframe tbody tr th {\n",
       "        vertical-align: top;\n",
       "    }\n",
       "\n",
       "    .dataframe thead th {\n",
       "        text-align: right;\n",
       "    }\n",
       "</style>\n",
       "<table border=\"1\" class=\"dataframe\">\n",
       "  <thead>\n",
       "    <tr style=\"text-align: right;\">\n",
       "      <th></th>\n",
       "      <th>year</th>\n",
       "      <th>paper</th>\n",
       "      <th>authors</th>\n",
       "      <th>ratings</th>\n",
       "      <th>decisions</th>\n",
       "      <th>institution</th>\n",
       "      <th>csranking</th>\n",
       "      <th>categories</th>\n",
       "      <th>authors_citations</th>\n",
       "      <th>authors_publications</th>\n",
       "      <th>...</th>\n",
       "      <th>arxiv</th>\n",
       "      <th>authors_citations_median</th>\n",
       "      <th>authors_publications_median</th>\n",
       "      <th>authors_hindex_median</th>\n",
       "      <th>reputation</th>\n",
       "      <th>has_top_company</th>\n",
       "      <th>has_top_institution</th>\n",
       "      <th>crazy</th>\n",
       "      <th>arxiv:has_top_institution</th>\n",
       "      <th>propensity_score</th>\n",
       "    </tr>\n",
       "  </thead>\n",
       "  <tbody>\n",
       "    <tr>\n",
       "      <th>0</th>\n",
       "      <td>2020</td>\n",
       "      <td>Pitfalls of In-Domain Uncertainty Estimation a...</td>\n",
       "      <td>[Arsenii Ashukha, Alexander Lyzhov, Dmitry Mol...</td>\n",
       "      <td>6.666667</td>\n",
       "      <td>True</td>\n",
       "      <td>[Samsung, Skolkovo Institute of Science and Te...</td>\n",
       "      <td>[-1, -1, -1, 481]</td>\n",
       "      <td>[0]</td>\n",
       "      <td>[488, 12, 481, 2097]</td>\n",
       "      <td>[14, 2, 17, 124]</td>\n",
       "      <td>...</td>\n",
       "      <td>False</td>\n",
       "      <td>484.5</td>\n",
       "      <td>15.5</td>\n",
       "      <td>7.5</td>\n",
       "      <td>1.253127</td>\n",
       "      <td>0</td>\n",
       "      <td>0</td>\n",
       "      <td>2.333333</td>\n",
       "      <td>False</td>\n",
       "      <td>0.360486</td>\n",
       "    </tr>\n",
       "    <tr>\n",
       "      <th>1</th>\n",
       "      <td>2020</td>\n",
       "      <td>An Inductive Bias for Distances: Neural Nets t...</td>\n",
       "      <td>[Silviu Pitis, Harris Chan, Kiarash Jamali, Ji...</td>\n",
       "      <td>6.750000</td>\n",
       "      <td>True</td>\n",
       "      <td>[Department of Computer Science, University of...</td>\n",
       "      <td>[18, 18, 18, 18]</td>\n",
       "      <td>[1, 10]</td>\n",
       "      <td>[15, 23, 3, 52924]</td>\n",
       "      <td>[9, 13, 3, 56]</td>\n",
       "      <td>...</td>\n",
       "      <td>False</td>\n",
       "      <td>19.0</td>\n",
       "      <td>11.0</td>\n",
       "      <td>2.5</td>\n",
       "      <td>2.975924</td>\n",
       "      <td>0</td>\n",
       "      <td>0</td>\n",
       "      <td>2.250000</td>\n",
       "      <td>False</td>\n",
       "      <td>0.567842</td>\n",
       "    </tr>\n",
       "    <tr>\n",
       "      <th>2</th>\n",
       "      <td>2020</td>\n",
       "      <td>Stochastic AUC Maximization with Deep Neural N...</td>\n",
       "      <td>[Mingrui Liu, Zhuoning Yuan, Yiming Ying, Tian...</td>\n",
       "      <td>6.000000</td>\n",
       "      <td>True</td>\n",
       "      <td>[University of Iowa, University of Iowa, State...</td>\n",
       "      <td>[154, 154, 266, 154]</td>\n",
       "      <td>[9]</td>\n",
       "      <td>[238, 112, 2144, 3236]</td>\n",
       "      <td>[29, 12, 64, 187]</td>\n",
       "      <td>...</td>\n",
       "      <td>True</td>\n",
       "      <td>1191.0</td>\n",
       "      <td>46.5</td>\n",
       "      <td>16.5</td>\n",
       "      <td>1.262565</td>\n",
       "      <td>0</td>\n",
       "      <td>0</td>\n",
       "      <td>3.000000</td>\n",
       "      <td>False</td>\n",
       "      <td>0.334322</td>\n",
       "    </tr>\n",
       "    <tr>\n",
       "      <th>3</th>\n",
       "      <td>2020</td>\n",
       "      <td>On the interaction between supervision and sel...</td>\n",
       "      <td>[Ryan Lowe*, Abhinav Gupta*, Jakob Foerster, D...</td>\n",
       "      <td>6.666667</td>\n",
       "      <td>True</td>\n",
       "      <td>[McGill University, University of Montreal, Fa...</td>\n",
       "      <td>[86, 128, -1, -1, 86]</td>\n",
       "      <td>[3]</td>\n",
       "      <td>[3343, 36, 2107, 3454, 11328]</td>\n",
       "      <td>[53, 10, 58, 80, 267]</td>\n",
       "      <td>...</td>\n",
       "      <td>False</td>\n",
       "      <td>3343.0</td>\n",
       "      <td>58.0</td>\n",
       "      <td>19.0</td>\n",
       "      <td>1.637759</td>\n",
       "      <td>1</td>\n",
       "      <td>0</td>\n",
       "      <td>2.333333</td>\n",
       "      <td>False</td>\n",
       "      <td>0.402644</td>\n",
       "    </tr>\n",
       "    <tr>\n",
       "      <th>4</th>\n",
       "      <td>2020</td>\n",
       "      <td>Towards Better Understanding of Adaptive Gradi...</td>\n",
       "      <td>[Mingrui Liu, Youssef Mroueh, Jerret Ross, Wei...</td>\n",
       "      <td>6.000000</td>\n",
       "      <td>True</td>\n",
       "      <td>[University of Iowa, International Business Ma...</td>\n",
       "      <td>[154, -1, -1, -1, -1, -1, 154]</td>\n",
       "      <td>[5, 9]</td>\n",
       "      <td>[238, 916, 392, 108, 241, 848, 3236]</td>\n",
       "      <td>[29, 53, 12, 46, 30, 86, 187]</td>\n",
       "      <td>...</td>\n",
       "      <td>False</td>\n",
       "      <td>392.0</td>\n",
       "      <td>46.0</td>\n",
       "      <td>9.0</td>\n",
       "      <td>1.262565</td>\n",
       "      <td>0</td>\n",
       "      <td>0</td>\n",
       "      <td>3.000000</td>\n",
       "      <td>False</td>\n",
       "      <td>0.334322</td>\n",
       "    </tr>\n",
       "  </tbody>\n",
       "</table>\n",
       "<p>5 rows × 21 columns</p>\n",
       "</div>"
      ],
      "text/plain": [
       "   year                                              paper  \\\n",
       "0  2020  Pitfalls of In-Domain Uncertainty Estimation a...   \n",
       "1  2020  An Inductive Bias for Distances: Neural Nets t...   \n",
       "2  2020  Stochastic AUC Maximization with Deep Neural N...   \n",
       "3  2020  On the interaction between supervision and sel...   \n",
       "4  2020  Towards Better Understanding of Adaptive Gradi...   \n",
       "\n",
       "                                             authors   ratings  decisions  \\\n",
       "0  [Arsenii Ashukha, Alexander Lyzhov, Dmitry Mol...  6.666667       True   \n",
       "1  [Silviu Pitis, Harris Chan, Kiarash Jamali, Ji...  6.750000       True   \n",
       "2  [Mingrui Liu, Zhuoning Yuan, Yiming Ying, Tian...  6.000000       True   \n",
       "3  [Ryan Lowe*, Abhinav Gupta*, Jakob Foerster, D...  6.666667       True   \n",
       "4  [Mingrui Liu, Youssef Mroueh, Jerret Ross, Wei...  6.000000       True   \n",
       "\n",
       "                                         institution  \\\n",
       "0  [Samsung, Skolkovo Institute of Science and Te...   \n",
       "1  [Department of Computer Science, University of...   \n",
       "2  [University of Iowa, University of Iowa, State...   \n",
       "3  [McGill University, University of Montreal, Fa...   \n",
       "4  [University of Iowa, International Business Ma...   \n",
       "\n",
       "                        csranking categories  \\\n",
       "0               [-1, -1, -1, 481]        [0]   \n",
       "1                [18, 18, 18, 18]    [1, 10]   \n",
       "2            [154, 154, 266, 154]        [9]   \n",
       "3           [86, 128, -1, -1, 86]        [3]   \n",
       "4  [154, -1, -1, -1, -1, -1, 154]     [5, 9]   \n",
       "\n",
       "                      authors_citations           authors_publications  ...  \\\n",
       "0                  [488, 12, 481, 2097]               [14, 2, 17, 124]  ...   \n",
       "1                    [15, 23, 3, 52924]                 [9, 13, 3, 56]  ...   \n",
       "2                [238, 112, 2144, 3236]              [29, 12, 64, 187]  ...   \n",
       "3         [3343, 36, 2107, 3454, 11328]          [53, 10, 58, 80, 267]  ...   \n",
       "4  [238, 916, 392, 108, 241, 848, 3236]  [29, 53, 12, 46, 30, 86, 187]  ...   \n",
       "\n",
       "   arxiv  authors_citations_median  authors_publications_median  \\\n",
       "0  False                     484.5                         15.5   \n",
       "1  False                      19.0                         11.0   \n",
       "2   True                    1191.0                         46.5   \n",
       "3  False                    3343.0                         58.0   \n",
       "4  False                     392.0                         46.0   \n",
       "\n",
       "   authors_hindex_median  reputation  has_top_company  has_top_institution  \\\n",
       "0                    7.5    1.253127                0                    0   \n",
       "1                    2.5    2.975924                0                    0   \n",
       "2                   16.5    1.262565                0                    0   \n",
       "3                   19.0    1.637759                1                    0   \n",
       "4                    9.0    1.262565                0                    0   \n",
       "\n",
       "      crazy  arxiv:has_top_institution  propensity_score  \n",
       "0  2.333333                      False          0.360486  \n",
       "1  2.250000                      False          0.567842  \n",
       "2  3.000000                      False          0.334322  \n",
       "3  2.333333                      False          0.402644  \n",
       "4  3.000000                      False          0.334322  \n",
       "\n",
       "[5 rows x 21 columns]"
      ]
     },
     "execution_count": 163,
     "metadata": {},
     "output_type": "execute_result"
    }
   ],
   "source": [
    "merged_paper_2020.head()"
   ]
  },
  {
   "cell_type": "markdown",
   "metadata": {},
   "source": [
    "### Solution 3.1.2\n",
    "\n",
    "Q?"
   ]
  },
  {
   "cell_type": "markdown",
   "metadata": {},
   "source": [
    "### Task 3.2\n",
    "\n",
    "Now is time to match users! You will be implementing a technique called *caliper matching*. \n",
    "\n",
    "Create pairs of users as follows. For each treated subject (here a paper that was submitted to arxiv), find a non-treated subject (a paper that was not submitted to arxiv) with similar propensity score. Namely, if the propensity score of the treated unit is $p_t$, you must find a non-treated unit $p_c$ with propensity score $|p_{c} - p_t| < \\epsilon$. If there is no such a non-treated unit, you may ignore the treated unit and move forward with the matching. Notice that your output must be a 1-to-1 matching. So each paper can only be matched once.\n",
    "\n",
    "1. Perform this matching procedure using $\\epsilon = 0.05$.\n",
    "2. Report how many pairs did you manage to match? How many didn't you?"
   ]
  },
  {
   "cell_type": "markdown",
   "metadata": {},
   "source": [
    "### Solution 3.2.1\n",
    "\n",
    "We can formalize this problem into a maximum matching problem for bipartite graph. Here are the steps:\n",
    "\n",
    "1. We regard each paper as a node in graph. And we partition these nodes into two parts U and V.\n",
    "2. In U, it contains treated subjects (papers submitted to arxiv). For V, it contains non-treated subjects (papers not submitted to arxiv).\n",
    "3. And between nodes in U and V, there is a edge set E. Each edge in set E fullfills condition that $|p_{c} - p_t| < \\epsilon$.\n",
    "4. It means that for each node in U, we will put every possible edge (if fullfills condition) in the edge set.\n",
    "5. Then we get a standard bipartite graph G(U,V,E)\n",
    "6. Then we perform maximum matching on this bipartitle graph G to find as many pairs as possible in the graph.\n",
    "\n",
    "Above algorithim can be done by using networkx package in python."
   ]
  },
  {
   "cell_type": "code",
   "execution_count": 164,
   "metadata": {},
   "outputs": [],
   "source": [
    "#Select all arxiv paper and non-arxiv paper\n",
    "arxiv_paper = merged_paper_2020.loc[merged_paper_2020['arxiv']]['propensity_score']\n",
    "nonarxiv_paper = merged_paper_2020.loc[~merged_paper_2020['arxiv']]['propensity_score']\n",
    "epsilon = 0.05 "
   ]
  },
  {
   "cell_type": "code",
   "execution_count": 165,
   "metadata": {},
   "outputs": [],
   "source": [
    "#Create edges list\n",
    "#Put ever possible edge in the list\n",
    "edges = []\n",
    "for i in arxiv_paper.index:\n",
    "    for j in nonarxiv_paper.index:\n",
    "        weight = abs(arxiv_paper.loc[i]-nonarxiv_paper.loc[j])\n",
    "        if weight<epsilon:\n",
    "            edges.append((i,j))"
   ]
  },
  {
   "cell_type": "code",
   "execution_count": 166,
   "metadata": {},
   "outputs": [
    {
     "data": {
      "text/plain": [
       "268046"
      ]
     },
     "execution_count": 166,
     "metadata": {},
     "output_type": "execute_result"
    }
   ],
   "source": [
    "#There are 268,046 possible edeges in the edge set\n",
    "len(edges)"
   ]
  },
  {
   "cell_type": "code",
   "execution_count": 167,
   "metadata": {},
   "outputs": [],
   "source": [
    "\n",
    "import networkx as nx\n",
    "G = nx.Graph()#Create graph\n",
    "\n",
    "#Add nodes\n",
    "G.add_nodes_from(arxiv_paper.index.values, bipartite=0)\n",
    "G.add_nodes_from(nonarxiv_paper.index.values, bipartite=1)\n",
    "\n",
    "#Add possible edges\n",
    "G.add_edges_from(edges)"
   ]
  },
  {
   "cell_type": "code",
   "execution_count": 168,
   "metadata": {},
   "outputs": [
    {
     "name": "stdout",
     "output_type": "stream",
     "text": [
      "True\n"
     ]
    }
   ],
   "source": [
    "print(nx.bipartite.is_bipartite(G))#verify graph is bipartite"
   ]
  },
  {
   "cell_type": "code",
   "execution_count": 169,
   "metadata": {},
   "outputs": [
    {
     "name": "stdout",
     "output_type": "stream",
     "text": [
      "number of pairs:590.0\n"
     ]
    }
   ],
   "source": [
    "#do maxiumn matching\n",
    "#Create a dictionary of matching\n",
    "match_dict = nx.bipartite.maximum_matching(G)\n",
    "print(\"number of pairs:{}\".format(len(match_dict)/2))"
   ]
  },
  {
   "cell_type": "markdown",
   "metadata": {},
   "source": [
    "Here, we can see that we have 590 pairs which means we can find a match for every arxiv paper."
   ]
  },
  {
   "cell_type": "code",
   "execution_count": 170,
   "metadata": {},
   "outputs": [
    {
     "data": {
      "text/plain": [
       "872"
      ]
     },
     "execution_count": 170,
     "metadata": {},
     "output_type": "execute_result"
    }
   ],
   "source": [
    "len(nonarxiv_paper)-590"
   ]
  },
  {
   "cell_type": "markdown",
   "metadata": {},
   "source": [
    "### Solution 3.2.2 \n",
    "\n",
    "There are 590 pairs. And there are 872 papers can not match. They are all non-arxiv paper."
   ]
  },
  {
   "cell_type": "markdown",
   "metadata": {
    "pycharm": {
     "name": "#%% md\n"
    }
   },
   "source": [
    "### Task 3.3\n",
    "\n",
    "Let's evaluate your matching! There are more rigorous ways to do it, but we'll go the easy path.\n",
    "\n",
    "\n",
    "1. Using one or several appropriate plot types, visualize the distributions of the variables reputation and ratings, for treated and non-treated subjects that you matched.\n",
    "2. Visualize the distributions of these variables for all papers from 2020 that appeared on arxiv, and all papers that did not (including those you did not manage to match).\n",
    "3. **Discuss:** According to your visual analysis (no statistical tests needed here), did the matching do a good job at balancing covariates?"
   ]
  },
  {
   "cell_type": "markdown",
   "metadata": {
    "pycharm": {
     "name": "#%%\n"
    }
   },
   "source": [
    "### Solution 3.3.1"
   ]
  },
  {
   "cell_type": "code",
   "execution_count": 171,
   "metadata": {},
   "outputs": [],
   "source": [
    "#Create another column named 'matching'\n",
    "#True and False\n",
    "merged_paper_2020['matching'] = False\n",
    "\n",
    "for i in merged_paper_2020.index:\n",
    "    if i in match_dict.keys():\n",
    "        merged_paper_2020.loc[i,'matching'] = True"
   ]
  },
  {
   "cell_type": "code",
   "execution_count": 172,
   "metadata": {},
   "outputs": [
    {
     "data": {
      "text/html": [
       "<div>\n",
       "<style scoped>\n",
       "    .dataframe tbody tr th:only-of-type {\n",
       "        vertical-align: middle;\n",
       "    }\n",
       "\n",
       "    .dataframe tbody tr th {\n",
       "        vertical-align: top;\n",
       "    }\n",
       "\n",
       "    .dataframe thead th {\n",
       "        text-align: right;\n",
       "    }\n",
       "</style>\n",
       "<table border=\"1\" class=\"dataframe\">\n",
       "  <thead>\n",
       "    <tr style=\"text-align: right;\">\n",
       "      <th></th>\n",
       "      <th>year</th>\n",
       "      <th>paper</th>\n",
       "      <th>authors</th>\n",
       "      <th>ratings</th>\n",
       "      <th>decisions</th>\n",
       "      <th>institution</th>\n",
       "      <th>csranking</th>\n",
       "      <th>categories</th>\n",
       "      <th>authors_citations</th>\n",
       "      <th>authors_publications</th>\n",
       "      <th>...</th>\n",
       "      <th>authors_citations_median</th>\n",
       "      <th>authors_publications_median</th>\n",
       "      <th>authors_hindex_median</th>\n",
       "      <th>reputation</th>\n",
       "      <th>has_top_company</th>\n",
       "      <th>has_top_institution</th>\n",
       "      <th>crazy</th>\n",
       "      <th>arxiv:has_top_institution</th>\n",
       "      <th>propensity_score</th>\n",
       "      <th>matching</th>\n",
       "    </tr>\n",
       "  </thead>\n",
       "  <tbody>\n",
       "    <tr>\n",
       "      <th>0</th>\n",
       "      <td>2020</td>\n",
       "      <td>Pitfalls of In-Domain Uncertainty Estimation a...</td>\n",
       "      <td>[Arsenii Ashukha, Alexander Lyzhov, Dmitry Mol...</td>\n",
       "      <td>6.666667</td>\n",
       "      <td>True</td>\n",
       "      <td>[Samsung, Skolkovo Institute of Science and Te...</td>\n",
       "      <td>[-1, -1, -1, 481]</td>\n",
       "      <td>[0]</td>\n",
       "      <td>[488, 12, 481, 2097]</td>\n",
       "      <td>[14, 2, 17, 124]</td>\n",
       "      <td>...</td>\n",
       "      <td>484.5</td>\n",
       "      <td>15.5</td>\n",
       "      <td>7.5</td>\n",
       "      <td>1.253127</td>\n",
       "      <td>0</td>\n",
       "      <td>0</td>\n",
       "      <td>2.333333</td>\n",
       "      <td>False</td>\n",
       "      <td>0.360486</td>\n",
       "      <td>True</td>\n",
       "    </tr>\n",
       "    <tr>\n",
       "      <th>1</th>\n",
       "      <td>2020</td>\n",
       "      <td>An Inductive Bias for Distances: Neural Nets t...</td>\n",
       "      <td>[Silviu Pitis, Harris Chan, Kiarash Jamali, Ji...</td>\n",
       "      <td>6.750000</td>\n",
       "      <td>True</td>\n",
       "      <td>[Department of Computer Science, University of...</td>\n",
       "      <td>[18, 18, 18, 18]</td>\n",
       "      <td>[1, 10]</td>\n",
       "      <td>[15, 23, 3, 52924]</td>\n",
       "      <td>[9, 13, 3, 56]</td>\n",
       "      <td>...</td>\n",
       "      <td>19.0</td>\n",
       "      <td>11.0</td>\n",
       "      <td>2.5</td>\n",
       "      <td>2.975924</td>\n",
       "      <td>0</td>\n",
       "      <td>0</td>\n",
       "      <td>2.250000</td>\n",
       "      <td>False</td>\n",
       "      <td>0.567842</td>\n",
       "      <td>True</td>\n",
       "    </tr>\n",
       "    <tr>\n",
       "      <th>2</th>\n",
       "      <td>2020</td>\n",
       "      <td>Stochastic AUC Maximization with Deep Neural N...</td>\n",
       "      <td>[Mingrui Liu, Zhuoning Yuan, Yiming Ying, Tian...</td>\n",
       "      <td>6.000000</td>\n",
       "      <td>True</td>\n",
       "      <td>[University of Iowa, University of Iowa, State...</td>\n",
       "      <td>[154, 154, 266, 154]</td>\n",
       "      <td>[9]</td>\n",
       "      <td>[238, 112, 2144, 3236]</td>\n",
       "      <td>[29, 12, 64, 187]</td>\n",
       "      <td>...</td>\n",
       "      <td>1191.0</td>\n",
       "      <td>46.5</td>\n",
       "      <td>16.5</td>\n",
       "      <td>1.262565</td>\n",
       "      <td>0</td>\n",
       "      <td>0</td>\n",
       "      <td>3.000000</td>\n",
       "      <td>False</td>\n",
       "      <td>0.334322</td>\n",
       "      <td>True</td>\n",
       "    </tr>\n",
       "    <tr>\n",
       "      <th>3</th>\n",
       "      <td>2020</td>\n",
       "      <td>On the interaction between supervision and sel...</td>\n",
       "      <td>[Ryan Lowe*, Abhinav Gupta*, Jakob Foerster, D...</td>\n",
       "      <td>6.666667</td>\n",
       "      <td>True</td>\n",
       "      <td>[McGill University, University of Montreal, Fa...</td>\n",
       "      <td>[86, 128, -1, -1, 86]</td>\n",
       "      <td>[3]</td>\n",
       "      <td>[3343, 36, 2107, 3454, 11328]</td>\n",
       "      <td>[53, 10, 58, 80, 267]</td>\n",
       "      <td>...</td>\n",
       "      <td>3343.0</td>\n",
       "      <td>58.0</td>\n",
       "      <td>19.0</td>\n",
       "      <td>1.637759</td>\n",
       "      <td>1</td>\n",
       "      <td>0</td>\n",
       "      <td>2.333333</td>\n",
       "      <td>False</td>\n",
       "      <td>0.402644</td>\n",
       "      <td>True</td>\n",
       "    </tr>\n",
       "    <tr>\n",
       "      <th>4</th>\n",
       "      <td>2020</td>\n",
       "      <td>Towards Better Understanding of Adaptive Gradi...</td>\n",
       "      <td>[Mingrui Liu, Youssef Mroueh, Jerret Ross, Wei...</td>\n",
       "      <td>6.000000</td>\n",
       "      <td>True</td>\n",
       "      <td>[University of Iowa, International Business Ma...</td>\n",
       "      <td>[154, -1, -1, -1, -1, -1, 154]</td>\n",
       "      <td>[5, 9]</td>\n",
       "      <td>[238, 916, 392, 108, 241, 848, 3236]</td>\n",
       "      <td>[29, 53, 12, 46, 30, 86, 187]</td>\n",
       "      <td>...</td>\n",
       "      <td>392.0</td>\n",
       "      <td>46.0</td>\n",
       "      <td>9.0</td>\n",
       "      <td>1.262565</td>\n",
       "      <td>0</td>\n",
       "      <td>0</td>\n",
       "      <td>3.000000</td>\n",
       "      <td>False</td>\n",
       "      <td>0.334322</td>\n",
       "      <td>True</td>\n",
       "    </tr>\n",
       "  </tbody>\n",
       "</table>\n",
       "<p>5 rows × 22 columns</p>\n",
       "</div>"
      ],
      "text/plain": [
       "   year                                              paper  \\\n",
       "0  2020  Pitfalls of In-Domain Uncertainty Estimation a...   \n",
       "1  2020  An Inductive Bias for Distances: Neural Nets t...   \n",
       "2  2020  Stochastic AUC Maximization with Deep Neural N...   \n",
       "3  2020  On the interaction between supervision and sel...   \n",
       "4  2020  Towards Better Understanding of Adaptive Gradi...   \n",
       "\n",
       "                                             authors   ratings  decisions  \\\n",
       "0  [Arsenii Ashukha, Alexander Lyzhov, Dmitry Mol...  6.666667       True   \n",
       "1  [Silviu Pitis, Harris Chan, Kiarash Jamali, Ji...  6.750000       True   \n",
       "2  [Mingrui Liu, Zhuoning Yuan, Yiming Ying, Tian...  6.000000       True   \n",
       "3  [Ryan Lowe*, Abhinav Gupta*, Jakob Foerster, D...  6.666667       True   \n",
       "4  [Mingrui Liu, Youssef Mroueh, Jerret Ross, Wei...  6.000000       True   \n",
       "\n",
       "                                         institution  \\\n",
       "0  [Samsung, Skolkovo Institute of Science and Te...   \n",
       "1  [Department of Computer Science, University of...   \n",
       "2  [University of Iowa, University of Iowa, State...   \n",
       "3  [McGill University, University of Montreal, Fa...   \n",
       "4  [University of Iowa, International Business Ma...   \n",
       "\n",
       "                        csranking categories  \\\n",
       "0               [-1, -1, -1, 481]        [0]   \n",
       "1                [18, 18, 18, 18]    [1, 10]   \n",
       "2            [154, 154, 266, 154]        [9]   \n",
       "3           [86, 128, -1, -1, 86]        [3]   \n",
       "4  [154, -1, -1, -1, -1, -1, 154]     [5, 9]   \n",
       "\n",
       "                      authors_citations           authors_publications  ...  \\\n",
       "0                  [488, 12, 481, 2097]               [14, 2, 17, 124]  ...   \n",
       "1                    [15, 23, 3, 52924]                 [9, 13, 3, 56]  ...   \n",
       "2                [238, 112, 2144, 3236]              [29, 12, 64, 187]  ...   \n",
       "3         [3343, 36, 2107, 3454, 11328]          [53, 10, 58, 80, 267]  ...   \n",
       "4  [238, 916, 392, 108, 241, 848, 3236]  [29, 53, 12, 46, 30, 86, 187]  ...   \n",
       "\n",
       "  authors_citations_median  authors_publications_median  \\\n",
       "0                    484.5                         15.5   \n",
       "1                     19.0                         11.0   \n",
       "2                   1191.0                         46.5   \n",
       "3                   3343.0                         58.0   \n",
       "4                    392.0                         46.0   \n",
       "\n",
       "   authors_hindex_median  reputation  has_top_company  has_top_institution  \\\n",
       "0                    7.5    1.253127                0                    0   \n",
       "1                    2.5    2.975924                0                    0   \n",
       "2                   16.5    1.262565                0                    0   \n",
       "3                   19.0    1.637759                1                    0   \n",
       "4                    9.0    1.262565                0                    0   \n",
       "\n",
       "      crazy  arxiv:has_top_institution  propensity_score  matching  \n",
       "0  2.333333                      False          0.360486      True  \n",
       "1  2.250000                      False          0.567842      True  \n",
       "2  3.000000                      False          0.334322      True  \n",
       "3  2.333333                      False          0.402644      True  \n",
       "4  3.000000                      False          0.334322      True  \n",
       "\n",
       "[5 rows x 22 columns]"
      ]
     },
     "execution_count": 172,
     "metadata": {},
     "output_type": "execute_result"
    }
   ],
   "source": [
    "merged_paper_2020.head()"
   ]
  },
  {
   "cell_type": "code",
   "execution_count": 173,
   "metadata": {},
   "outputs": [],
   "source": [
    "arxiv_paper_matched = merged_paper_2020.loc[((merged_paper_2020['arxiv'])&(merged_paper_2020['matching']))]\n",
    "nonarxiv_paper_matched = merged_paper_2020.loc[(merged_paper_2020['arxiv']==False)&(merged_paper_2020['matching'])]\n",
    "arxiv_paper_all = merged_paper_2020.loc[merged_paper_2020['arxiv']]\n",
    "nonarxiv_paper_all = merged_paper_2020.loc[~merged_paper_2020['arxiv']]"
   ]
  },
  {
   "cell_type": "code",
   "execution_count": 174,
   "metadata": {},
   "outputs": [
    {
     "name": "stderr",
     "output_type": "stream",
     "text": [
      "C:\\DEVELOPMENT\\anconda3\\lib\\site-packages\\matplotlib\\cbook\\__init__.py:1402: FutureWarning: Support for multi-dimensional indexing (e.g. `obj[:, None]`) is deprecated and will be removed in a future version.  Convert to a numpy array before indexing instead.\n",
      "  ndim = x[:, None].ndim\n",
      "C:\\DEVELOPMENT\\anconda3\\lib\\site-packages\\matplotlib\\axes\\_base.py:276: FutureWarning: Support for multi-dimensional indexing (e.g. `obj[:, None]`) is deprecated and will be removed in a future version.  Convert to a numpy array before indexing instead.\n",
      "  x = x[:, np.newaxis]\n",
      "C:\\DEVELOPMENT\\anconda3\\lib\\site-packages\\matplotlib\\axes\\_base.py:278: FutureWarning: Support for multi-dimensional indexing (e.g. `obj[:, None]`) is deprecated and will be removed in a future version.  Convert to a numpy array before indexing instead.\n",
      "  y = y[:, np.newaxis]\n",
      "C:\\DEVELOPMENT\\anconda3\\lib\\site-packages\\matplotlib\\cbook\\__init__.py:1402: FutureWarning: Support for multi-dimensional indexing (e.g. `obj[:, None]`) is deprecated and will be removed in a future version.  Convert to a numpy array before indexing instead.\n",
      "  ndim = x[:, None].ndim\n",
      "C:\\DEVELOPMENT\\anconda3\\lib\\site-packages\\matplotlib\\axes\\_base.py:276: FutureWarning: Support for multi-dimensional indexing (e.g. `obj[:, None]`) is deprecated and will be removed in a future version.  Convert to a numpy array before indexing instead.\n",
      "  x = x[:, np.newaxis]\n",
      "C:\\DEVELOPMENT\\anconda3\\lib\\site-packages\\matplotlib\\axes\\_base.py:278: FutureWarning: Support for multi-dimensional indexing (e.g. `obj[:, None]`) is deprecated and will be removed in a future version.  Convert to a numpy array before indexing instead.\n",
      "  y = y[:, np.newaxis]\n",
      "C:\\DEVELOPMENT\\anconda3\\lib\\site-packages\\matplotlib\\cbook\\__init__.py:1402: FutureWarning: Support for multi-dimensional indexing (e.g. `obj[:, None]`) is deprecated and will be removed in a future version.  Convert to a numpy array before indexing instead.\n",
      "  ndim = x[:, None].ndim\n",
      "C:\\DEVELOPMENT\\anconda3\\lib\\site-packages\\matplotlib\\axes\\_base.py:276: FutureWarning: Support for multi-dimensional indexing (e.g. `obj[:, None]`) is deprecated and will be removed in a future version.  Convert to a numpy array before indexing instead.\n",
      "  x = x[:, np.newaxis]\n",
      "C:\\DEVELOPMENT\\anconda3\\lib\\site-packages\\matplotlib\\axes\\_base.py:278: FutureWarning: Support for multi-dimensional indexing (e.g. `obj[:, None]`) is deprecated and will be removed in a future version.  Convert to a numpy array before indexing instead.\n",
      "  y = y[:, np.newaxis]\n",
      "C:\\DEVELOPMENT\\anconda3\\lib\\site-packages\\matplotlib\\cbook\\__init__.py:1402: FutureWarning: Support for multi-dimensional indexing (e.g. `obj[:, None]`) is deprecated and will be removed in a future version.  Convert to a numpy array before indexing instead.\n",
      "  ndim = x[:, None].ndim\n",
      "C:\\DEVELOPMENT\\anconda3\\lib\\site-packages\\matplotlib\\axes\\_base.py:276: FutureWarning: Support for multi-dimensional indexing (e.g. `obj[:, None]`) is deprecated and will be removed in a future version.  Convert to a numpy array before indexing instead.\n",
      "  x = x[:, np.newaxis]\n",
      "C:\\DEVELOPMENT\\anconda3\\lib\\site-packages\\matplotlib\\axes\\_base.py:278: FutureWarning: Support for multi-dimensional indexing (e.g. `obj[:, None]`) is deprecated and will be removed in a future version.  Convert to a numpy array before indexing instead.\n",
      "  y = y[:, np.newaxis]\n"
     ]
    },
    {
     "data": {
      "image/png": "[encoded data removed]",
      "text/plain": [
       "<Figure size 1008x1008 with 4 Axes>"
      ]
     },
     "metadata": {
      "needs_background": "light"
     },
     "output_type": "display_data"
    }
   ],
   "source": [
    "#Make plots\n",
    "fig, axs = plt.subplots(2,2,figsize=(14,14))\n",
    "sns.histplot(ax=axs[0,0],data=arxiv_paper_matched['reputation'],stat='density',kde='true')\n",
    "axs[0,0].set_title('Distribution of reputation for matched treated subject')\n",
    "sns.histplot(ax=axs[0,1],data=arxiv_paper_matched['ratings'],stat='density',kde='true')\n",
    "axs[0,1].set_title('Distribution of ratings for matched treated subject')\n",
    "sns.histplot(ax=axs[1,0],data=nonarxiv_paper_matched['reputation'],stat='density',kde='true')\n",
    "axs[1,0].set_title('Distribution of reputation for matched non-treated subject')\n",
    "sns.histplot(ax=axs[1,1],data=nonarxiv_paper_matched['ratings'],stat='density',kde='true')\n",
    "axs[1,1].set_title('Distribution of ratings for matched non-treated subject')\n",
    "\n",
    "plt.show()"
   ]
  },
  {
   "cell_type": "markdown",
   "metadata": {},
   "source": [
    "### Solution 3.3.2"
   ]
  },
  {
   "cell_type": "code",
   "execution_count": 175,
   "metadata": {
    "scrolled": true
   },
   "outputs": [
    {
     "name": "stderr",
     "output_type": "stream",
     "text": [
      "C:\\DEVELOPMENT\\anconda3\\lib\\site-packages\\matplotlib\\cbook\\__init__.py:1402: FutureWarning: Support for multi-dimensional indexing (e.g. `obj[:, None]`) is deprecated and will be removed in a future version.  Convert to a numpy array before indexing instead.\n",
      "  ndim = x[:, None].ndim\n",
      "C:\\DEVELOPMENT\\anconda3\\lib\\site-packages\\matplotlib\\axes\\_base.py:276: FutureWarning: Support for multi-dimensional indexing (e.g. `obj[:, None]`) is deprecated and will be removed in a future version.  Convert to a numpy array before indexing instead.\n",
      "  x = x[:, np.newaxis]\n",
      "C:\\DEVELOPMENT\\anconda3\\lib\\site-packages\\matplotlib\\axes\\_base.py:278: FutureWarning: Support for multi-dimensional indexing (e.g. `obj[:, None]`) is deprecated and will be removed in a future version.  Convert to a numpy array before indexing instead.\n",
      "  y = y[:, np.newaxis]\n",
      "C:\\DEVELOPMENT\\anconda3\\lib\\site-packages\\matplotlib\\cbook\\__init__.py:1402: FutureWarning: Support for multi-dimensional indexing (e.g. `obj[:, None]`) is deprecated and will be removed in a future version.  Convert to a numpy array before indexing instead.\n",
      "  ndim = x[:, None].ndim\n",
      "C:\\DEVELOPMENT\\anconda3\\lib\\site-packages\\matplotlib\\axes\\_base.py:276: FutureWarning: Support for multi-dimensional indexing (e.g. `obj[:, None]`) is deprecated and will be removed in a future version.  Convert to a numpy array before indexing instead.\n",
      "  x = x[:, np.newaxis]\n",
      "C:\\DEVELOPMENT\\anconda3\\lib\\site-packages\\matplotlib\\axes\\_base.py:278: FutureWarning: Support for multi-dimensional indexing (e.g. `obj[:, None]`) is deprecated and will be removed in a future version.  Convert to a numpy array before indexing instead.\n",
      "  y = y[:, np.newaxis]\n",
      "C:\\DEVELOPMENT\\anconda3\\lib\\site-packages\\matplotlib\\cbook\\__init__.py:1402: FutureWarning: Support for multi-dimensional indexing (e.g. `obj[:, None]`) is deprecated and will be removed in a future version.  Convert to a numpy array before indexing instead.\n",
      "  ndim = x[:, None].ndim\n",
      "C:\\DEVELOPMENT\\anconda3\\lib\\site-packages\\matplotlib\\axes\\_base.py:276: FutureWarning: Support for multi-dimensional indexing (e.g. `obj[:, None]`) is deprecated and will be removed in a future version.  Convert to a numpy array before indexing instead.\n",
      "  x = x[:, np.newaxis]\n",
      "C:\\DEVELOPMENT\\anconda3\\lib\\site-packages\\matplotlib\\axes\\_base.py:278: FutureWarning: Support for multi-dimensional indexing (e.g. `obj[:, None]`) is deprecated and will be removed in a future version.  Convert to a numpy array before indexing instead.\n",
      "  y = y[:, np.newaxis]\n",
      "C:\\DEVELOPMENT\\anconda3\\lib\\site-packages\\matplotlib\\cbook\\__init__.py:1402: FutureWarning: Support for multi-dimensional indexing (e.g. `obj[:, None]`) is deprecated and will be removed in a future version.  Convert to a numpy array before indexing instead.\n",
      "  ndim = x[:, None].ndim\n",
      "C:\\DEVELOPMENT\\anconda3\\lib\\site-packages\\matplotlib\\axes\\_base.py:276: FutureWarning: Support for multi-dimensional indexing (e.g. `obj[:, None]`) is deprecated and will be removed in a future version.  Convert to a numpy array before indexing instead.\n",
      "  x = x[:, np.newaxis]\n",
      "C:\\DEVELOPMENT\\anconda3\\lib\\site-packages\\matplotlib\\axes\\_base.py:278: FutureWarning: Support for multi-dimensional indexing (e.g. `obj[:, None]`) is deprecated and will be removed in a future version.  Convert to a numpy array before indexing instead.\n",
      "  y = y[:, np.newaxis]\n"
     ]
    },
    {
     "data": {
      "image/png": "[encoded data removed]",
      "text/plain": [
       "<Figure size 1008x1008 with 4 Axes>"
      ]
     },
     "metadata": {
      "needs_background": "light"
     },
     "output_type": "display_data"
    }
   ],
   "source": [
    "#Make plots\n",
    "fig, axs = plt.subplots(2,2,figsize=(14,14))\n",
    "sns.histplot(ax=axs[0,0],data=arxiv_paper_all['reputation'],stat='density',kde='true')\n",
    "axs[0,0].set_title('Distribution of reputation for all arxiv paper')\n",
    "sns.histplot(ax=axs[0,1],data=arxiv_paper_all['ratings'],stat='density',kde='true')\n",
    "axs[0,1].set_title('Distribution of ratings for all arxiv paper')\n",
    "sns.histplot(ax=axs[1,0],data=nonarxiv_paper_all['reputation'],stat='density',kde='true')\n",
    "axs[1,0].set_title('Distribution of reputation for all non-arxiv paper')\n",
    "sns.histplot(ax=axs[1,1],data=nonarxiv_paper_all['ratings'],stat='density',kde='true')\n",
    "axs[1,1].set_title('Distribution of ratings for all non-arxiv paper')\n",
    "\n",
    "plt.show()"
   ]
  },
  {
   "cell_type": "markdown",
   "metadata": {},
   "source": [
    "### Solution 3.3.3\n",
    "\n",
    "For matched data, the distribution for arxiv and non-arxiv paper (both ratings and reputation) has slight difference.\n",
    "For all data, we observe that distribution for arxive and non-arxiv paper (both ratings and reputation)  has larger diffrence. This indicates that matching help balance covariate."
   ]
  },
  {
   "cell_type": "markdown",
   "metadata": {
    "pycharm": {
     "name": "#%% md\n"
    }
   },
   "source": [
    "### Task 3.4\n",
    "\n",
    "Finally, it's time to estimate the treatment effect. Given that we have pairs of matched samples, one that received treatment and one that did not, and that they have associated outcomes $y_{treat}$ and $y_{\\neg treat}$. We can calculate the average treatment effect as:\n",
    "\n",
    "$$\n",
    "ATE = \\frac{1}{N} \\sum_i^N  y_{treat}^{(i)} - y_{\\neg treat}^{(i)}\n",
    "$$\n",
    "\n",
    "Notice that here the outcome is a simple binary variable which equals 1 if the paper has been accepted and equals 0 if the paper has been rejected, and $N$ is the total number of matched samples in our analysis.\n",
    "\n",
    "According to your matched sample, estimate the treatment effect of publishing a paper on arxiv. Report the 95% CI through bootstrapping.\n"
   ]
  },
  {
   "cell_type": "markdown",
   "metadata": {
    "pycharm": {
     "name": "#%%\n"
    }
   },
   "source": [
    "### Solution 3.4"
   ]
  },
  {
   "cell_type": "code",
   "execution_count": 176,
   "metadata": {},
   "outputs": [],
   "source": [
    "te_array = np.zeros(590)\n",
    "te_iter = 0\n",
    "\n",
    "for i in arxiv_paper_matched.index:\n",
    "    matched_index = match_dict[i]\n",
    "    te_array[te_iter] = (arxiv_paper_matched.loc[i,'decisions'].astype(int) - nonarxiv_paper_matched.loc[matched_index,'decisions'].astype(int))\n",
    "    te_iter = te_iter+1\n",
    "    \n",
    "ate,ate_interval = CI_Calculate(te_array,0.95)"
   ]
  },
  {
   "cell_type": "code",
   "execution_count": 180,
   "metadata": {},
   "outputs": [
    {
     "data": {
      "text/plain": [
       "-0.24915254237288137"
      ]
     },
     "execution_count": 180,
     "metadata": {},
     "output_type": "execute_result"
    }
   ],
   "source": [
    "np.mean(te_array)"
   ]
  },
  {
   "cell_type": "code",
   "execution_count": 177,
   "metadata": {},
   "outputs": [
    {
     "data": {
      "text/plain": [
       "-0.24915254237288137"
      ]
     },
     "execution_count": 177,
     "metadata": {},
     "output_type": "execute_result"
    }
   ],
   "source": [
    "ate"
   ]
  },
  {
   "cell_type": "code",
   "execution_count": 178,
   "metadata": {},
   "outputs": [
    {
     "data": {
      "text/plain": [
       "(-0.2841544973154242, -0.21415058743033855)"
      ]
     },
     "execution_count": 178,
     "metadata": {},
     "output_type": "execute_result"
    }
   ],
   "source": [
    "ate_interval\n",
    "#confidence = 0.95"
   ]
  },
  {
   "cell_type": "markdown",
   "metadata": {
    "pycharm": {
     "name": "#%% md\n"
    }
   },
   "source": [
    "### Task 3.5\n",
    "\n",
    "Wait, but what about prestigious institutions? \n",
    "\n",
    "1.  To understand what is going on there, repeat tasks 3.2 to 3.4 considering *only* the top 10 institutions. Notice that you can use the same propensity scores and re-do the steps in a reduced dataframe containing only top-institutions.\n",
    "2. **Discuss:** Is this evidence that arxiv breaks double-blind submissions?"
   ]
  },
  {
   "cell_type": "markdown",
   "metadata": {
    "pycharm": {
     "name": "#%%\n"
    }
   },
   "source": [
    "### Solution 3.5.1"
   ]
  },
  {
   "cell_type": "code",
   "execution_count": 184,
   "metadata": {},
   "outputs": [],
   "source": [
    "paper_2020_top_institution = merged_paper_2020.loc[merged_paper_2020['has_top_institution']==1].copy()"
   ]
  },
  {
   "cell_type": "code",
   "execution_count": 185,
   "metadata": {},
   "outputs": [],
   "source": [
    "#Select all arxiv paper and non-arxiv paper\n",
    "arxiv_paper = paper_2020_top_institution.loc[paper_2020_top_institution['arxiv']]['propensity_score']\n",
    "nonarxiv_paper = paper_2020_top_institution.loc[~paper_2020_top_institution['arxiv']]['propensity_score']\n",
    "epsilon = 0.05 "
   ]
  },
  {
   "cell_type": "code",
   "execution_count": 186,
   "metadata": {},
   "outputs": [],
   "source": [
    "#Create edges list\n",
    "#Put ever possible edge in the list\n",
    "edges = []\n",
    "for i in arxiv_paper.index:\n",
    "    for j in nonarxiv_paper.index:\n",
    "        weight = abs(arxiv_paper.loc[i]-nonarxiv_paper.loc[j])\n",
    "        if weight<epsilon:\n",
    "            edges.append((i,j))"
   ]
  },
  {
   "cell_type": "code",
   "execution_count": 187,
   "metadata": {},
   "outputs": [],
   "source": [
    "G = nx.Graph()#Create graph\n",
    "\n",
    "#Add nodes\n",
    "G.add_nodes_from(arxiv_paper.index.values, bipartite=0)\n",
    "G.add_nodes_from(nonarxiv_paper.index.values, bipartite=1)\n",
    "\n",
    "#Add possible edges\n",
    "G.add_edges_from(edges)"
   ]
  },
  {
   "cell_type": "code",
   "execution_count": 188,
   "metadata": {},
   "outputs": [
    {
     "name": "stdout",
     "output_type": "stream",
     "text": [
      "number of pairs:161.0\n"
     ]
    }
   ],
   "source": [
    "#do maxiumn matching\n",
    "#Create a dictionary of matching\n",
    "match_dict = nx.bipartite.maximum_matching(G)\n",
    "print(\"number of pairs:{}\".format(len(match_dict)/2))"
   ]
  },
  {
   "cell_type": "code",
   "execution_count": 189,
   "metadata": {},
   "outputs": [
    {
     "data": {
      "text/plain": [
       "200"
      ]
     },
     "execution_count": 189,
     "metadata": {},
     "output_type": "execute_result"
    }
   ],
   "source": [
    "len(nonarxiv_paper)-161"
   ]
  },
  {
   "cell_type": "code",
   "execution_count": 190,
   "metadata": {},
   "outputs": [],
   "source": [
    "#Create another column named 'matching'\n",
    "#True and False\n",
    "paper_2020_top_institution['matching'] = False\n",
    "\n",
    "for i in paper_2020_top_institution.index:\n",
    "    if i in match_dict.keys():\n",
    "        paper_2020_top_institution.loc[i,'matching'] = True"
   ]
  },
  {
   "cell_type": "code",
   "execution_count": 191,
   "metadata": {},
   "outputs": [],
   "source": [
    "arxiv_paper_matched = paper_2020_top_institution.loc[((paper_2020_top_institution['arxiv'])&(paper_2020_top_institution['matching']))]\n",
    "nonarxiv_paper_matched = paper_2020_top_institution.loc[(paper_2020_top_institution['arxiv']==False)&(paper_2020_top_institution['matching'])]\n",
    "arxiv_paper_all = paper_2020_top_institution.loc[paper_2020_top_institution['arxiv']]\n",
    "nonarxiv_paper_all = paper_2020_top_institution.loc[~paper_2020_top_institution['arxiv']]"
   ]
  },
  {
   "cell_type": "code",
   "execution_count": 197,
   "metadata": {},
   "outputs": [
    {
     "name": "stderr",
     "output_type": "stream",
     "text": [
      "C:\\DEVELOPMENT\\anconda3\\lib\\site-packages\\matplotlib\\cbook\\__init__.py:1402: FutureWarning: Support for multi-dimensional indexing (e.g. `obj[:, None]`) is deprecated and will be removed in a future version.  Convert to a numpy array before indexing instead.\n",
      "  ndim = x[:, None].ndim\n",
      "C:\\DEVELOPMENT\\anconda3\\lib\\site-packages\\matplotlib\\axes\\_base.py:276: FutureWarning: Support for multi-dimensional indexing (e.g. `obj[:, None]`) is deprecated and will be removed in a future version.  Convert to a numpy array before indexing instead.\n",
      "  x = x[:, np.newaxis]\n",
      "C:\\DEVELOPMENT\\anconda3\\lib\\site-packages\\matplotlib\\axes\\_base.py:278: FutureWarning: Support for multi-dimensional indexing (e.g. `obj[:, None]`) is deprecated and will be removed in a future version.  Convert to a numpy array before indexing instead.\n",
      "  y = y[:, np.newaxis]\n",
      "C:\\DEVELOPMENT\\anconda3\\lib\\site-packages\\matplotlib\\cbook\\__init__.py:1402: FutureWarning: Support for multi-dimensional indexing (e.g. `obj[:, None]`) is deprecated and will be removed in a future version.  Convert to a numpy array before indexing instead.\n",
      "  ndim = x[:, None].ndim\n",
      "C:\\DEVELOPMENT\\anconda3\\lib\\site-packages\\matplotlib\\axes\\_base.py:276: FutureWarning: Support for multi-dimensional indexing (e.g. `obj[:, None]`) is deprecated and will be removed in a future version.  Convert to a numpy array before indexing instead.\n",
      "  x = x[:, np.newaxis]\n",
      "C:\\DEVELOPMENT\\anconda3\\lib\\site-packages\\matplotlib\\axes\\_base.py:278: FutureWarning: Support for multi-dimensional indexing (e.g. `obj[:, None]`) is deprecated and will be removed in a future version.  Convert to a numpy array before indexing instead.\n",
      "  y = y[:, np.newaxis]\n",
      "C:\\DEVELOPMENT\\anconda3\\lib\\site-packages\\matplotlib\\cbook\\__init__.py:1402: FutureWarning: Support for multi-dimensional indexing (e.g. `obj[:, None]`) is deprecated and will be removed in a future version.  Convert to a numpy array before indexing instead.\n",
      "  ndim = x[:, None].ndim\n",
      "C:\\DEVELOPMENT\\anconda3\\lib\\site-packages\\matplotlib\\axes\\_base.py:276: FutureWarning: Support for multi-dimensional indexing (e.g. `obj[:, None]`) is deprecated and will be removed in a future version.  Convert to a numpy array before indexing instead.\n",
      "  x = x[:, np.newaxis]\n",
      "C:\\DEVELOPMENT\\anconda3\\lib\\site-packages\\matplotlib\\axes\\_base.py:278: FutureWarning: Support for multi-dimensional indexing (e.g. `obj[:, None]`) is deprecated and will be removed in a future version.  Convert to a numpy array before indexing instead.\n",
      "  y = y[:, np.newaxis]\n",
      "C:\\DEVELOPMENT\\anconda3\\lib\\site-packages\\matplotlib\\cbook\\__init__.py:1402: FutureWarning: Support for multi-dimensional indexing (e.g. `obj[:, None]`) is deprecated and will be removed in a future version.  Convert to a numpy array before indexing instead.\n",
      "  ndim = x[:, None].ndim\n",
      "C:\\DEVELOPMENT\\anconda3\\lib\\site-packages\\matplotlib\\axes\\_base.py:276: FutureWarning: Support for multi-dimensional indexing (e.g. `obj[:, None]`) is deprecated and will be removed in a future version.  Convert to a numpy array before indexing instead.\n",
      "  x = x[:, np.newaxis]\n",
      "C:\\DEVELOPMENT\\anconda3\\lib\\site-packages\\matplotlib\\axes\\_base.py:278: FutureWarning: Support for multi-dimensional indexing (e.g. `obj[:, None]`) is deprecated and will be removed in a future version.  Convert to a numpy array before indexing instead.\n",
      "  y = y[:, np.newaxis]\n"
     ]
    },
    {
     "data": {
      "image/png": "[encoded data removed]",
      "text/plain": [
       "<Figure size 1008x1008 with 4 Axes>"
      ]
     },
     "metadata": {
      "needs_background": "light"
     },
     "output_type": "display_data"
    }
   ],
   "source": [
    "#Make plots\n",
    "fig, axs = plt.subplots(2,2,figsize=(14,14))\n",
    "sns.histplot(ax=axs[0,0],data=arxiv_paper_matched['reputation'],stat='density',kde='true')\n",
    "axs[0,0].set_title('Distribution of reputation for matched treated subject')\n",
    "sns.histplot(ax=axs[0,1],data=arxiv_paper_matched['ratings'],stat='density',kde='true')\n",
    "axs[0,1].set_title('Distribution of ratings for matched treated subject')\n",
    "sns.histplot(ax=axs[1,0],data=nonarxiv_paper_matched['reputation'],stat='density',kde='true')\n",
    "axs[1,0].set_title('Distribution of reputation for matched non-treated subject')\n",
    "sns.histplot(ax=axs[1,1],data=nonarxiv_paper_matched['ratings'],stat='density',kde='true')\n",
    "axs[1,1].set_title('Distribution of ratings for matched non-treated subject')\n",
    "\n",
    "plt.show()"
   ]
  },
  {
   "cell_type": "code",
   "execution_count": 198,
   "metadata": {},
   "outputs": [
    {
     "name": "stderr",
     "output_type": "stream",
     "text": [
      "C:\\DEVELOPMENT\\anconda3\\lib\\site-packages\\matplotlib\\cbook\\__init__.py:1402: FutureWarning: Support for multi-dimensional indexing (e.g. `obj[:, None]`) is deprecated and will be removed in a future version.  Convert to a numpy array before indexing instead.\n",
      "  ndim = x[:, None].ndim\n",
      "C:\\DEVELOPMENT\\anconda3\\lib\\site-packages\\matplotlib\\axes\\_base.py:276: FutureWarning: Support for multi-dimensional indexing (e.g. `obj[:, None]`) is deprecated and will be removed in a future version.  Convert to a numpy array before indexing instead.\n",
      "  x = x[:, np.newaxis]\n",
      "C:\\DEVELOPMENT\\anconda3\\lib\\site-packages\\matplotlib\\axes\\_base.py:278: FutureWarning: Support for multi-dimensional indexing (e.g. `obj[:, None]`) is deprecated and will be removed in a future version.  Convert to a numpy array before indexing instead.\n",
      "  y = y[:, np.newaxis]\n",
      "C:\\DEVELOPMENT\\anconda3\\lib\\site-packages\\matplotlib\\cbook\\__init__.py:1402: FutureWarning: Support for multi-dimensional indexing (e.g. `obj[:, None]`) is deprecated and will be removed in a future version.  Convert to a numpy array before indexing instead.\n",
      "  ndim = x[:, None].ndim\n",
      "C:\\DEVELOPMENT\\anconda3\\lib\\site-packages\\matplotlib\\axes\\_base.py:276: FutureWarning: Support for multi-dimensional indexing (e.g. `obj[:, None]`) is deprecated and will be removed in a future version.  Convert to a numpy array before indexing instead.\n",
      "  x = x[:, np.newaxis]\n",
      "C:\\DEVELOPMENT\\anconda3\\lib\\site-packages\\matplotlib\\axes\\_base.py:278: FutureWarning: Support for multi-dimensional indexing (e.g. `obj[:, None]`) is deprecated and will be removed in a future version.  Convert to a numpy array before indexing instead.\n",
      "  y = y[:, np.newaxis]\n",
      "C:\\DEVELOPMENT\\anconda3\\lib\\site-packages\\matplotlib\\cbook\\__init__.py:1402: FutureWarning: Support for multi-dimensional indexing (e.g. `obj[:, None]`) is deprecated and will be removed in a future version.  Convert to a numpy array before indexing instead.\n",
      "  ndim = x[:, None].ndim\n",
      "C:\\DEVELOPMENT\\anconda3\\lib\\site-packages\\matplotlib\\axes\\_base.py:276: FutureWarning: Support for multi-dimensional indexing (e.g. `obj[:, None]`) is deprecated and will be removed in a future version.  Convert to a numpy array before indexing instead.\n",
      "  x = x[:, np.newaxis]\n",
      "C:\\DEVELOPMENT\\anconda3\\lib\\site-packages\\matplotlib\\axes\\_base.py:278: FutureWarning: Support for multi-dimensional indexing (e.g. `obj[:, None]`) is deprecated and will be removed in a future version.  Convert to a numpy array before indexing instead.\n",
      "  y = y[:, np.newaxis]\n",
      "C:\\DEVELOPMENT\\anconda3\\lib\\site-packages\\matplotlib\\cbook\\__init__.py:1402: FutureWarning: Support for multi-dimensional indexing (e.g. `obj[:, None]`) is deprecated and will be removed in a future version.  Convert to a numpy array before indexing instead.\n",
      "  ndim = x[:, None].ndim\n",
      "C:\\DEVELOPMENT\\anconda3\\lib\\site-packages\\matplotlib\\axes\\_base.py:276: FutureWarning: Support for multi-dimensional indexing (e.g. `obj[:, None]`) is deprecated and will be removed in a future version.  Convert to a numpy array before indexing instead.\n",
      "  x = x[:, np.newaxis]\n",
      "C:\\DEVELOPMENT\\anconda3\\lib\\site-packages\\matplotlib\\axes\\_base.py:278: FutureWarning: Support for multi-dimensional indexing (e.g. `obj[:, None]`) is deprecated and will be removed in a future version.  Convert to a numpy array before indexing instead.\n",
      "  y = y[:, np.newaxis]\n"
     ]
    },
    {
     "data": {
      "image/png": "[encoded data removed]",
      "text/plain": [
       "<Figure size 1008x1008 with 4 Axes>"
      ]
     },
     "metadata": {
      "needs_background": "light"
     },
     "output_type": "display_data"
    }
   ],
   "source": [
    "#Make plots\n",
    "fig, axs = plt.subplots(2,2,figsize=(14,14))\n",
    "sns.histplot(ax=axs[0,0],data=arxiv_paper_all['reputation'],stat='density',kde='true')\n",
    "axs[0,0].set_title('Distribution of reputation for all arxiv paper')\n",
    "sns.histplot(ax=axs[0,1],data=arxiv_paper_all['ratings'],stat='density',kde='true')\n",
    "axs[0,1].set_title('Distribution of ratings for all arxiv paper')\n",
    "sns.histplot(ax=axs[1,0],data=nonarxiv_paper_all['reputation'],stat='density',kde='true')\n",
    "axs[1,0].set_title('Distribution of reputation for all non-arxiv paper')\n",
    "sns.histplot(ax=axs[1,1],data=nonarxiv_paper_all['ratings'],stat='density',kde='true')\n",
    "axs[1,1].set_title('Distribution of ratings for all non-arxiv paper')\n",
    "\n",
    "plt.show()"
   ]
  },
  {
   "cell_type": "code",
   "execution_count": 194,
   "metadata": {},
   "outputs": [],
   "source": [
    "te_array = np.zeros(161)\n",
    "te_iter = 0\n",
    "\n",
    "for i in arxiv_paper_matched.index:\n",
    "    matched_index = match_dict[i]\n",
    "    te_array[te_iter] = (arxiv_paper_matched.loc[i,'decisions'].astype(int) - nonarxiv_paper_matched.loc[matched_index,'decisions'].astype(int))\n",
    "    te_iter = te_iter+1\n",
    "    \n",
    "ate,ate_interval = CI_Calculate(te_array,0.95)"
   ]
  },
  {
   "cell_type": "code",
   "execution_count": 195,
   "metadata": {},
   "outputs": [
    {
     "data": {
      "text/plain": [
       "-0.19254658385093168"
      ]
     },
     "execution_count": 195,
     "metadata": {},
     "output_type": "execute_result"
    }
   ],
   "source": [
    "ate"
   ]
  },
  {
   "cell_type": "code",
   "execution_count": 196,
   "metadata": {},
   "outputs": [
    {
     "data": {
      "text/plain": [
       "(-0.28708597462641705, -0.09800719307544628)"
      ]
     },
     "execution_count": 196,
     "metadata": {},
     "output_type": "execute_result"
    }
   ],
   "source": [
    "ate_interval"
   ]
  }
 ],
 "metadata": {
  "kernelspec": {
   "display_name": "Python 3",
   "language": "python",
   "name": "python3"
  },
  "language_info": {
   "codemirror_mode": {
    "name": "ipython",
    "version": 3
   },
   "file_extension": ".py",
   "mimetype": "text/x-python",
   "name": "python",
   "nbconvert_exporter": "python",
   "pygments_lexer": "ipython3",
   "version": "3.8.3"
  },
  "pycharm": {
   "stem_cell": {
    "cell_type": "raw",
    "metadata": {
     "collapsed": false
    },
    "source": []
   }
  }
 },
 "nbformat": 4,
 "nbformat_minor": 4
}
