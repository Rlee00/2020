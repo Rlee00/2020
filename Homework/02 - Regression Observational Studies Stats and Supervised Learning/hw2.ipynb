{
 "cells": [
  {
   "cell_type": "markdown",
   "metadata": {},
   "source": [
    "# Homework 2 (HW2)\n",
    "\n",
    "---\n",
    "By the end of this homework we expect you to be able to:\n",
    "1. Preprocess data and make it amenable to statistical analysis and machine learning models;\n",
    "2. Train and test out-of-the-box machine learning models in Python;\n",
    "3. Carry out statistical hypothesis testing;\n",
    "4. Carry out simple multivariate regression analyses;\n",
    "5. Use techniques to control for covariates;\n",
    "---\n",
    "\n",
    "## Important Dates\n",
    "\n",
    "- Homework release: Fri 6 Nov 2020\n",
    "- **Homework due**: Fri 20 Nov 2020, 23:59\n",
    "- Grade release: Mon 30 Nov 2020\n",
    "\n",
    "---\n",
    "\n",
    "##  Some rules\n",
    "\n",
    "1. You are allowed to use any built-in Python library that comes with Anaconda. If you want to use an external library, you have to justify your choice.\n",
    "2. Make sure you use the data folder provided in the repository in **read-only** mode.\n",
    "3. Be sure to provide a textual description of your thought process, the assumptions you made, the solution you implemented, and explanations for your answers. A notebook that only has code cells will not suffice.\n",
    "4. For questions containing the **/Discuss:/** prefix, answer not with code, but with a textual explanation (in markdown).\n",
    "5. Back up any hypotheses and claims with data, since this is an important aspect of the course.\n",
    "6. Please write all your comments in English, and use meaningful variable names in your code. Your repo should have a single notebook (plus the required data files) in the master branch. If there are multiple notebooks present, we will **strictly** not grade anything.\n",
    "7. Also, be sure to hand in a fully-run and evaluated notebook. We will not run your notebook for you, we will grade it as is, which means that only the results contained in your evaluated code cells will be considered, and we will not see the results in unevaluated code cells. In order to check whether everything looks as intended, you can check the rendered notebook on the GitHub website once you have pushed your solution there.\n",
    "8. Make sure to print results or dataframes that confirm you have properly addressed the task.\n",
    "9. Lastly, the grading is done in the *double blind* mode, i.e., the TAs grades an anonymized version of your notebook, so make sure that your notebook **neither has your team name nor the names of the members**.\n",
    "\n",
    "## Context\n",
    "\n",
    "Publishing papers is a big part of the lives of [Ph.D. students](http://phdcomics.com/comics/archive.php?comicid=154), [post-docs](http://phdcomics.com/comics/archive.php?comicid=1744) and [professors](http://phdcomics.com/comics/archive.php?comicid=1051). \n",
    "In Computer Science, publishing happens mostly in conferences. What follows is a slight simplification of how these conferences decide which papers to accept and which papers to reject.\n",
    " \n",
    "Every year, scholars submit papers to prestigious conferences. The papers are then assigned to reviewers (usually around 3), who are other people from the same research community (respect thy neighbor!). Each reviewer weighs in on whether they believe the papers they were assigned are good or bad, and write a review, often along with a score (e.g. +3 Strong Accept, +2 Accept, +1 Weak Accept, 0 Borderline, …,  -3 Strong Reject). Then, in the end, \"special\" reviewers called, \"Area Chairs\" analyze all the reviews that were written for the same paper and decide what gets accepted and what gets rejected. Importantly, throughout this whole dance, reviewers and authors are anonymous. When you're reviewing a paper, you do not know who wrote it. And when you receive the review, you don't know who reviewed it. Because of that, we call this a double-blind reviewing process.\n",
    "\n",
    "An interesting development that has evolved in recent years is the rise of pre-prints. In previous times, researchers often exposed their research to the world only after it had been peer-reviewed and published in a conference or a journal. But recently researchers are much keener to let their ideas out into the world as soon as possible, and they publish their research before it has been approved to any conference or journal, by posting the research on so-called pre-print servers. The most common pre-print server for Computer Science, Physics, and Maths is called [arXiv](https://arxiv.org/), for Biology, an increasingly popular one is [bioRxiv](https://www.biorxiv.org/), for Psychology [psyArXiv](https://psyarxiv.com/) (they are not very creative with the names). Notice that pre-prints and peer-review are not mutually exclusive, in fact, usually, you publish your pre-print, and then you try to publish your work in a peer-reviewed setting.\n",
    "\n",
    "Overall, publishing pre-prints has many benefits. They make science more accessible and hasten the circulation of important results in the academic community. However, a big issue brought forth with pre-prints is that they often break the anonymity in the double-blind reviewing process. For instance, in machine learning, since most papers are published as pre-prints, it is often easy to figure out if the paper you are reviewing is from a famous researcher or a big company with prominent research scientists. From critics' viewpoint, knowing the authors of the papers you are reviewing can bias your reviews. If you know that a given author is famous, you'd be more inclined to take his or her word for granted. If the author is from an institution you’ve never heard about, you are more likely to doubt his or her findings.\n",
    "\n",
    "In this homework, we will take a data-driven deep dive into the world of academic publishing. Can you use your freshly acquired data-science skills to predict which papers are going to make the cut? Are your data analysis skills sharp enough to figure out whether the aforementioned concerns about pre-print issues are justified?\n",
    "\n",
    "\n",
    "## The data\n",
    "\n",
    "The data, whose source has been *\"double-blinded\"* from you, and which has been simplified a bit for the assignment, contains information about submissions to a prestigious machine learning conference called ICLR (pronounced “I-clear”). You can find the dataframe in the git repo for the homework (`./data/dataset_final.csv`). We provide a brief description of the fields you will encounter.\n",
    "\n",
    "- `year`: year the paper has been submitted to ICLR. Notice that we provide data for three years, 2018, 2019, and 2020.\n",
    "\n",
    "\n",
    "- `paper`: title of the paper.\n",
    "\n",
    "\n",
    "- `authors`: names of the authors separated by ;.\n",
    "\n",
    "\n",
    "- `ratings`: mean rating given to the paper by the reviewers.\n",
    "\n",
    "\n",
    "- `decisions`: either Accept if the paper was accepted, or Reject otherwise.\n",
    "\n",
    "\n",
    "- `institution`: institutions for each of the authors, separated by ;.\n",
    "\n",
    "\n",
    "- `csranking`: ranking of the institutions according to csrankings. The better the institution, the better the rank. Notice that, if a paper has more than 1 author, this field will contain multiple values, separated by ;. For institutions that are not in csrankings, the value will be -1.\n",
    "\n",
    "\n",
    "- `categories`: topical categories of the paper. Each number corresponds to a different category: (1) Theory, (2) Computer Vision, (3) Natural Language Processing, (4) Adversarial ML, (5) Generative Modeling, (7) Fairness, (8) Generalization, (9) Optimization, (10) Graphs, (11) Bayesian Methods, (0) Others. A paper may belong to multiple categories, separated by ;.\n",
    "\n",
    "\n",
    "- `authors_citations`: number of citations of each one of the authors, separated by ;.\n",
    "\n",
    "\n",
    "- `authors_publications`: number of publications by each one of the authors, separated by ;.\n",
    "\n",
    "\n",
    "- `authors_hindex`: h-index of each one of the authors, separated by ;. The h-index is an author-level metric that measures both the productivity and citation impact of the publications of a scientist or scholar. It is the maximum value $h$ such that the given author has published $h$ papers that have each been cited at least $h$ times.\n",
    "\n",
    "\n",
    "- `arxiv`: whether the paper was spotted in a pre-print server around the submission period.\n",
    "\n",
    "Also, notice that in this dataframe, when some piece of data was not available, -1 will be used as the value. For example, companies aren't a part of csrankings, so for people who work in big companies, the values are -1 in the field csranking.\n"
   ]
  },
  {
   "cell_type": "markdown",
   "metadata": {},
   "source": [
    "## _Step 1:_ Predicting paper ratings\n",
    "\n",
    "The first part of this homework poses a simple question: Can you predict the ratings the paper will receive given attributes related to its authors? To answer this question, we will build an ML pipeline from scratch, preprocessing the data, training a regression model, and then evaluating it.\n",
    "\n",
    "\n",
    "---\n",
    "\n",
    "### Task 1.1\n",
    "\n",
    "Some of the fields in the data are not very amenable to serve as input to traditional machine learning algorithms. Namely, we have some fields for which there are a varying number of values (e.g. papers with 3 authors will have 3 values in the `author_citations` field, papers with 5 authors will have 5).\n",
    "\n",
    "\n",
    "Your first task is to perform some feature engineering and derive unique values for each paper which you will be able to use in your ML model. \n",
    "More specifically, you must:\n",
    "\n",
    "1. Create 3 new fields in the dataframe corresponding to the median value of the number of citations per author, the number of publications per author, and the h-index per author. So for instance, for the row `authors_publications`, you will create an additional column, e.g. `authors_publications_median`, containing the median number of publications per author in each paper.\n",
    "2. Create another field entitled `reputation` capturing how famous the last author of the paper is. Notice that the last author of the paper is usually the most senior person involved in the project. This field should equal $\\log_{10}\\Big(\\frac{\\#citations}{\\#publications} + 1\\Big)$. Notice that each author in the dataset has at least 1 publication, so you don't risk dividing by 0.\n",
    "3. Create two fields called `has_top_company` and `has_top_institution`. The field `has_top_company` equals 1 if the article contains an author in the following list of companies `[\"Facebook\", \"Google\", \"Microsoft\", \"Deepmind\"]`, and 0 otherwise. The field `has_top_institution` equals 1 if the article contains an author in the top 10 institutions according to CSRankings.\n",
    "4. **Discuss:** How did you handle -1 values in item 1.1.1? Justify your approach.\n",
    "\n",
    "---"
   ]
  },
  {
   "cell_type": "code",
   "execution_count": 1,
   "metadata": {},
   "outputs": [],
   "source": [
    "### Your code here! ###\n",
    "import pandas as pd\n",
    "\n",
    "#Read articles.tsv.gz\n",
    "dataset_final = pd.read_csv('data/dataset_final.csv',sep=\",\")\n",
    "\n",
    "#Read topics.jsonl.gz\n",
    "propensity_scores = pd.read_csv('data/propensity_scores.csv.gz',compression=\"gzip\",sep=\",\")\n"
   ]
  },
  {
   "cell_type": "code",
   "execution_count": 2,
   "metadata": {
    "scrolled": true
   },
   "outputs": [
    {
     "data": {
      "text/html": [
       "<div>\n",
       "<style scoped>\n",
       "    .dataframe tbody tr th:only-of-type {\n",
       "        vertical-align: middle;\n",
       "    }\n",
       "\n",
       "    .dataframe tbody tr th {\n",
       "        vertical-align: top;\n",
       "    }\n",
       "\n",
       "    .dataframe thead th {\n",
       "        text-align: right;\n",
       "    }\n",
       "</style>\n",
       "<table border=\"1\" class=\"dataframe\">\n",
       "  <thead>\n",
       "    <tr style=\"text-align: right;\">\n",
       "      <th></th>\n",
       "      <th>year</th>\n",
       "      <th>paper</th>\n",
       "      <th>authors</th>\n",
       "      <th>ratings</th>\n",
       "      <th>decisions</th>\n",
       "      <th>institution</th>\n",
       "      <th>csranking</th>\n",
       "      <th>categories</th>\n",
       "      <th>authors_citations</th>\n",
       "      <th>authors_publications</th>\n",
       "      <th>authors_hindex</th>\n",
       "      <th>arxiv</th>\n",
       "    </tr>\n",
       "  </thead>\n",
       "  <tbody>\n",
       "    <tr>\n",
       "      <th>0</th>\n",
       "      <td>2018</td>\n",
       "      <td>Certifying Some Distributional Robustness with...</td>\n",
       "      <td>Aman Sinha;Hongseok Namkoong;John Duchi</td>\n",
       "      <td>9.000000</td>\n",
       "      <td>Accept</td>\n",
       "      <td>Stanford University;Stanford University;Stanfo...</td>\n",
       "      <td>4;4;4</td>\n",
       "      <td>4</td>\n",
       "      <td>655;904;12908</td>\n",
       "      <td>42;19;162</td>\n",
       "      <td>8;10;42</td>\n",
       "      <td>True</td>\n",
       "    </tr>\n",
       "    <tr>\n",
       "      <th>1</th>\n",
       "      <td>2018</td>\n",
       "      <td>Parametric Information Bottleneck to Optimize ...</td>\n",
       "      <td>Thanh T. Nguyen;Jaesik Choi</td>\n",
       "      <td>4.666667</td>\n",
       "      <td>Reject</td>\n",
       "      <td>Ulsan National Institute of Science and Techno...</td>\n",
       "      <td>468;468</td>\n",
       "      <td>8</td>\n",
       "      <td>1052;727</td>\n",
       "      <td>86;88</td>\n",
       "      <td>16;15</td>\n",
       "      <td>False</td>\n",
       "    </tr>\n",
       "    <tr>\n",
       "      <th>2</th>\n",
       "      <td>2018</td>\n",
       "      <td>Towards Neural Phrase-based Machine Translation</td>\n",
       "      <td>Po-Sen Huang;Chong Wang;Sitao Huang;Dengyong Z...</td>\n",
       "      <td>6.666667</td>\n",
       "      <td>Accept</td>\n",
       "      <td>Microsoft;Google;University of Illinois, Urban...</td>\n",
       "      <td>-1;-1;3;-1;-1</td>\n",
       "      <td>3;2</td>\n",
       "      <td>1718;17889;161;8800;20766</td>\n",
       "      <td>59;1045;17;78;409</td>\n",
       "      <td>17;54;7;33;63</td>\n",
       "      <td>True</td>\n",
       "    </tr>\n",
       "    <tr>\n",
       "      <th>3</th>\n",
       "      <td>2018</td>\n",
       "      <td>Interactive Grounded Language Acquisition and ...</td>\n",
       "      <td>Haonan Yu;Haichao Zhang;Wei Xu</td>\n",
       "      <td>6.333333</td>\n",
       "      <td>Accept</td>\n",
       "      <td>Baidu;Baidu;Baidu</td>\n",
       "      <td>-1;-1;-1</td>\n",
       "      <td>6;8</td>\n",
       "      <td>890;1382;9553</td>\n",
       "      <td>37;63;557</td>\n",
       "      <td>12;20;44</td>\n",
       "      <td>False</td>\n",
       "    </tr>\n",
       "    <tr>\n",
       "      <th>4</th>\n",
       "      <td>2018</td>\n",
       "      <td>A Boo(n) for Evaluating Architecture Performance</td>\n",
       "      <td>Ondrej Bajgar;Rudolf Kadlec;and Jan Kleindienst</td>\n",
       "      <td>4.666667</td>\n",
       "      <td>Reject</td>\n",
       "      <td>;International Business Machines;International...</td>\n",
       "      <td>-1;-1;-1</td>\n",
       "      <td>0</td>\n",
       "      <td>366;678;658</td>\n",
       "      <td>10;40;76</td>\n",
       "      <td>5;11;9</td>\n",
       "      <td>False</td>\n",
       "    </tr>\n",
       "    <tr>\n",
       "      <th>...</th>\n",
       "      <td>...</td>\n",
       "      <td>...</td>\n",
       "      <td>...</td>\n",
       "      <td>...</td>\n",
       "      <td>...</td>\n",
       "      <td>...</td>\n",
       "      <td>...</td>\n",
       "      <td>...</td>\n",
       "      <td>...</td>\n",
       "      <td>...</td>\n",
       "      <td>...</td>\n",
       "      <td>...</td>\n",
       "    </tr>\n",
       "    <tr>\n",
       "      <th>4251</th>\n",
       "      <td>2020</td>\n",
       "      <td>A Finite-Time Analysis of  Q-Learning with Neu...</td>\n",
       "      <td>Pan Xu;Quanquan Gu</td>\n",
       "      <td>5.000000</td>\n",
       "      <td>Reject</td>\n",
       "      <td>University of California, Los Angeles;Universi...</td>\n",
       "      <td>20;20</td>\n",
       "      <td>1;9</td>\n",
       "      <td>295;3895</td>\n",
       "      <td>31;174</td>\n",
       "      <td>10;34</td>\n",
       "      <td>False</td>\n",
       "    </tr>\n",
       "    <tr>\n",
       "      <th>4252</th>\n",
       "      <td>2020</td>\n",
       "      <td>SCELMo: Source Code Embeddings from Language M...</td>\n",
       "      <td>Rafael - Michael Karampatsis;Charles Sutton</td>\n",
       "      <td>4.666667</td>\n",
       "      <td>Reject</td>\n",
       "      <td>University of Edinburgh;Google</td>\n",
       "      <td>33;-1</td>\n",
       "      <td>3</td>\n",
       "      <td>0;50</td>\n",
       "      <td>1;18</td>\n",
       "      <td>0;3</td>\n",
       "      <td>False</td>\n",
       "    </tr>\n",
       "    <tr>\n",
       "      <th>4253</th>\n",
       "      <td>2020</td>\n",
       "      <td>GraphMix: Regularized Training of Graph Neural...</td>\n",
       "      <td>Vikas Verma;Meng Qu;Alex Lamb;Yoshua Bengio;Ju...</td>\n",
       "      <td>4.000000</td>\n",
       "      <td>Reject</td>\n",
       "      <td>;University of Montreal;University of Montreal...</td>\n",
       "      <td>-1;128;128;128;143;128</td>\n",
       "      <td>10</td>\n",
       "      <td>202;504;2136;208566;3645;346</td>\n",
       "      <td>25;40;22;807;127;94</td>\n",
       "      <td>4;5;8;147;24;8</td>\n",
       "      <td>True</td>\n",
       "    </tr>\n",
       "    <tr>\n",
       "      <th>4254</th>\n",
       "      <td>2020</td>\n",
       "      <td>Neural networks with motivation</td>\n",
       "      <td>Sergey A. Shuvaev;Ngoc B. Tran;Marcus Stephens...</td>\n",
       "      <td>2.333333</td>\n",
       "      <td>Reject</td>\n",
       "      <td>Cold Spring Harbor Laboratory;Cold Spring Harb...</td>\n",
       "      <td>-1;-1;-1;-1;-1</td>\n",
       "      <td>5</td>\n",
       "      <td>16;94;563;997;1816</td>\n",
       "      <td>8;12;14;67;83</td>\n",
       "      <td>3;3;9;9;16</td>\n",
       "      <td>True</td>\n",
       "    </tr>\n",
       "    <tr>\n",
       "      <th>4255</th>\n",
       "      <td>2020</td>\n",
       "      <td>Measuring causal influence with back-to-back r...</td>\n",
       "      <td>Jean-Remi King;Francois Charton;Maxime Oquab;D...</td>\n",
       "      <td>4.000000</td>\n",
       "      <td>Reject</td>\n",
       "      <td>Facebook;Facebook;Facebook;Facebook</td>\n",
       "      <td>-1;-1;-1;-1</td>\n",
       "      <td>0</td>\n",
       "      <td>1273;1;2971;2483</td>\n",
       "      <td>45;14;20;46</td>\n",
       "      <td>16;1;7;19</td>\n",
       "      <td>False</td>\n",
       "    </tr>\n",
       "  </tbody>\n",
       "</table>\n",
       "<p>4256 rows × 12 columns</p>\n",
       "</div>"
      ],
      "text/plain": [
       "      year                                              paper  \\\n",
       "0     2018  Certifying Some Distributional Robustness with...   \n",
       "1     2018  Parametric Information Bottleneck to Optimize ...   \n",
       "2     2018    Towards Neural Phrase-based Machine Translation   \n",
       "3     2018  Interactive Grounded Language Acquisition and ...   \n",
       "4     2018   A Boo(n) for Evaluating Architecture Performance   \n",
       "...    ...                                                ...   \n",
       "4251  2020  A Finite-Time Analysis of  Q-Learning with Neu...   \n",
       "4252  2020  SCELMo: Source Code Embeddings from Language M...   \n",
       "4253  2020  GraphMix: Regularized Training of Graph Neural...   \n",
       "4254  2020                    Neural networks with motivation   \n",
       "4255  2020  Measuring causal influence with back-to-back r...   \n",
       "\n",
       "                                                authors   ratings decisions  \\\n",
       "0               Aman Sinha;Hongseok Namkoong;John Duchi  9.000000    Accept   \n",
       "1                           Thanh T. Nguyen;Jaesik Choi  4.666667    Reject   \n",
       "2     Po-Sen Huang;Chong Wang;Sitao Huang;Dengyong Z...  6.666667    Accept   \n",
       "3                        Haonan Yu;Haichao Zhang;Wei Xu  6.333333    Accept   \n",
       "4       Ondrej Bajgar;Rudolf Kadlec;and Jan Kleindienst  4.666667    Reject   \n",
       "...                                                 ...       ...       ...   \n",
       "4251                                 Pan Xu;Quanquan Gu  5.000000    Reject   \n",
       "4252        Rafael - Michael Karampatsis;Charles Sutton  4.666667    Reject   \n",
       "4253  Vikas Verma;Meng Qu;Alex Lamb;Yoshua Bengio;Ju...  4.000000    Reject   \n",
       "4254  Sergey A. Shuvaev;Ngoc B. Tran;Marcus Stephens...  2.333333    Reject   \n",
       "4255  Jean-Remi King;Francois Charton;Maxime Oquab;D...  4.000000    Reject   \n",
       "\n",
       "                                            institution  \\\n",
       "0     Stanford University;Stanford University;Stanfo...   \n",
       "1     Ulsan National Institute of Science and Techno...   \n",
       "2     Microsoft;Google;University of Illinois, Urban...   \n",
       "3                                     Baidu;Baidu;Baidu   \n",
       "4     ;International Business Machines;International...   \n",
       "...                                                 ...   \n",
       "4251  University of California, Los Angeles;Universi...   \n",
       "4252                     University of Edinburgh;Google   \n",
       "4253  ;University of Montreal;University of Montreal...   \n",
       "4254  Cold Spring Harbor Laboratory;Cold Spring Harb...   \n",
       "4255                Facebook;Facebook;Facebook;Facebook   \n",
       "\n",
       "                   csranking categories             authors_citations  \\\n",
       "0                      4;4;4          4                 655;904;12908   \n",
       "1                    468;468          8                      1052;727   \n",
       "2              -1;-1;3;-1;-1        3;2     1718;17889;161;8800;20766   \n",
       "3                   -1;-1;-1        6;8                 890;1382;9553   \n",
       "4                   -1;-1;-1          0                   366;678;658   \n",
       "...                      ...        ...                           ...   \n",
       "4251                   20;20        1;9                      295;3895   \n",
       "4252                   33;-1          3                          0;50   \n",
       "4253  -1;128;128;128;143;128         10  202;504;2136;208566;3645;346   \n",
       "4254          -1;-1;-1;-1;-1          5            16;94;563;997;1816   \n",
       "4255             -1;-1;-1;-1          0              1273;1;2971;2483   \n",
       "\n",
       "     authors_publications  authors_hindex  arxiv  \n",
       "0               42;19;162         8;10;42   True  \n",
       "1                   86;88           16;15  False  \n",
       "2       59;1045;17;78;409   17;54;7;33;63   True  \n",
       "3               37;63;557        12;20;44  False  \n",
       "4                10;40;76          5;11;9  False  \n",
       "...                   ...             ...    ...  \n",
       "4251               31;174           10;34  False  \n",
       "4252                 1;18             0;3  False  \n",
       "4253  25;40;22;807;127;94  4;5;8;147;24;8   True  \n",
       "4254        8;12;14;67;83      3;3;9;9;16   True  \n",
       "4255          45;14;20;46       16;1;7;19  False  \n",
       "\n",
       "[4256 rows x 12 columns]"
      ]
     },
     "execution_count": 2,
     "metadata": {},
     "output_type": "execute_result"
    }
   ],
   "source": [
    "dataset_final"
   ]
  },
  {
   "cell_type": "code",
   "execution_count": 3,
   "metadata": {
    "scrolled": true
   },
   "outputs": [
    {
     "data": {
      "text/html": [
       "<div>\n",
       "<style scoped>\n",
       "    .dataframe tbody tr th:only-of-type {\n",
       "        vertical-align: middle;\n",
       "    }\n",
       "\n",
       "    .dataframe tbody tr th {\n",
       "        vertical-align: top;\n",
       "    }\n",
       "\n",
       "    .dataframe thead th {\n",
       "        text-align: right;\n",
       "    }\n",
       "</style>\n",
       "<table border=\"1\" class=\"dataframe\">\n",
       "  <thead>\n",
       "    <tr style=\"text-align: right;\">\n",
       "      <th></th>\n",
       "      <th>paper</th>\n",
       "      <th>propensity_score</th>\n",
       "    </tr>\n",
       "  </thead>\n",
       "  <tbody>\n",
       "    <tr>\n",
       "      <th>0</th>\n",
       "      <td>Pitfalls of In-Domain Uncertainty Estimation a...</td>\n",
       "      <td>0.360486</td>\n",
       "    </tr>\n",
       "    <tr>\n",
       "      <th>1</th>\n",
       "      <td>An Inductive Bias for Distances: Neural Nets t...</td>\n",
       "      <td>0.567842</td>\n",
       "    </tr>\n",
       "    <tr>\n",
       "      <th>2</th>\n",
       "      <td>Stochastic AUC Maximization with Deep Neural N...</td>\n",
       "      <td>0.334322</td>\n",
       "    </tr>\n",
       "    <tr>\n",
       "      <th>3</th>\n",
       "      <td>On the interaction between supervision and sel...</td>\n",
       "      <td>0.402644</td>\n",
       "    </tr>\n",
       "    <tr>\n",
       "      <th>4</th>\n",
       "      <td>Towards Better Understanding of Adaptive Gradi...</td>\n",
       "      <td>0.334322</td>\n",
       "    </tr>\n",
       "    <tr>\n",
       "      <th>...</th>\n",
       "      <td>...</td>\n",
       "      <td>...</td>\n",
       "    </tr>\n",
       "    <tr>\n",
       "      <th>2047</th>\n",
       "      <td>A Finite-Time Analysis of  Q-Learning with Neu...</td>\n",
       "      <td>0.306323</td>\n",
       "    </tr>\n",
       "    <tr>\n",
       "      <th>2048</th>\n",
       "      <td>SCELMo: Source Code Embeddings from Language M...</td>\n",
       "      <td>0.219910</td>\n",
       "    </tr>\n",
       "    <tr>\n",
       "      <th>2049</th>\n",
       "      <td>GraphMix: Regularized Training of Graph Neural...</td>\n",
       "      <td>0.208421</td>\n",
       "    </tr>\n",
       "    <tr>\n",
       "      <th>2050</th>\n",
       "      <td>Neural networks with motivation</td>\n",
       "      <td>0.213840</td>\n",
       "    </tr>\n",
       "    <tr>\n",
       "      <th>2051</th>\n",
       "      <td>Measuring causal influence with back-to-back r...</td>\n",
       "      <td>0.304699</td>\n",
       "    </tr>\n",
       "  </tbody>\n",
       "</table>\n",
       "<p>2052 rows × 2 columns</p>\n",
       "</div>"
      ],
      "text/plain": [
       "                                                  paper  propensity_score\n",
       "0     Pitfalls of In-Domain Uncertainty Estimation a...          0.360486\n",
       "1     An Inductive Bias for Distances: Neural Nets t...          0.567842\n",
       "2     Stochastic AUC Maximization with Deep Neural N...          0.334322\n",
       "3     On the interaction between supervision and sel...          0.402644\n",
       "4     Towards Better Understanding of Adaptive Gradi...          0.334322\n",
       "...                                                 ...               ...\n",
       "2047  A Finite-Time Analysis of  Q-Learning with Neu...          0.306323\n",
       "2048  SCELMo: Source Code Embeddings from Language M...          0.219910\n",
       "2049  GraphMix: Regularized Training of Graph Neural...          0.208421\n",
       "2050                    Neural networks with motivation          0.213840\n",
       "2051  Measuring causal influence with back-to-back r...          0.304699\n",
       "\n",
       "[2052 rows x 2 columns]"
      ]
     },
     "execution_count": 3,
     "metadata": {},
     "output_type": "execute_result"
    }
   ],
   "source": [
    "propensity_scores"
   ]
  },
  {
   "cell_type": "code",
   "execution_count": 4,
   "metadata": {},
   "outputs": [],
   "source": [
    "# ~1.1.1\n",
    "\n",
    "import statistics\n",
    "\n",
    "#median of the number of citations per author\n",
    "authors_citations_median = dataset_final['authors_citations'].str.split(\";\",expand=True).replace(['-1'], 'NaN').median(axis=1,skipna=True)\n",
    "dataset_final['authors_citations_median'] = authors_citations_median\n",
    "\n",
    "#median of number of publications per author\n",
    "authors_publications_median = dataset_final['authors_publications'].str.split(\";\",expand=True).replace(['-1'],'NaN').median(axis=1,skipna=True)\n",
    "dataset_final['authors_publications_median'] = authors_publications_median\n",
    "\n",
    "#median of h-index per author\n",
    "authors_hindex_median = dataset_final['authors_hindex'].str.split(\";\",expand=True).replace(['-1'],'NaN').median(axis=1,skipna=True)\n",
    "dataset_final['authors_hindex_median'] = authors_hindex_median"
   ]
  },
  {
   "cell_type": "code",
   "execution_count": 5,
   "metadata": {},
   "outputs": [],
   "source": [
    "# ~1.1.2\n",
    "\n",
    "import numpy as np\n",
    "\n",
    "authors_citations_split = dataset_final['authors_citations'].str.split(\";\",expand=True).replace(['-1'],'NaN')\n",
    "authors_citations_last = authors_citations_split.ffill(axis=1).iloc[:,-1]\n",
    "\n",
    "authors_publications_split = dataset_final['authors_publications'].str.split(\";\",expand=True).replace(['-1'],'NaN')\n",
    "authors_publications_last = authors_publications_split.ffill(axis=1).iloc[:,-1]\n",
    "\n",
    "dataset_final['reputation'] = np.log10(pd.to_numeric(authors_citations_last)/pd.to_numeric(authors_publications_last) +1)"
   ]
  },
  {
   "cell_type": "code",
   "execution_count": 6,
   "metadata": {},
   "outputs": [],
   "source": [
    "# ~1.1.3\n",
    "#has_top_company\n",
    "institution_split = dataset_final['institution'].str.split(\";\",expand=True)\n",
    "top_company = ['Facebook', 'Google', 'Microsoft', 'Deepmind']\n",
    "has_top_company = institution_split.isin(top_company)\n",
    "dataset_final['has_top_company'] = ((has_top_company == True).sum(axis=1)>=1).astype(int)\n",
    "\n",
    "#has_top_institution\n",
    "csranking_split = dataset_final['csranking'].str.split(\";\",expand=True)\n",
    "top_10 = ['1','2','3','4','5','6','7','8','9','10']\n",
    "has_top_institution = csranking_split.isin(top_10)\n",
    "dataset_final['has_top_institution'] = ((has_top_institution == True).astype(int).sum(axis=1)>=1).astype(int)"
   ]
  },
  {
   "cell_type": "markdown",
   "metadata": {},
   "source": [
    "#~1.1.4\n",
    "Replace '-1' with ''"
   ]
  },
  {
   "cell_type": "code",
   "execution_count": 7,
   "metadata": {},
   "outputs": [
    {
     "data": {
      "text/html": [
       "<div>\n",
       "<style scoped>\n",
       "    .dataframe tbody tr th:only-of-type {\n",
       "        vertical-align: middle;\n",
       "    }\n",
       "\n",
       "    .dataframe tbody tr th {\n",
       "        vertical-align: top;\n",
       "    }\n",
       "\n",
       "    .dataframe thead th {\n",
       "        text-align: right;\n",
       "    }\n",
       "</style>\n",
       "<table border=\"1\" class=\"dataframe\">\n",
       "  <thead>\n",
       "    <tr style=\"text-align: right;\">\n",
       "      <th></th>\n",
       "      <th>year</th>\n",
       "      <th>paper</th>\n",
       "      <th>authors</th>\n",
       "      <th>ratings</th>\n",
       "      <th>decisions</th>\n",
       "      <th>institution</th>\n",
       "      <th>csranking</th>\n",
       "      <th>categories</th>\n",
       "      <th>authors_citations</th>\n",
       "      <th>authors_publications</th>\n",
       "      <th>authors_hindex</th>\n",
       "      <th>arxiv</th>\n",
       "      <th>authors_citations_median</th>\n",
       "      <th>authors_publications_median</th>\n",
       "      <th>authors_hindex_median</th>\n",
       "      <th>reputation</th>\n",
       "      <th>has_top_company</th>\n",
       "      <th>has_top_institution</th>\n",
       "    </tr>\n",
       "  </thead>\n",
       "  <tbody>\n",
       "    <tr>\n",
       "      <th>0</th>\n",
       "      <td>2018</td>\n",
       "      <td>Certifying Some Distributional Robustness with...</td>\n",
       "      <td>Aman Sinha;Hongseok Namkoong;John Duchi</td>\n",
       "      <td>9.000000</td>\n",
       "      <td>Accept</td>\n",
       "      <td>Stanford University;Stanford University;Stanfo...</td>\n",
       "      <td>4;4;4</td>\n",
       "      <td>4</td>\n",
       "      <td>655;904;12908</td>\n",
       "      <td>42;19;162</td>\n",
       "      <td>8;10;42</td>\n",
       "      <td>True</td>\n",
       "      <td>904.0</td>\n",
       "      <td>42.0</td>\n",
       "      <td>10.0</td>\n",
       "      <td>1.906761</td>\n",
       "      <td>0</td>\n",
       "      <td>1</td>\n",
       "    </tr>\n",
       "    <tr>\n",
       "      <th>1</th>\n",
       "      <td>2018</td>\n",
       "      <td>Parametric Information Bottleneck to Optimize ...</td>\n",
       "      <td>Thanh T. Nguyen;Jaesik Choi</td>\n",
       "      <td>4.666667</td>\n",
       "      <td>Reject</td>\n",
       "      <td>Ulsan National Institute of Science and Techno...</td>\n",
       "      <td>468;468</td>\n",
       "      <td>8</td>\n",
       "      <td>1052;727</td>\n",
       "      <td>86;88</td>\n",
       "      <td>16;15</td>\n",
       "      <td>False</td>\n",
       "      <td>889.5</td>\n",
       "      <td>87.0</td>\n",
       "      <td>15.5</td>\n",
       "      <td>0.966675</td>\n",
       "      <td>0</td>\n",
       "      <td>0</td>\n",
       "    </tr>\n",
       "    <tr>\n",
       "      <th>2</th>\n",
       "      <td>2018</td>\n",
       "      <td>Towards Neural Phrase-based Machine Translation</td>\n",
       "      <td>Po-Sen Huang;Chong Wang;Sitao Huang;Dengyong Z...</td>\n",
       "      <td>6.666667</td>\n",
       "      <td>Accept</td>\n",
       "      <td>Microsoft;Google;University of Illinois, Urban...</td>\n",
       "      <td>-1;-1;3;-1;-1</td>\n",
       "      <td>3;2</td>\n",
       "      <td>1718;17889;161;8800;20766</td>\n",
       "      <td>59;1045;17;78;409</td>\n",
       "      <td>17;54;7;33;63</td>\n",
       "      <td>True</td>\n",
       "      <td>8800.0</td>\n",
       "      <td>78.0</td>\n",
       "      <td>33.0</td>\n",
       "      <td>1.714100</td>\n",
       "      <td>1</td>\n",
       "      <td>1</td>\n",
       "    </tr>\n",
       "    <tr>\n",
       "      <th>3</th>\n",
       "      <td>2018</td>\n",
       "      <td>Interactive Grounded Language Acquisition and ...</td>\n",
       "      <td>Haonan Yu;Haichao Zhang;Wei Xu</td>\n",
       "      <td>6.333333</td>\n",
       "      <td>Accept</td>\n",
       "      <td>Baidu;Baidu;Baidu</td>\n",
       "      <td>-1;-1;-1</td>\n",
       "      <td>6;8</td>\n",
       "      <td>890;1382;9553</td>\n",
       "      <td>37;63;557</td>\n",
       "      <td>12;20;44</td>\n",
       "      <td>False</td>\n",
       "      <td>1382.0</td>\n",
       "      <td>63.0</td>\n",
       "      <td>20.0</td>\n",
       "      <td>1.258896</td>\n",
       "      <td>0</td>\n",
       "      <td>0</td>\n",
       "    </tr>\n",
       "    <tr>\n",
       "      <th>4</th>\n",
       "      <td>2018</td>\n",
       "      <td>A Boo(n) for Evaluating Architecture Performance</td>\n",
       "      <td>Ondrej Bajgar;Rudolf Kadlec;and Jan Kleindienst</td>\n",
       "      <td>4.666667</td>\n",
       "      <td>Reject</td>\n",
       "      <td>;International Business Machines;International...</td>\n",
       "      <td>-1;-1;-1</td>\n",
       "      <td>0</td>\n",
       "      <td>366;678;658</td>\n",
       "      <td>10;40;76</td>\n",
       "      <td>5;11;9</td>\n",
       "      <td>False</td>\n",
       "      <td>658.0</td>\n",
       "      <td>40.0</td>\n",
       "      <td>9.0</td>\n",
       "      <td>0.984882</td>\n",
       "      <td>0</td>\n",
       "      <td>0</td>\n",
       "    </tr>\n",
       "    <tr>\n",
       "      <th>...</th>\n",
       "      <td>...</td>\n",
       "      <td>...</td>\n",
       "      <td>...</td>\n",
       "      <td>...</td>\n",
       "      <td>...</td>\n",
       "      <td>...</td>\n",
       "      <td>...</td>\n",
       "      <td>...</td>\n",
       "      <td>...</td>\n",
       "      <td>...</td>\n",
       "      <td>...</td>\n",
       "      <td>...</td>\n",
       "      <td>...</td>\n",
       "      <td>...</td>\n",
       "      <td>...</td>\n",
       "      <td>...</td>\n",
       "      <td>...</td>\n",
       "      <td>...</td>\n",
       "    </tr>\n",
       "    <tr>\n",
       "      <th>4251</th>\n",
       "      <td>2020</td>\n",
       "      <td>A Finite-Time Analysis of  Q-Learning with Neu...</td>\n",
       "      <td>Pan Xu;Quanquan Gu</td>\n",
       "      <td>5.000000</td>\n",
       "      <td>Reject</td>\n",
       "      <td>University of California, Los Angeles;Universi...</td>\n",
       "      <td>20;20</td>\n",
       "      <td>1;9</td>\n",
       "      <td>295;3895</td>\n",
       "      <td>31;174</td>\n",
       "      <td>10;34</td>\n",
       "      <td>False</td>\n",
       "      <td>2095.0</td>\n",
       "      <td>102.5</td>\n",
       "      <td>22.0</td>\n",
       "      <td>1.368938</td>\n",
       "      <td>0</td>\n",
       "      <td>0</td>\n",
       "    </tr>\n",
       "    <tr>\n",
       "      <th>4252</th>\n",
       "      <td>2020</td>\n",
       "      <td>SCELMo: Source Code Embeddings from Language M...</td>\n",
       "      <td>Rafael - Michael Karampatsis;Charles Sutton</td>\n",
       "      <td>4.666667</td>\n",
       "      <td>Reject</td>\n",
       "      <td>University of Edinburgh;Google</td>\n",
       "      <td>33;-1</td>\n",
       "      <td>3</td>\n",
       "      <td>0;50</td>\n",
       "      <td>1;18</td>\n",
       "      <td>0;3</td>\n",
       "      <td>False</td>\n",
       "      <td>25.0</td>\n",
       "      <td>9.5</td>\n",
       "      <td>1.5</td>\n",
       "      <td>0.577236</td>\n",
       "      <td>1</td>\n",
       "      <td>0</td>\n",
       "    </tr>\n",
       "    <tr>\n",
       "      <th>4253</th>\n",
       "      <td>2020</td>\n",
       "      <td>GraphMix: Regularized Training of Graph Neural...</td>\n",
       "      <td>Vikas Verma;Meng Qu;Alex Lamb;Yoshua Bengio;Ju...</td>\n",
       "      <td>4.000000</td>\n",
       "      <td>Reject</td>\n",
       "      <td>;University of Montreal;University of Montreal...</td>\n",
       "      <td>-1;128;128;128;143;128</td>\n",
       "      <td>10</td>\n",
       "      <td>202;504;2136;208566;3645;346</td>\n",
       "      <td>25;40;22;807;127;94</td>\n",
       "      <td>4;5;8;147;24;8</td>\n",
       "      <td>True</td>\n",
       "      <td>1320.0</td>\n",
       "      <td>67.0</td>\n",
       "      <td>8.0</td>\n",
       "      <td>0.670325</td>\n",
       "      <td>0</td>\n",
       "      <td>0</td>\n",
       "    </tr>\n",
       "    <tr>\n",
       "      <th>4254</th>\n",
       "      <td>2020</td>\n",
       "      <td>Neural networks with motivation</td>\n",
       "      <td>Sergey A. Shuvaev;Ngoc B. Tran;Marcus Stephens...</td>\n",
       "      <td>2.333333</td>\n",
       "      <td>Reject</td>\n",
       "      <td>Cold Spring Harbor Laboratory;Cold Spring Harb...</td>\n",
       "      <td>-1;-1;-1;-1;-1</td>\n",
       "      <td>5</td>\n",
       "      <td>16;94;563;997;1816</td>\n",
       "      <td>8;12;14;67;83</td>\n",
       "      <td>3;3;9;9;16</td>\n",
       "      <td>True</td>\n",
       "      <td>563.0</td>\n",
       "      <td>14.0</td>\n",
       "      <td>9.0</td>\n",
       "      <td>1.359447</td>\n",
       "      <td>0</td>\n",
       "      <td>0</td>\n",
       "    </tr>\n",
       "    <tr>\n",
       "      <th>4255</th>\n",
       "      <td>2020</td>\n",
       "      <td>Measuring causal influence with back-to-back r...</td>\n",
       "      <td>Jean-Remi King;Francois Charton;Maxime Oquab;D...</td>\n",
       "      <td>4.000000</td>\n",
       "      <td>Reject</td>\n",
       "      <td>Facebook;Facebook;Facebook;Facebook</td>\n",
       "      <td>-1;-1;-1;-1</td>\n",
       "      <td>0</td>\n",
       "      <td>1273;1;2971;2483</td>\n",
       "      <td>45;14;20;46</td>\n",
       "      <td>16;1;7;19</td>\n",
       "      <td>False</td>\n",
       "      <td>1878.0</td>\n",
       "      <td>32.5</td>\n",
       "      <td>11.5</td>\n",
       "      <td>1.740191</td>\n",
       "      <td>1</td>\n",
       "      <td>0</td>\n",
       "    </tr>\n",
       "  </tbody>\n",
       "</table>\n",
       "<p>4256 rows × 18 columns</p>\n",
       "</div>"
      ],
      "text/plain": [
       "      year                                              paper  \\\n",
       "0     2018  Certifying Some Distributional Robustness with...   \n",
       "1     2018  Parametric Information Bottleneck to Optimize ...   \n",
       "2     2018    Towards Neural Phrase-based Machine Translation   \n",
       "3     2018  Interactive Grounded Language Acquisition and ...   \n",
       "4     2018   A Boo(n) for Evaluating Architecture Performance   \n",
       "...    ...                                                ...   \n",
       "4251  2020  A Finite-Time Analysis of  Q-Learning with Neu...   \n",
       "4252  2020  SCELMo: Source Code Embeddings from Language M...   \n",
       "4253  2020  GraphMix: Regularized Training of Graph Neural...   \n",
       "4254  2020                    Neural networks with motivation   \n",
       "4255  2020  Measuring causal influence with back-to-back r...   \n",
       "\n",
       "                                                authors   ratings decisions  \\\n",
       "0               Aman Sinha;Hongseok Namkoong;John Duchi  9.000000    Accept   \n",
       "1                           Thanh T. Nguyen;Jaesik Choi  4.666667    Reject   \n",
       "2     Po-Sen Huang;Chong Wang;Sitao Huang;Dengyong Z...  6.666667    Accept   \n",
       "3                        Haonan Yu;Haichao Zhang;Wei Xu  6.333333    Accept   \n",
       "4       Ondrej Bajgar;Rudolf Kadlec;and Jan Kleindienst  4.666667    Reject   \n",
       "...                                                 ...       ...       ...   \n",
       "4251                                 Pan Xu;Quanquan Gu  5.000000    Reject   \n",
       "4252        Rafael - Michael Karampatsis;Charles Sutton  4.666667    Reject   \n",
       "4253  Vikas Verma;Meng Qu;Alex Lamb;Yoshua Bengio;Ju...  4.000000    Reject   \n",
       "4254  Sergey A. Shuvaev;Ngoc B. Tran;Marcus Stephens...  2.333333    Reject   \n",
       "4255  Jean-Remi King;Francois Charton;Maxime Oquab;D...  4.000000    Reject   \n",
       "\n",
       "                                            institution  \\\n",
       "0     Stanford University;Stanford University;Stanfo...   \n",
       "1     Ulsan National Institute of Science and Techno...   \n",
       "2     Microsoft;Google;University of Illinois, Urban...   \n",
       "3                                     Baidu;Baidu;Baidu   \n",
       "4     ;International Business Machines;International...   \n",
       "...                                                 ...   \n",
       "4251  University of California, Los Angeles;Universi...   \n",
       "4252                     University of Edinburgh;Google   \n",
       "4253  ;University of Montreal;University of Montreal...   \n",
       "4254  Cold Spring Harbor Laboratory;Cold Spring Harb...   \n",
       "4255                Facebook;Facebook;Facebook;Facebook   \n",
       "\n",
       "                   csranking categories             authors_citations  \\\n",
       "0                      4;4;4          4                 655;904;12908   \n",
       "1                    468;468          8                      1052;727   \n",
       "2              -1;-1;3;-1;-1        3;2     1718;17889;161;8800;20766   \n",
       "3                   -1;-1;-1        6;8                 890;1382;9553   \n",
       "4                   -1;-1;-1          0                   366;678;658   \n",
       "...                      ...        ...                           ...   \n",
       "4251                   20;20        1;9                      295;3895   \n",
       "4252                   33;-1          3                          0;50   \n",
       "4253  -1;128;128;128;143;128         10  202;504;2136;208566;3645;346   \n",
       "4254          -1;-1;-1;-1;-1          5            16;94;563;997;1816   \n",
       "4255             -1;-1;-1;-1          0              1273;1;2971;2483   \n",
       "\n",
       "     authors_publications  authors_hindex  arxiv  authors_citations_median  \\\n",
       "0               42;19;162         8;10;42   True                     904.0   \n",
       "1                   86;88           16;15  False                     889.5   \n",
       "2       59;1045;17;78;409   17;54;7;33;63   True                    8800.0   \n",
       "3               37;63;557        12;20;44  False                    1382.0   \n",
       "4                10;40;76          5;11;9  False                     658.0   \n",
       "...                   ...             ...    ...                       ...   \n",
       "4251               31;174           10;34  False                    2095.0   \n",
       "4252                 1;18             0;3  False                      25.0   \n",
       "4253  25;40;22;807;127;94  4;5;8;147;24;8   True                    1320.0   \n",
       "4254        8;12;14;67;83      3;3;9;9;16   True                     563.0   \n",
       "4255          45;14;20;46       16;1;7;19  False                    1878.0   \n",
       "\n",
       "      authors_publications_median  authors_hindex_median  reputation  \\\n",
       "0                            42.0                   10.0    1.906761   \n",
       "1                            87.0                   15.5    0.966675   \n",
       "2                            78.0                   33.0    1.714100   \n",
       "3                            63.0                   20.0    1.258896   \n",
       "4                            40.0                    9.0    0.984882   \n",
       "...                           ...                    ...         ...   \n",
       "4251                        102.5                   22.0    1.368938   \n",
       "4252                          9.5                    1.5    0.577236   \n",
       "4253                         67.0                    8.0    0.670325   \n",
       "4254                         14.0                    9.0    1.359447   \n",
       "4255                         32.5                   11.5    1.740191   \n",
       "\n",
       "      has_top_company  has_top_institution  \n",
       "0                   0                    1  \n",
       "1                   0                    0  \n",
       "2                   1                    1  \n",
       "3                   0                    0  \n",
       "4                   0                    0  \n",
       "...               ...                  ...  \n",
       "4251                0                    0  \n",
       "4252                1                    0  \n",
       "4253                0                    0  \n",
       "4254                0                    0  \n",
       "4255                1                    0  \n",
       "\n",
       "[4256 rows x 18 columns]"
      ]
     },
     "execution_count": 7,
     "metadata": {},
     "output_type": "execute_result"
    }
   ],
   "source": [
    "dataset_final"
   ]
  },
  {
   "cell_type": "markdown",
   "metadata": {},
   "source": [
    "### Task 1.2\n",
    "\n",
    "Now that you have cleaned up your data, your next task is to divide your data into a training set and a testing set. You should do this in two ways:\n",
    "\n",
    "1. First, do it randomly. Split the data into a training set (70%) and a testing set (30%). We refer to these as \"random split\" in the subsequent tasks.\n",
    "2. Second, do it longitudinally. Use the data from 2018 and 2019 for the training set, and the data from 2020 as the testing set. We refer to these as \"longitudinal split\" in the subsequent tasks.\n"
   ]
  },
  {
   "cell_type": "code",
   "execution_count": 8,
   "metadata": {},
   "outputs": [],
   "source": [
    "# ~1.2.1\n",
    "from numpy import random as randn\n",
    "from sklearn.model_selection import train_test_split\n",
    "#msk = np.random.randn(len(dataset_final)) < 0.7\n",
    "#train_rand = dataset_final[msk]\n",
    "#test_rand = dataset_final[~msk]\n",
    "\n",
    "train_rand, test_rand = train_test_split(dataset_final,test_size=0.30)\n"
   ]
  },
  {
   "cell_type": "code",
   "execution_count": 9,
   "metadata": {},
   "outputs": [],
   "source": [
    "# ~1.2.2\n",
    "train_long = dataset_final[dataset_final['year'].isin([2018 or 2019])]\n",
    "test_long = dataset_final[dataset_final['year'] == 2020]"
   ]
  },
  {
   "cell_type": "markdown",
   "metadata": {},
   "source": [
    "### Task 1.3\n",
    "\n",
    "Build a Linear Regression model (use [sklearn](https://scikit-learn.org/stable/)) that predicts the score of a paper (which is in the variable ratings in the dataframe). Train it and test it using the split you previously defined. Your model should use as features:\n",
    "- Median values for the number of author citations, publications and h-indexes, as calculated in Task 1.1.1.\n",
    "\n",
    "- `reputation` of the last author, as calculated in Task 1.1.2.\n",
    "\n",
    "For the two scenarios above (random split and longitudinal split):\n",
    "\n",
    "1. Report the model $R^2$ in each case (for the testing set).\n",
    "2. **Discuss:** Hypothesize a reason why the results are different. Additionally, interpret the $R^2$ value for the longitudinal split. How can it be negative?\n",
    "3. **From now onwards (in this task and the following ones), consider only the random split.** For a given entry $X$ your model outputs a predicted score $Y'$. The difference between the real score $Y$ and the predicted score $Y'$ is called the \"residual\". Plot the distribution of your residuals for the test set. Using this distribution, estimate what is the probability that your prediction is off by more than 2-points? Provide bootstrapped confidence intervals for your answer.\n",
    "4. **Discuss:** Identify three additional features that are already computed in your dataframe and that could boost your model's predictive performance. You are not allowed to use the variable `decisions` as an input here. Before running any experiments, discuss why each of these features might add valuable information to your model.\n",
    "5. Report the $R^2$ (for the test set) for a newly trained model with these additional features. Please note that you do not need to improve the model performance to be successful in this task!\n",
    "\n",
    "**Hint**: [Metrics!](https://scikit-learn.org/stable/modules/classes.html#sklearn-metrics-metrics)"
   ]
  },
  {
   "cell_type": "code",
   "execution_count": 10,
   "metadata": {},
   "outputs": [
    {
     "data": {
      "text/plain": [
       "0.10486577071082748"
      ]
     },
     "execution_count": 10,
     "metadata": {},
     "output_type": "execute_result"
    }
   ],
   "source": [
    "# ~1.3.1\n",
    "from sklearn import linear_model\n",
    "from sklearn.metrics import mean_squared_error, r2_score\n",
    "\n",
    "train_rand_X = train_rand[['authors_citations_median','authors_publications_median','authors_hindex_median','reputation']]\n",
    "train_rand_Y = train_rand.ratings\n",
    "test_rand_X = test_rand[['authors_citations_median','authors_publications_median','authors_hindex_median','reputation']]\n",
    "test_rand_Y = test_rand.ratings\n",
    "\n",
    "model_rand = linear_model.LinearRegression()\n",
    "model_rand.fit(train_rand_X, train_rand_Y)\n",
    "model_rand.score(test_rand_X,test_rand_Y)"
   ]
  },
  {
   "cell_type": "code",
   "execution_count": 11,
   "metadata": {},
   "outputs": [
    {
     "data": {
      "text/plain": [
       "-0.19440531233491964"
      ]
     },
     "execution_count": 11,
     "metadata": {},
     "output_type": "execute_result"
    }
   ],
   "source": [
    "#longitudinal\n",
    "train_long_X = train_long[['authors_citations_median','authors_publications_median','authors_hindex_median','reputation']]\n",
    "train_long_Y = train_long.ratings\n",
    "test_long_X = test_long[['authors_citations_median','authors_publications_median','authors_hindex_median','reputation']]\n",
    "test_long_Y = test_long.ratings\n",
    "\n",
    "model_long = linear_model.LinearRegression()\n",
    "model_long.fit(train_long_X, train_long_Y)\n",
    "model_long.score(test_long_X,test_long_Y)\n"
   ]
  },
  {
   "cell_type": "markdown",
   "metadata": {},
   "source": [
    "~1.3.2\n",
    "\n",
    "random testing considers the full dataset, while longitudinal separates the years where 2020 could have different criteria than 2018 and 2019 leading to a different R^2 score.\n",
    "\n",
    "R^2  compares the fit of the chosen model with that of a horizontal straight line (the null hypothesis). If the chosen model fits worse than a horizontal line, then R^2 is negative. "
   ]
  },
  {
   "cell_type": "code",
   "execution_count": 12,
   "metadata": {},
   "outputs": [
    {
     "name": "stdout",
     "output_type": "stream",
     "text": [
      "Coefficients_train_rand: [-4.45559234e-05 -3.16637199e-03  4.83082300e-02  5.47860308e-01]\n",
      "Intercept_train_rand: 3.8518597679008484\n",
      "Mean squared error_train_rand: 2.00\n",
      "Coefficient of determination_train_rand (R^2): 0.09\n",
      "Mean squared error_test_rand: 2.02\n",
      "Coefficient of determination_test_rand (R^2): 0.10\n"
     ]
    }
   ],
   "source": [
    "train_rand_Y_pred = model_rand.predict(train_rand_X)\n",
    "\n",
    "print('Coefficients_train_rand:', model_rand.coef_)\n",
    "print('Intercept_train_rand:', model_rand.intercept_)\n",
    "print('Mean squared error_train_rand: %.2f' % mean_squared_error(train_rand_Y, train_rand_Y_pred))\n",
    "print('Coefficient of determination_train_rand (R^2): %.2f' % r2_score(train_rand_Y, train_rand_Y_pred))\n",
    "\n",
    "test_rand_Y_pred = model_rand.predict(test_rand_X)\n",
    "print('Mean squared error_test_rand: %.2f' % mean_squared_error(test_rand_Y, test_rand_Y_pred))\n",
    "print('Coefficient of determination_test_rand (R^2): %.2f'% r2_score(test_rand_Y, test_rand_Y_pred))"
   ]
  },
  {
   "cell_type": "code",
   "execution_count": 13,
   "metadata": {},
   "outputs": [
    {
     "name": "stdout",
     "output_type": "stream",
     "text": [
      "Coefficients_train_long: [-4.12434350e-05 -4.45822840e-03  5.58748214e-02  4.68556256e-01]\n",
      "Intercept_train_long: 4.274565687636762\n",
      "Mean squared error_train_long: 1.34\n",
      "Coefficient of determination_train_long (R^2): 0.13\n",
      "Mean squared error_test_long: 3.03\n",
      "Coefficient of determination_test_long (R^2): -0.19\n"
     ]
    }
   ],
   "source": [
    "train_long_Y_pred = model_long.predict(train_long_X)\n",
    "print('Coefficients_train_long:', model_long.coef_)\n",
    "print('Intercept_train_long:', model_long.intercept_)\n",
    "print('Mean squared error_train_long: %.2f' % mean_squared_error(train_long_Y, train_long_Y_pred))\n",
    "print('Coefficient of determination_train_long (R^2): %.2f' % r2_score(train_long_Y, train_long_Y_pred))\n",
    "\n",
    "test_long_Y_pred = model_long.predict(test_long_X)\n",
    "print('Mean squared error_test_long: %.2f' % mean_squared_error(test_long_Y, test_long_Y_pred))\n",
    "print('Coefficient of determination_test_long (R^2): %.2f' % r2_score(test_long_Y, test_long_Y_pred))"
   ]
  },
  {
   "cell_type": "code",
   "execution_count": 14,
   "metadata": {
    "scrolled": true
   },
   "outputs": [
    {
     "data": {
      "text/plain": [
       "<matplotlib.axes._subplots.AxesSubplot at 0x15e2e477b20>"
      ]
     },
     "execution_count": 14,
     "metadata": {},
     "output_type": "execute_result"
    },
    {
     "data": {
      "image/png": "[encoded data removed]",
      "text/plain": [
       "<Figure size 432x288 with 1 Axes>"
      ]
     },
     "metadata": {
      "needs_background": "light"
     },
     "output_type": "display_data"
    }
   ],
   "source": [
    "#~1.3.3\n",
    "import matplotlib.pyplot as plt\n",
    "import seaborn as sns\n",
    "residuals = test_rand_Y-test_rand_Y_pred\n",
    "sns.distplot(residuals)"
   ]
  },
  {
   "cell_type": "code",
   "execution_count": 15,
   "metadata": {},
   "outputs": [
    {
     "data": {
      "text/plain": [
       "0.15017135741256243"
      ]
     },
     "execution_count": 15,
     "metadata": {},
     "output_type": "execute_result"
    },
    {
     "data": {
      "image/png": "[encoded data removed]",
      "text/plain": [
       "<Figure size 432x288 with 1 Axes>"
      ]
     },
     "metadata": {
      "needs_background": "light"
     },
     "output_type": "display_data"
    }
   ],
   "source": [
    "#ECDF\n",
    "x = np.sort(residuals)\n",
    "n = x.size\n",
    "y = np.arange(1, n+1) / n\n",
    "plt.plot(x,y)\n",
    "#d= {'X':x,'Y':y}\n",
    "#df = pd.DataFrame(d, columns = ['X','Y'])\n",
    "#df[df['X']==2]\n",
    "np.interp([-2,2],x,y)\n",
    "Pred_off_by_morethan2 = 1-np.interp(2,x,y) + np.interp(-2,x,y)\n",
    "Pred_off_by_morethan2"
   ]
  },
  {
   "cell_type": "code",
   "execution_count": 42,
   "metadata": {},
   "outputs": [],
   "source": [
    "def bootstrap_CI(data, nbr_draws, level):\n",
    "    means = np.zeros(nbr_draws)\n",
    "    data = np.array(data)\n",
    "\n",
    "    for n in range(nbr_draws):\n",
    "        indices = np.random.randint(0, len(data), len(data))\n",
    "        data_tmp = data[indices] \n",
    "        means[n] = np.nanmean(data_tmp)\n",
    "\n",
    "    return [np.nanpercentile(means, 100-level),np.nanpercentile(means, level)]"
   ]
  },
  {
   "cell_type": "code",
   "execution_count": 48,
   "metadata": {},
   "outputs": [
    {
     "data": {
      "text/plain": [
       "([0.12294440093970244, 0.16053249804228661], 0.1417384494909945)"
      ]
     },
     "execution_count": 48,
     "metadata": {},
     "output_type": "execute_result"
    }
   ],
   "source": [
    "res_bool = np.where((residuals < -2) | (residuals > 2),1,0)\n",
    "CI = bootstrap_CI(res_bool, 1000,97.5)\n",
    "CI, res_bool.mean()"
   ]
  },
  {
   "cell_type": "markdown",
   "metadata": {},
   "source": [
    "~1.3.4\n",
    "\n",
    "arxiv\n",
    "\n",
    "has_top_institution\n",
    "\n",
    "top_company"
   ]
  },
  {
   "cell_type": "code",
   "execution_count": 17,
   "metadata": {},
   "outputs": [
    {
     "name": "stdout",
     "output_type": "stream",
     "text": [
      "Coefficients_train_rand: [-4.30777433e-05 -2.64868730e-03  4.19249654e-02  4.76625043e-01\n",
      "  3.92210985e-01  1.59203622e-01  2.55773256e-01]\n",
      "Intercept_train_rand: 3.793545782414781\n",
      "Mean squared error_train_rand: 1.96\n",
      "Coefficient of determination_train_rand (R^2): 0.11\n",
      "Mean squared error_test_rand: 2.00\n",
      "Coefficient of determination_test_rand (R^2): 0.11\n"
     ]
    }
   ],
   "source": [
    "# ~1.3.5\n",
    "\n",
    "train_rand_X_new = train_rand[['authors_citations_median','authors_publications_median','authors_hindex_median','reputation','arxiv','has_top_institution','has_top_company']]\n",
    "train_rand_Y_new = train_rand.ratings\n",
    "test_rand_X_new = test_rand[['authors_citations_median','authors_publications_median','authors_hindex_median','reputation','arxiv','has_top_institution','has_top_company']]\n",
    "test_rand_Y_new = test_rand.ratings\n",
    "\n",
    "model_rand_new = linear_model.LinearRegression()\n",
    "model_rand_new.fit(train_rand_X_new, train_rand_Y_new)\n",
    "\n",
    "train_rand_Y_pred_new = model_rand_new.predict(train_rand_X_new)\n",
    "print('Coefficients_train_rand:', model_rand_new.coef_)\n",
    "print('Intercept_train_rand:', model_rand_new.intercept_)\n",
    "print('Mean squared error_train_rand: %.2f' % mean_squared_error(train_rand_Y_new, train_rand_Y_pred_new))\n",
    "print('Coefficient of determination_train_rand (R^2): %.2f' % r2_score(train_rand_Y_new, train_rand_Y_pred_new))\n",
    "\n",
    "test_rand_Y_pred_new = model_rand_new.predict(test_rand_X_new)\n",
    "print('Mean squared error_test_rand: %.2f' % mean_squared_error(test_rand_Y_new, test_rand_Y_pred_new))\n",
    "print('Coefficient of determination_test_rand (R^2): %.2f'% r2_score(test_rand_Y_new, test_rand_Y_pred_new))"
   ]
  },
  {
   "cell_type": "markdown",
   "metadata": {},
   "source": [
    "### Task 1.4\n",
    "\n",
    "Experiment with training a different regressor, a [Gradient Boosting Regressor](https://scikit-learn.org/stable/modules/ensemble.html?highlight=xgboost#gradient-boosting). This regressor is analogous to the Gradient Boosting Classifier that you have seen in class. This model performs extremely well for a variety of tasks and is often used in machine learning competitions for tabular data (e.g., on [Kaggle](www.kaggle.com)). You must:\n",
    "\n",
    "1. Train a Gradient Boosting Regressor without specifying any parameters, e.g. `GradientBoostingRegressor().fit(X, y)`, and report its $R^2$ on the testing set. Your model should again use as features:\n",
    "    - Median values for the number of author citations, publications and h-indexes as calculated in Task 1.1.1.\n",
    "    - `reputation` of the last author, as calculated in Task 1.1.2.\n",
    "2. Create an additional feature called $crazy$, which is derived as follows. If the score  of the paper, $ratings$, is bigger than 4.96, then $crazy = 9 - ratings$, otherwise, $crazy = - ratings$. Train a Gradient Boosting Regressor to predict paper scores using only $crazy$ as a feature. Additionally, train a Linear Regression model to predict paper scores using only $crazy$ as a feature. Report the $R^2$ in the testing set.\n",
    "3. **Discuss:** Why does the Gradient Boosting Regressor perform so much better?"
   ]
  },
  {
   "cell_type": "code",
   "execution_count": 18,
   "metadata": {},
   "outputs": [
    {
     "name": "stdout",
     "output_type": "stream",
     "text": [
      "The mean squared error (MSE) on test set: 2.0359\n",
      "R^2: 0.09716744753520756\n"
     ]
    }
   ],
   "source": [
    "#~1.4.1\n",
    "from sklearn import ensemble\n",
    "\n",
    "reg = ensemble.GradientBoostingRegressor()\n",
    "reg.fit(train_rand_X, train_rand_Y)\n",
    "\n",
    "mse = mean_squared_error(test_rand_Y, reg.predict(test_rand_X))\n",
    "print(\"The mean squared error (MSE) on test set: {:.4f}\".format(mse))\n",
    "print (\"R^2:\",(r2_score(test_rand_Y, reg.predict(test_rand_X))))\n"
   ]
  },
  {
   "cell_type": "code",
   "execution_count": 19,
   "metadata": {},
   "outputs": [],
   "source": [
    "#~1.4.2\n",
    "conditions = [(dataset_final['ratings']>4.96), dataset_final['ratings']<=4.96]\n",
    "values = [9-dataset_final['ratings'], -dataset_final['ratings']]\n",
    "dataset_final['crazy'] = np.select(conditions,values)"
   ]
  },
  {
   "cell_type": "code",
   "execution_count": 20,
   "metadata": {},
   "outputs": [
    {
     "name": "stdout",
     "output_type": "stream",
     "text": [
      "The mean squared error (MSE) on test set: 0.0001\n",
      "R^2: 0.9999505419179153\n"
     ]
    }
   ],
   "source": [
    "msk = np.random.randn(len(dataset_final)) < 0.7\n",
    "train_rand = dataset_final[msk]\n",
    "test_rand = dataset_final[~msk]\n",
    "\n",
    "train_rand_X_crazy = train_rand[['crazy']]\n",
    "train_rand_Y_crazy = train_rand.ratings\n",
    "test_rand_X_crazy = test_rand[['crazy']]\n",
    "test_rand_Y_crazy = test_rand.ratings\n",
    "\n",
    "reg = ensemble.GradientBoostingRegressor()\n",
    "reg.fit(train_rand_X_crazy, train_rand_Y_crazy)\n",
    "\n",
    "mse = mean_squared_error(test_rand_Y_crazy, reg.predict(test_rand_X_crazy))\n",
    "print(\"The mean squared error (MSE) on test set: {:.4f}\".format(mse))\n",
    "print (\"R^2:\",(r2_score(test_rand_Y_crazy, reg.predict(test_rand_X_crazy))))\n"
   ]
  },
  {
   "cell_type": "code",
   "execution_count": 21,
   "metadata": {},
   "outputs": [
    {
     "name": "stdout",
     "output_type": "stream",
     "text": [
      "Coefficients_train_rand: [0.28838134]\n",
      "Intercept_train_rand: 4.903459478913266\n",
      "Mean squared error_train_rand: 1.27\n",
      "Coefficient of determination_train_rand (R^2): 0.42\n",
      "Mean squared error_test_rand: 1.35\n",
      "Coefficient of determination_test_rand (R^2): 0.41\n"
     ]
    }
   ],
   "source": [
    "model_rand_crazy = linear_model.LinearRegression()\n",
    "model_rand_crazy.fit(train_rand_X_crazy, train_rand_Y_crazy)\n",
    "\n",
    "train_rand_Y_pred_crazy = model_rand_crazy.predict(train_rand_X_crazy)\n",
    "print('Coefficients_train_rand:', model_rand_crazy.coef_)\n",
    "print('Intercept_train_rand:', model_rand_crazy.intercept_)\n",
    "print('Mean squared error_train_rand: %.2f' % mean_squared_error(train_rand_Y_crazy, train_rand_Y_pred_crazy))\n",
    "print('Coefficient of determination_train_rand (R^2): %.2f' % r2_score(train_rand_Y_crazy, train_rand_Y_pred_crazy))\n",
    "\n",
    "test_rand_Y_pred_crazy = model_rand_crazy.predict(test_rand_X_crazy)\n",
    "print('Mean squared error_test_rand: %.2f' % mean_squared_error(test_rand_Y_crazy, test_rand_Y_pred_crazy))\n",
    "print('Coefficient of determination_test_rand (R^2): %.2f'% r2_score(test_rand_Y_crazy, test_rand_Y_pred_crazy))"
   ]
  },
  {
   "cell_type": "markdown",
   "metadata": {},
   "source": [
    "1.4.3\n",
    "\n",
    "target outcomes for each case are set based on the gradient of the error with respect to the prediction. Each new model takes a step in the direction that minimizes prediction error, in the space of possible predictions for each training case."
   ]
  },
  {
   "cell_type": "markdown",
   "metadata": {},
   "source": [
    "### Task 1.5\n",
    "\n",
    "Complex models often have several hyper-parameters. \n",
    "To obtain the best results, it is common-place to use a cross-validation set-up in your training data to find the best hyper-parameters, and then use it for the test set.\n",
    "\n",
    "\n",
    "1. Write modular code (i.e., a function) to divide your training data into $N$ folds and perform cross-validation.\n",
    "2.  Experiment tuning two hyper-parameters of the Gradient Boosting Regressor: `n_estimators` and `learning_rate`.\n",
    "For each possible combination of the two hyper-parameters (see below for the range of values that you should try for each hyper-parameter), train your model in a cross-validation setup with $N$=20. Report the mean $R^2$ along with the 90% CI for the 18 scenarios. Notice that you can calculate the 90% CI in a bootstrap-like fashion.\n",
    "    - `n_estimators`$ \\in  \\{ 50, 75, 100, 150, 200, 250\\}$\n",
    "    - `learning_rate`$ \\in  \\{ 0.1, 0.05, 0.01\\}$.\n",
    "3. With the best hyper-parameters obtained, train your model with the entire training set and report the $R^2$ on the testing set.\n",
    "4. **Discuss:** Why don't we tune the hyper-parameters in the testing set instead of doing cross-validation in the training set?"
   ]
  },
  {
   "cell_type": "code",
   "execution_count": 22,
   "metadata": {},
   "outputs": [
    {
     "data": {
      "text/plain": [
       "array([0.13700102, 0.07073016, 0.09834267, 0.09621522, 0.04018046])"
      ]
     },
     "execution_count": 22,
     "metadata": {},
     "output_type": "execute_result"
    }
   ],
   "source": [
    "#~1.5.1\n",
    "from sklearn.model_selection import KFold, cross_val_score, cross_validate\n",
    "\n",
    "N=20\n",
    "kf = KFold(n_splits=N) # Define the split - into 2 folds \n",
    "kf.get_n_splits(train_rand_X) # returns the number of splitting iterations in the cross-validator\n",
    "\n",
    "cross_val_score(ensemble.GradientBoostingRegressor(),train_rand_X,train_rand_Y, cv=5)"
   ]
  },
  {
   "cell_type": "code",
   "execution_count": 23,
   "metadata": {},
   "outputs": [],
   "source": [
    "#~1.5.2\n",
    "n_est = [50,75,100,150,200,250]\n",
    "learn_rate = [0.1,0.05,0.01]\n",
    "mse,r2,CI = [],[],[]\n",
    "for i in range(6):\n",
    "    for j in range(3):\n",
    "        params = {'n_estimators': n_est[i], 'learning_rate': learn_rate[j]}\n",
    "        reg = ensemble.GradientBoostingRegressor(**params)\n",
    "        reg.fit(train_rand_X, train_rand_Y)\n",
    "\n",
    "        mse.append(mean_squared_error(test_rand_Y, reg.predict(test_rand_X)))\n",
    "        r2.append(r2_score(test_rand_Y, reg.predict(test_rand_X)))\n",
    "        \n",
    "        residuals = test_rand_Y-reg.predict(test_rand_X)\n",
    "        res_bool = np.where((residuals < -2) | (residuals > 2),1,0)\n",
    "        CI = bootstrap_CI(res_bool, 1000,97.5)\n",
    "        CI.append([lower*100, upper*100])"
   ]
  },
  {
   "cell_type": "code",
   "execution_count": 24,
   "metadata": {},
   "outputs": [
    {
     "data": {
      "text/plain": [
       "[0.1004674698719541,\n",
       " 0.10045318832797101,\n",
       " 0.061612248235951794,\n",
       " 0.10050080527515504,\n",
       " 0.1026317638914307,\n",
       " 0.07479168884544685,\n",
       " 0.09704723547203198,\n",
       " 0.10108333667459424,\n",
       " 0.08319259538382462,\n",
       " 0.08745196828235247,\n",
       " 0.1007159502538697,\n",
       " 0.09387320550609124,\n",
       " 0.07929454572887473,\n",
       " 0.10011930409316361,\n",
       " 0.09896380315786768,\n",
       " 0.06968857277509388,\n",
       " 0.09571592345249713,\n",
       " 0.10072450098592634]"
      ]
     },
     "execution_count": 24,
     "metadata": {},
     "output_type": "execute_result"
    }
   ],
   "source": [
    "r2\n",
    "#best is n_est = 50, learn_rate = 0.05"
   ]
  },
  {
   "cell_type": "markdown",
   "metadata": {},
   "source": [
    "## _Step 2:_ What influences papers getting accepted?\n",
    "\n",
    "Time to change hats!\n",
    "\n",
    "If before we were interested in creating an accurate regressor, now we are interested in understanding what increases the chance of papers getting accepted. \n",
    "\n",
    "Typically, in that scenario, simpler models with a clear statistical interpretation (e.g. logistic regression) yield more interesting insights.\n",
    "\n",
    "For the analysis in this and the next step, you should use [statsmodels](https://www.statsmodels.org/) (for the regressions) and [scipy](https://www.scipy.org/) (for the statistical hypothesis testing).\n"
   ]
  },
  {
   "cell_type": "markdown",
   "metadata": {},
   "source": [
    "### Task 2.1\n",
    "\n",
    "Let's warm up with some visualizations and some hypothesis testing!\n",
    "\n",
    "1. Plot the distributions of 1) ratings of papers that got accepted in 2020, 2) ratings of papers that got rejected in 2020.\n",
    "2. Select a statistical test to compare whether the mean for ratings of papers that got accepted in 2020 is significantly higher.\n",
    "3. **Discuss:** Justify why the statistical test you selected is appropriate. Interpret the test-related statistic and its p-value: concretely, what do they mean?"
   ]
  },
  {
   "cell_type": "code",
   "execution_count": 25,
   "metadata": {
    "scrolled": true
   },
   "outputs": [
    {
     "data": {
      "text/html": [
       "<div>\n",
       "<style scoped>\n",
       "    .dataframe tbody tr th:only-of-type {\n",
       "        vertical-align: middle;\n",
       "    }\n",
       "\n",
       "    .dataframe tbody tr th {\n",
       "        vertical-align: top;\n",
       "    }\n",
       "\n",
       "    .dataframe thead th {\n",
       "        text-align: right;\n",
       "    }\n",
       "</style>\n",
       "<table border=\"1\" class=\"dataframe\">\n",
       "  <thead>\n",
       "    <tr style=\"text-align: right;\">\n",
       "      <th></th>\n",
       "      <th>year</th>\n",
       "      <th>paper</th>\n",
       "      <th>authors</th>\n",
       "      <th>ratings</th>\n",
       "      <th>decisions</th>\n",
       "      <th>institution</th>\n",
       "      <th>csranking</th>\n",
       "      <th>categories</th>\n",
       "      <th>authors_citations</th>\n",
       "      <th>authors_publications</th>\n",
       "      <th>authors_hindex</th>\n",
       "      <th>arxiv</th>\n",
       "      <th>authors_citations_median</th>\n",
       "      <th>authors_publications_median</th>\n",
       "      <th>authors_hindex_median</th>\n",
       "      <th>reputation</th>\n",
       "      <th>has_top_company</th>\n",
       "      <th>has_top_institution</th>\n",
       "      <th>crazy</th>\n",
       "    </tr>\n",
       "  </thead>\n",
       "  <tbody>\n",
       "    <tr>\n",
       "      <th>0</th>\n",
       "      <td>2018</td>\n",
       "      <td>Certifying Some Distributional Robustness with...</td>\n",
       "      <td>Aman Sinha;Hongseok Namkoong;John Duchi</td>\n",
       "      <td>9.000000</td>\n",
       "      <td>Accept</td>\n",
       "      <td>Stanford University;Stanford University;Stanfo...</td>\n",
       "      <td>4;4;4</td>\n",
       "      <td>4</td>\n",
       "      <td>655;904;12908</td>\n",
       "      <td>42;19;162</td>\n",
       "      <td>8;10;42</td>\n",
       "      <td>True</td>\n",
       "      <td>904.0</td>\n",
       "      <td>42.0</td>\n",
       "      <td>10.0</td>\n",
       "      <td>1.906761</td>\n",
       "      <td>0</td>\n",
       "      <td>1</td>\n",
       "      <td>0.000000</td>\n",
       "    </tr>\n",
       "    <tr>\n",
       "      <th>1</th>\n",
       "      <td>2018</td>\n",
       "      <td>Parametric Information Bottleneck to Optimize ...</td>\n",
       "      <td>Thanh T. Nguyen;Jaesik Choi</td>\n",
       "      <td>4.666667</td>\n",
       "      <td>Reject</td>\n",
       "      <td>Ulsan National Institute of Science and Techno...</td>\n",
       "      <td>468;468</td>\n",
       "      <td>8</td>\n",
       "      <td>1052;727</td>\n",
       "      <td>86;88</td>\n",
       "      <td>16;15</td>\n",
       "      <td>False</td>\n",
       "      <td>889.5</td>\n",
       "      <td>87.0</td>\n",
       "      <td>15.5</td>\n",
       "      <td>0.966675</td>\n",
       "      <td>0</td>\n",
       "      <td>0</td>\n",
       "      <td>-4.666667</td>\n",
       "    </tr>\n",
       "    <tr>\n",
       "      <th>2</th>\n",
       "      <td>2018</td>\n",
       "      <td>Towards Neural Phrase-based Machine Translation</td>\n",
       "      <td>Po-Sen Huang;Chong Wang;Sitao Huang;Dengyong Z...</td>\n",
       "      <td>6.666667</td>\n",
       "      <td>Accept</td>\n",
       "      <td>Microsoft;Google;University of Illinois, Urban...</td>\n",
       "      <td>-1;-1;3;-1;-1</td>\n",
       "      <td>3;2</td>\n",
       "      <td>1718;17889;161;8800;20766</td>\n",
       "      <td>59;1045;17;78;409</td>\n",
       "      <td>17;54;7;33;63</td>\n",
       "      <td>True</td>\n",
       "      <td>8800.0</td>\n",
       "      <td>78.0</td>\n",
       "      <td>33.0</td>\n",
       "      <td>1.714100</td>\n",
       "      <td>1</td>\n",
       "      <td>1</td>\n",
       "      <td>2.333333</td>\n",
       "    </tr>\n",
       "    <tr>\n",
       "      <th>3</th>\n",
       "      <td>2018</td>\n",
       "      <td>Interactive Grounded Language Acquisition and ...</td>\n",
       "      <td>Haonan Yu;Haichao Zhang;Wei Xu</td>\n",
       "      <td>6.333333</td>\n",
       "      <td>Accept</td>\n",
       "      <td>Baidu;Baidu;Baidu</td>\n",
       "      <td>-1;-1;-1</td>\n",
       "      <td>6;8</td>\n",
       "      <td>890;1382;9553</td>\n",
       "      <td>37;63;557</td>\n",
       "      <td>12;20;44</td>\n",
       "      <td>False</td>\n",
       "      <td>1382.0</td>\n",
       "      <td>63.0</td>\n",
       "      <td>20.0</td>\n",
       "      <td>1.258896</td>\n",
       "      <td>0</td>\n",
       "      <td>0</td>\n",
       "      <td>2.666667</td>\n",
       "    </tr>\n",
       "    <tr>\n",
       "      <th>4</th>\n",
       "      <td>2018</td>\n",
       "      <td>A Boo(n) for Evaluating Architecture Performance</td>\n",
       "      <td>Ondrej Bajgar;Rudolf Kadlec;and Jan Kleindienst</td>\n",
       "      <td>4.666667</td>\n",
       "      <td>Reject</td>\n",
       "      <td>;International Business Machines;International...</td>\n",
       "      <td>-1;-1;-1</td>\n",
       "      <td>0</td>\n",
       "      <td>366;678;658</td>\n",
       "      <td>10;40;76</td>\n",
       "      <td>5;11;9</td>\n",
       "      <td>False</td>\n",
       "      <td>658.0</td>\n",
       "      <td>40.0</td>\n",
       "      <td>9.0</td>\n",
       "      <td>0.984882</td>\n",
       "      <td>0</td>\n",
       "      <td>0</td>\n",
       "      <td>-4.666667</td>\n",
       "    </tr>\n",
       "    <tr>\n",
       "      <th>...</th>\n",
       "      <td>...</td>\n",
       "      <td>...</td>\n",
       "      <td>...</td>\n",
       "      <td>...</td>\n",
       "      <td>...</td>\n",
       "      <td>...</td>\n",
       "      <td>...</td>\n",
       "      <td>...</td>\n",
       "      <td>...</td>\n",
       "      <td>...</td>\n",
       "      <td>...</td>\n",
       "      <td>...</td>\n",
       "      <td>...</td>\n",
       "      <td>...</td>\n",
       "      <td>...</td>\n",
       "      <td>...</td>\n",
       "      <td>...</td>\n",
       "      <td>...</td>\n",
       "      <td>...</td>\n",
       "    </tr>\n",
       "    <tr>\n",
       "      <th>4251</th>\n",
       "      <td>2020</td>\n",
       "      <td>A Finite-Time Analysis of  Q-Learning with Neu...</td>\n",
       "      <td>Pan Xu;Quanquan Gu</td>\n",
       "      <td>5.000000</td>\n",
       "      <td>Reject</td>\n",
       "      <td>University of California, Los Angeles;Universi...</td>\n",
       "      <td>20;20</td>\n",
       "      <td>1;9</td>\n",
       "      <td>295;3895</td>\n",
       "      <td>31;174</td>\n",
       "      <td>10;34</td>\n",
       "      <td>False</td>\n",
       "      <td>2095.0</td>\n",
       "      <td>102.5</td>\n",
       "      <td>22.0</td>\n",
       "      <td>1.368938</td>\n",
       "      <td>0</td>\n",
       "      <td>0</td>\n",
       "      <td>4.000000</td>\n",
       "    </tr>\n",
       "    <tr>\n",
       "      <th>4252</th>\n",
       "      <td>2020</td>\n",
       "      <td>SCELMo: Source Code Embeddings from Language M...</td>\n",
       "      <td>Rafael - Michael Karampatsis;Charles Sutton</td>\n",
       "      <td>4.666667</td>\n",
       "      <td>Reject</td>\n",
       "      <td>University of Edinburgh;Google</td>\n",
       "      <td>33;-1</td>\n",
       "      <td>3</td>\n",
       "      <td>0;50</td>\n",
       "      <td>1;18</td>\n",
       "      <td>0;3</td>\n",
       "      <td>False</td>\n",
       "      <td>25.0</td>\n",
       "      <td>9.5</td>\n",
       "      <td>1.5</td>\n",
       "      <td>0.577236</td>\n",
       "      <td>1</td>\n",
       "      <td>0</td>\n",
       "      <td>-4.666667</td>\n",
       "    </tr>\n",
       "    <tr>\n",
       "      <th>4253</th>\n",
       "      <td>2020</td>\n",
       "      <td>GraphMix: Regularized Training of Graph Neural...</td>\n",
       "      <td>Vikas Verma;Meng Qu;Alex Lamb;Yoshua Bengio;Ju...</td>\n",
       "      <td>4.000000</td>\n",
       "      <td>Reject</td>\n",
       "      <td>;University of Montreal;University of Montreal...</td>\n",
       "      <td>-1;128;128;128;143;128</td>\n",
       "      <td>10</td>\n",
       "      <td>202;504;2136;208566;3645;346</td>\n",
       "      <td>25;40;22;807;127;94</td>\n",
       "      <td>4;5;8;147;24;8</td>\n",
       "      <td>True</td>\n",
       "      <td>1320.0</td>\n",
       "      <td>67.0</td>\n",
       "      <td>8.0</td>\n",
       "      <td>0.670325</td>\n",
       "      <td>0</td>\n",
       "      <td>0</td>\n",
       "      <td>-4.000000</td>\n",
       "    </tr>\n",
       "    <tr>\n",
       "      <th>4254</th>\n",
       "      <td>2020</td>\n",
       "      <td>Neural networks with motivation</td>\n",
       "      <td>Sergey A. Shuvaev;Ngoc B. Tran;Marcus Stephens...</td>\n",
       "      <td>2.333333</td>\n",
       "      <td>Reject</td>\n",
       "      <td>Cold Spring Harbor Laboratory;Cold Spring Harb...</td>\n",
       "      <td>-1;-1;-1;-1;-1</td>\n",
       "      <td>5</td>\n",
       "      <td>16;94;563;997;1816</td>\n",
       "      <td>8;12;14;67;83</td>\n",
       "      <td>3;3;9;9;16</td>\n",
       "      <td>True</td>\n",
       "      <td>563.0</td>\n",
       "      <td>14.0</td>\n",
       "      <td>9.0</td>\n",
       "      <td>1.359447</td>\n",
       "      <td>0</td>\n",
       "      <td>0</td>\n",
       "      <td>-2.333333</td>\n",
       "    </tr>\n",
       "    <tr>\n",
       "      <th>4255</th>\n",
       "      <td>2020</td>\n",
       "      <td>Measuring causal influence with back-to-back r...</td>\n",
       "      <td>Jean-Remi King;Francois Charton;Maxime Oquab;D...</td>\n",
       "      <td>4.000000</td>\n",
       "      <td>Reject</td>\n",
       "      <td>Facebook;Facebook;Facebook;Facebook</td>\n",
       "      <td>-1;-1;-1;-1</td>\n",
       "      <td>0</td>\n",
       "      <td>1273;1;2971;2483</td>\n",
       "      <td>45;14;20;46</td>\n",
       "      <td>16;1;7;19</td>\n",
       "      <td>False</td>\n",
       "      <td>1878.0</td>\n",
       "      <td>32.5</td>\n",
       "      <td>11.5</td>\n",
       "      <td>1.740191</td>\n",
       "      <td>1</td>\n",
       "      <td>0</td>\n",
       "      <td>-4.000000</td>\n",
       "    </tr>\n",
       "  </tbody>\n",
       "</table>\n",
       "<p>4256 rows × 19 columns</p>\n",
       "</div>"
      ],
      "text/plain": [
       "      year                                              paper  \\\n",
       "0     2018  Certifying Some Distributional Robustness with...   \n",
       "1     2018  Parametric Information Bottleneck to Optimize ...   \n",
       "2     2018    Towards Neural Phrase-based Machine Translation   \n",
       "3     2018  Interactive Grounded Language Acquisition and ...   \n",
       "4     2018   A Boo(n) for Evaluating Architecture Performance   \n",
       "...    ...                                                ...   \n",
       "4251  2020  A Finite-Time Analysis of  Q-Learning with Neu...   \n",
       "4252  2020  SCELMo: Source Code Embeddings from Language M...   \n",
       "4253  2020  GraphMix: Regularized Training of Graph Neural...   \n",
       "4254  2020                    Neural networks with motivation   \n",
       "4255  2020  Measuring causal influence with back-to-back r...   \n",
       "\n",
       "                                                authors   ratings decisions  \\\n",
       "0               Aman Sinha;Hongseok Namkoong;John Duchi  9.000000    Accept   \n",
       "1                           Thanh T. Nguyen;Jaesik Choi  4.666667    Reject   \n",
       "2     Po-Sen Huang;Chong Wang;Sitao Huang;Dengyong Z...  6.666667    Accept   \n",
       "3                        Haonan Yu;Haichao Zhang;Wei Xu  6.333333    Accept   \n",
       "4       Ondrej Bajgar;Rudolf Kadlec;and Jan Kleindienst  4.666667    Reject   \n",
       "...                                                 ...       ...       ...   \n",
       "4251                                 Pan Xu;Quanquan Gu  5.000000    Reject   \n",
       "4252        Rafael - Michael Karampatsis;Charles Sutton  4.666667    Reject   \n",
       "4253  Vikas Verma;Meng Qu;Alex Lamb;Yoshua Bengio;Ju...  4.000000    Reject   \n",
       "4254  Sergey A. Shuvaev;Ngoc B. Tran;Marcus Stephens...  2.333333    Reject   \n",
       "4255  Jean-Remi King;Francois Charton;Maxime Oquab;D...  4.000000    Reject   \n",
       "\n",
       "                                            institution  \\\n",
       "0     Stanford University;Stanford University;Stanfo...   \n",
       "1     Ulsan National Institute of Science and Techno...   \n",
       "2     Microsoft;Google;University of Illinois, Urban...   \n",
       "3                                     Baidu;Baidu;Baidu   \n",
       "4     ;International Business Machines;International...   \n",
       "...                                                 ...   \n",
       "4251  University of California, Los Angeles;Universi...   \n",
       "4252                     University of Edinburgh;Google   \n",
       "4253  ;University of Montreal;University of Montreal...   \n",
       "4254  Cold Spring Harbor Laboratory;Cold Spring Harb...   \n",
       "4255                Facebook;Facebook;Facebook;Facebook   \n",
       "\n",
       "                   csranking categories             authors_citations  \\\n",
       "0                      4;4;4          4                 655;904;12908   \n",
       "1                    468;468          8                      1052;727   \n",
       "2              -1;-1;3;-1;-1        3;2     1718;17889;161;8800;20766   \n",
       "3                   -1;-1;-1        6;8                 890;1382;9553   \n",
       "4                   -1;-1;-1          0                   366;678;658   \n",
       "...                      ...        ...                           ...   \n",
       "4251                   20;20        1;9                      295;3895   \n",
       "4252                   33;-1          3                          0;50   \n",
       "4253  -1;128;128;128;143;128         10  202;504;2136;208566;3645;346   \n",
       "4254          -1;-1;-1;-1;-1          5            16;94;563;997;1816   \n",
       "4255             -1;-1;-1;-1          0              1273;1;2971;2483   \n",
       "\n",
       "     authors_publications  authors_hindex  arxiv  authors_citations_median  \\\n",
       "0               42;19;162         8;10;42   True                     904.0   \n",
       "1                   86;88           16;15  False                     889.5   \n",
       "2       59;1045;17;78;409   17;54;7;33;63   True                    8800.0   \n",
       "3               37;63;557        12;20;44  False                    1382.0   \n",
       "4                10;40;76          5;11;9  False                     658.0   \n",
       "...                   ...             ...    ...                       ...   \n",
       "4251               31;174           10;34  False                    2095.0   \n",
       "4252                 1;18             0;3  False                      25.0   \n",
       "4253  25;40;22;807;127;94  4;5;8;147;24;8   True                    1320.0   \n",
       "4254        8;12;14;67;83      3;3;9;9;16   True                     563.0   \n",
       "4255          45;14;20;46       16;1;7;19  False                    1878.0   \n",
       "\n",
       "      authors_publications_median  authors_hindex_median  reputation  \\\n",
       "0                            42.0                   10.0    1.906761   \n",
       "1                            87.0                   15.5    0.966675   \n",
       "2                            78.0                   33.0    1.714100   \n",
       "3                            63.0                   20.0    1.258896   \n",
       "4                            40.0                    9.0    0.984882   \n",
       "...                           ...                    ...         ...   \n",
       "4251                        102.5                   22.0    1.368938   \n",
       "4252                          9.5                    1.5    0.577236   \n",
       "4253                         67.0                    8.0    0.670325   \n",
       "4254                         14.0                    9.0    1.359447   \n",
       "4255                         32.5                   11.5    1.740191   \n",
       "\n",
       "      has_top_company  has_top_institution     crazy  \n",
       "0                   0                    1  0.000000  \n",
       "1                   0                    0 -4.666667  \n",
       "2                   1                    1  2.333333  \n",
       "3                   0                    0  2.666667  \n",
       "4                   0                    0 -4.666667  \n",
       "...               ...                  ...       ...  \n",
       "4251                0                    0  4.000000  \n",
       "4252                1                    0 -4.666667  \n",
       "4253                0                    0 -4.000000  \n",
       "4254                0                    0 -2.333333  \n",
       "4255                1                    0 -4.000000  \n",
       "\n",
       "[4256 rows x 19 columns]"
      ]
     },
     "execution_count": 25,
     "metadata": {},
     "output_type": "execute_result"
    }
   ],
   "source": [
    "dataset_final"
   ]
  },
  {
   "cell_type": "code",
   "execution_count": 26,
   "metadata": {
    "scrolled": true
   },
   "outputs": [
    {
     "data": {
      "text/plain": [
       "<matplotlib.legend.Legend at 0x15e2850f820>"
      ]
     },
     "execution_count": 26,
     "metadata": {},
     "output_type": "execute_result"
    },
    {
     "data": {
      "image/png": "[encoded data removed]",
      "text/plain": [
       "<Figure size 432x288 with 1 Axes>"
      ]
     },
     "metadata": {
      "needs_background": "light"
     },
     "output_type": "display_data"
    }
   ],
   "source": [
    "#~2.1.1\n",
    "\n",
    "#plot distributions of ratings of accepted papers in 2020\n",
    "x_a = np.sort(dataset_final[(dataset_final['decisions'] == 'Accept') & (dataset_final['year']==2020)].ratings)\n",
    "n_a = x_a.size\n",
    "y_a = np.arange(1, n_a+1) / n_a\n",
    "plt.plot(x_a,y_a, label='Accept')\n",
    "\n",
    "x_b = np.sort(dataset_final[(dataset_final['decisions'] == 'Reject') & (dataset_final['year']==2020)].ratings)\n",
    "n_b = x_b.size\n",
    "y_b = np.arange(1, n_b+1) / n_b\n",
    "plt.plot(x_b,y_b, label='Reject')\n",
    "\n",
    "plt.legend()"
   ]
  },
  {
   "cell_type": "code",
   "execution_count": 27,
   "metadata": {},
   "outputs": [
    {
     "data": {
      "text/plain": [
       "Ttest_indResult(statistic=53.56214101855919, pvalue=0.0)"
      ]
     },
     "execution_count": 27,
     "metadata": {},
     "output_type": "execute_result"
    }
   ],
   "source": [
    "#~2.1.2\n",
    "#statistical test to compare mean ratings of papers that got accepted in 2020\n",
    "import scipy\n",
    "\n",
    "a = dataset_final[(dataset_final['decisions'] == 'Accept') & (dataset_final['year']==2020)].ratings\n",
    "b = dataset_final[(dataset_final['decisions'] == 'Reject') & (dataset_final['year']==2020)].ratings\n",
    "\n",
    "scipy.stats.ttest_ind(a, b, equal_var=False)"
   ]
  },
  {
   "cell_type": "markdown",
   "metadata": {},
   "source": [
    "~2.1.3\n",
    "\n",
    "T test because\n",
    "- comparison test of means\n",
    "- groups being compared: 2\n",
    "\n",
    "p-value is the probability that we would observe a test statistic less than -53.6 or greater than 53.6 if the means were equal. Since the p-value is so low, we reject the hypothesis that the means are equal."
   ]
  },
  {
   "cell_type": "markdown",
   "metadata": {},
   "source": [
    "### Task 2.2\n",
    "\n",
    "We will now carry out a logistic regression modeling the binary variable `decisions` as a function of the continuous variable `ratings` and an intercept. \n",
    "\n",
    "Recall that a logistic regression is a model in the form:\n",
    "\n",
    "$$\n",
    "\\log \\Big( \\frac{p}{1-p} \\Big) = b_0 + b_1x_1 + b_2x_2 + \\ldots\n",
    "$$\n",
    "\n",
    "Where $p$ is the probability of the dependent variable (here, `decisions`) being equals to 1. \n",
    "Note that $\\frac{p}{1-p}$ represents the odds of the variable, and thus, on the left-hand side we have the log-odds of the variable.\n",
    "This can be also written as:\n",
    "\n",
    "$$\n",
    "\\Big( \\frac{p}{1-p} \\Big) = e^{b_0 + b_1 x_1 + b_2 x_2 + \\ldots} =  e^{b_0} e^{b_1 x_1} e^{b_2 x_2} \\ldots\n",
    "$$\n",
    "\n",
    "Given a linear variable, say $x_1$, if we increase the value associated with this variable by a single unit, and keep everything constant, we have:\n",
    "\n",
    "$$\n",
    " e^{b_1(x_1+1)} =  e^{b_1 x_1 + b_1} = e^{b_1 x_1}e^{b_1}  \n",
    "$$\n",
    "\n",
    "This means that we multiply the odds of the outcome variable by $e^{b_1}$. Thus, let's say that $x_1$ is the average rating, and $\\beta_1$ is the associated coefficient. Also, let's assume that $\\beta_1$ equals 2. In that case, increasing the score of the paper by 1 unit is equivalent to multiplying both sides of the previous equation by $e^{b_1}$. The original equation for our model becomes:\n",
    "\n",
    "$$\n",
    "\\Big( \\frac{p}{1-p} \\Big) = e^{b_0} e^{b_1 x_1} \n",
    "$$\n",
    "$$\n",
    "\\Big( \\frac{p}{1-p} \\Big) e^{b_1}  = e^{b_0} e^{b_1 x_1} e^{b_1}\n",
    "$$\n",
    "\n",
    "Since $b_1=2$, we have that this is the same as multiplying the odds of the variable by $e^2\\approx7$. \n",
    "So for example, if a paper with a score 5 had $p=0.05$ of being approved, its odds would be $0.05/0.95\\approx0.052$. According to our model, an increase in 1-rating point would mean that the new odds would be $0.052*7\\approx0.36$. Using the odds formula  ($\\frac{p}{1-p}$), this suggests that this paper would have a chance of $0.56$ of being accepted.\n",
    "\n",
    "---\n",
    "\n",
    "This is the theory. Now, let's find out what the real world looks like.\n",
    "\n",
    "\n",
    "1. Fit a logistic regression model to our data considering as the training set all papers submitted in 2020. Your model should predict a binary variable related to decisions (which equals true if the paper was accepted and false otherwise) as a function of the paper ratings and an intercept. In mathematical notation:\n",
    "$$\n",
    "d = b_0 + r b_1\n",
    "$$\n",
    "Where $d$ is the binary variable corresponding to a decision, $r$ is a numeric variable corresponding to the rating a paper has received and $b$ are coefficients.\n",
    "Notice that here we have no testing set!\n",
    "Report the summary of your model. \n",
    "2. **Discuss:** Interpreting the coefficients of your model, calculate the probability that a paper with a score 7 will be accepted.\n"
   ]
  },
  {
   "cell_type": "code",
   "execution_count": 28,
   "metadata": {},
   "outputs": [
    {
     "name": "stdout",
     "output_type": "stream",
     "text": [
      "Coefficients_train_rand: [[2.33911659]]\n",
      "Intercept_train_rand: [-12.73047846]\n",
      "Mean squared error_train_rand: 0.10\n",
      "Coefficient of determination_train_rand (R^2): 0.52\n"
     ]
    }
   ],
   "source": [
    "#~2.2.1\n",
    "from sklearn.linear_model import LogisticRegression\n",
    "from sklearn import preprocessing\n",
    "\n",
    "train_set = dataset_final[dataset_final['year'] == 2020]\n",
    "train_set_X = train_set[['ratings']]\n",
    "decisions = (train_set['decisions'] == 'Accept').astype(int)\n",
    "train_set_Y = decisions\n",
    "\n",
    "#lab_enc = preprocessing.LabelEncoder()\n",
    "#train_set_Y_enc = lab_enc.fit_transform(train_set_Y)\n",
    "\n",
    "model_log = LogisticRegression(max_iter=1000)\n",
    "model_log.fit(train_set_X, train_set_Y)\n",
    "\n",
    "train_set_Y_pred = model_log.predict(train_set_X)\n",
    "print('Coefficients_train_rand:', model_log.coef_)\n",
    "print('Intercept_train_rand:', model_log.intercept_)\n",
    "print('Mean squared error_train_rand: %.2f' % mean_squared_error(train_set_Y, train_set_Y_pred))\n",
    "print('Coefficient of determination_train_rand (R^2): %.2f' % r2_score(train_set_Y, train_set_Y_pred))\n",
    "\n"
   ]
  },
  {
   "cell_type": "code",
   "execution_count": 29,
   "metadata": {},
   "outputs": [
    {
     "data": {
      "text/plain": [
       "0.9745022762180968"
      ]
     },
     "execution_count": 29,
     "metadata": {},
     "output_type": "execute_result"
    }
   ],
   "source": [
    "import math\n",
    "score = 7\n",
    "odds = math.exp(-12.73047846)*math.exp(2.33911659*score)\n",
    "p = odds/(1+odds)\n",
    "p"
   ]
  },
  {
   "cell_type": "markdown",
   "metadata": {},
   "source": [
    "~2.2.2\n",
    "\n",
    "Coefficient = b1, Intercept = b0\n",
    "\n",
    "Probability of paper with score 7 to be accepted is 97.5%"
   ]
  },
  {
   "cell_type": "markdown",
   "metadata": {},
   "source": [
    "### Task 2.3\n",
    "\n",
    "Our model is not so interesting since the only independent variable (that is, our model' feature or predictor) is something blatantly associated with paper acceptance. Let's go further! \n",
    "\n",
    "1. Run a logistic regression with the binary decision as the dependent variable (the outcome) and using as independent variables (the features): ratings, the reputation of the last author, and whether the paper was on arxiv or not. That is, in [patsy-style formula](https://patsy.readthedocs.io/en/latest/formulas.html): `decisions ~ ratings + reputation + arxiv` (variable names do not need to be exactly these). Consider all papers submitted in 2020 as your training data.\n",
    "Notice that reputation was calculated in Task 1.1. \n",
    "2. **Discuss:** Unlike `ratings` and `reputation`, the variable `arxiv` is binary. Following the same logic as we did for continuous variables in the text of Task 2.2, interpret the meaning of this coefficient. What happens to the odds ratio if the paper was seen in arxiv? Is this effect statistically significant?"
   ]
  },
  {
   "cell_type": "code",
   "execution_count": 30,
   "metadata": {},
   "outputs": [
    {
     "name": "stdout",
     "output_type": "stream",
     "text": [
      "Coefficients_train_rand: [[2.32609507 0.22254585 0.28146655]]\n",
      "Intercept_train_rand: [-13.06731333]\n",
      "Mean squared error_train_rand: 0.10\n",
      "Coefficient of determination_train_rand (R^2): 0.52\n"
     ]
    }
   ],
   "source": [
    "#~2.3.1\n",
    "train_set = dataset_final[dataset_final['year'] == 2020]\n",
    "train_set_new_X = train_set[['ratings','reputation','arxiv']]\n",
    "decisions = (train_set['decisions'] == 'Accept').astype(int)\n",
    "train_set_Y = decisions\n",
    "\n",
    "model_log = LogisticRegression(max_iter=1000)\n",
    "model_log.fit(train_set_new_X, train_set_Y)\n",
    "\n",
    "train_set_Y_pred = model_log.predict(train_set_new_X)\n",
    "print('Coefficients_train_rand:', model_log.coef_)\n",
    "print('Intercept_train_rand:', model_log.intercept_)\n",
    "print('Mean squared error_train_rand: %.2f' % mean_squared_error(train_set_Y, train_set_Y_pred))\n",
    "print('Coefficient of determination_train_rand (R^2): %.2f' % r2_score(train_set_Y, train_set_Y_pred))\n"
   ]
  },
  {
   "cell_type": "markdown",
   "metadata": {},
   "source": [
    "~2.3.2\n",
    "\n",
    "- Coefficient for ratings = 2.32609507\n",
    "- Coefficient for reputation = 0.22254585\n",
    "- coefficient for arxiv = 0.28146655\n",
    "\n",
    "If a paper is seen in arxiv, it has increases the probabily by exp(0.28146655) = 1.35"
   ]
  },
  {
   "cell_type": "markdown",
   "metadata": {},
   "source": [
    "### Task 2.4\n",
    "\n",
    "Let's finally move on to the question that you have been dying to answer: Do pre-prints favor top institutions? \n",
    "\n",
    "In order to (try to) answer that question, you must fit yet another logistic regression.\n",
    "\n",
    "Your regression should have the paper decision as the dependent variable, and `ratings`, `reputation`, and `arxiv` as independent variables just like in task 2.3. Yet, here, include also as independent variables the binary variable `has_top_institution`, which equals 1 if the paper has an author in a top-10 institution; and the interaction variable `arxiv:has_top_institution`, which equals one only if the paper is from a top-10 institution **and** if it appeared on arxiv before the submission deadline. In patsy-style formula your model should look something like: \n",
    "\n",
    "`decisions_bool ~ ratings + reputation + arxiv + has_top_institution + arxiv:has_top_institution`\n",
    "\n",
    "\n",
    "1. Fit this model and estimate the effect of posting on arxiv for a top institution. Again, consider only papers submitted in the 2020 edition.\n",
    "2. **Discuss:** Interpreting the p-values, discuss: is this evidence that arxiv breaks double-blind submissions?"
   ]
  },
  {
   "cell_type": "code",
   "execution_count": 31,
   "metadata": {},
   "outputs": [
    {
     "name": "stdout",
     "output_type": "stream",
     "text": [
      "Coefficients_train_rand: [[2.3525865  0.15951865 0.11853512 0.36688717 0.52706571]]\n",
      "Intercept_train_rand: [-13.22596737]\n",
      "Mean squared error_train_rand: 0.10\n",
      "Coefficient of determination_train_rand (R^2): 0.52\n"
     ]
    }
   ],
   "source": [
    "#~2.4.1\n",
    "dataset_final['arxiv:has_top_institution'] = (dataset_final['arxiv']==True) & (dataset_final['has_top_institution']==1)\n",
    "train_set = dataset_final[dataset_final['year'] == 2020]\n",
    "train_set_new_X = train_set[['ratings','reputation','arxiv','has_top_institution','arxiv:has_top_institution']]\n",
    "decisions = (train_set['decisions'] == 'Accept').astype(int)\n",
    "train_set_Y = decisions\n",
    "\n",
    "model_log = LogisticRegression(max_iter=1000)\n",
    "model_log.fit(train_set_new_X, train_set_Y)\n",
    "\n",
    "train_set_Y_pred = model_log.predict(train_set_new_X)\n",
    "print('Coefficients_train_rand:', model_log.coef_)\n",
    "print('Intercept_train_rand:', model_log.intercept_)\n",
    "print('Mean squared error_train_rand: %.2f' % mean_squared_error(train_set_Y, train_set_Y_pred))\n",
    "print('Coefficient of determination_train_rand (R^2): %.2f' % r2_score(train_set_Y, train_set_Y_pred))\n"
   ]
  },
  {
   "cell_type": "code",
   "execution_count": 32,
   "metadata": {
    "scrolled": true
   },
   "outputs": [
    {
     "name": "stdout",
     "output_type": "stream",
     "text": [
      "1.8031612685779713e-06\n",
      "6.119559075898441e-05\n",
      "0.0020727977401471666\n",
      "0.06585428620769591\n",
      "0.7052459297447334\n",
      "0.9878355488826482\n",
      "0.9996373071730253\n",
      "0.9999893099309124\n",
      "0.9999996850267571\n",
      "0.9999999907196909\n"
     ]
    },
    {
     "data": {
      "text/plain": [
       "[<matplotlib.lines.Line2D at 0x15e2e8c0af0>]"
      ]
     },
     "execution_count": 32,
     "metadata": {},
     "output_type": "execute_result"
    },
    {
     "data": {
      "image/png": "[encoded data removed]",
      "text/plain": [
       "<Figure size 432x288 with 1 Axes>"
      ]
     },
     "metadata": {
      "needs_background": "light"
     },
     "output_type": "display_data"
    }
   ],
   "source": [
    "#~2.4.2\n",
    "score = [0,1,2,3,4,5,6,7,8,9,10]\n",
    "for i in range(10):\n",
    "    odds = math.exp(-13.22596737)*math.exp(2.3525865*score[i])*math.exp(0.15951865 *score[i])*math.exp(0.11853512 *score[i])*math.exp(0.36688717 *score[i])*math.exp(0.52706571*score[i])\n",
    "    p = odds/(1+odds)\n",
    "    print(p)\n",
    "\n",
    "plt.plot(p)"
   ]
  },
  {
   "cell_type": "markdown",
   "metadata": {},
   "source": [
    "Probabilities increase with increasing scores, so arxiv does not break double-blind"
   ]
  },
  {
   "cell_type": "markdown",
   "metadata": {},
   "source": [
    "## Step 3: Matching\n",
    "\n",
    "Okay, so let's change hats one last time.\n",
    "\n",
    "As you have all seen in class, a particularly powerful way of disentangling causal effects from observational data is through matching: making sure we are not comparing apples to oranges.\n",
    "\n",
    "\n",
    "### Task 3.1\n",
    "\n",
    "One of the ways to do matching is called \"Propensity Score Matching.\" There, we calculate a *propensity score* for each subject which represents the propensity to receive a \"treatment.\" Then, we match subjects who received and did not receive the treatment, but that had similar propensity scores (that is, even though some received the treatment and some did not, they had similar chances to receive it).\n",
    "\n",
    "In our specific case, we can further attempt to study the impact of pre-prints by considering publishing to arxiv as our \"treatment\".\n",
    "\n",
    "In that context, the first step to perform propensity score matching is to create a classifier that predicts whether a paper was published on arxiv or not.\n",
    "\n",
    "1. We have trained this classifier for you (don't get spoiled!). You may load the pandas dataframe entitled `propensity_scores.csv.gz` from the github repo. \n",
    "Notice that we will be using only the articles published in 2020. \n",
    "Create a new dataframe that is a merged version of this new dataframe with the dataframe you have been working on so far. Remember to keep only the papers published in 2020!\n",
    "2. **Discuss:** In which way is this classifier (that is a classifier trained to estimate propensity scores) different from the regressor that you trained in Step 1?\n",
    "\n",
    "**Hint:** For this classifier we don't need a training set and a testing set!\n"
   ]
  },
  {
   "cell_type": "code",
   "execution_count": 33,
   "metadata": {
    "scrolled": true
   },
   "outputs": [
    {
     "ename": "NameError",
     "evalue": "name 'data_merged' is not defined",
     "output_type": "error",
     "traceback": [
      "\u001b[1;31m---------------------------------------------------------------------------\u001b[0m",
      "\u001b[1;31mNameError\u001b[0m                                 Traceback (most recent call last)",
      "\u001b[1;32m<ipython-input-33-a6ec1602fcf0>\u001b[0m in \u001b[0;36m<module>\u001b[1;34m\u001b[0m\n\u001b[1;32m----> 1\u001b[1;33m \u001b[0mdata_merged\u001b[0m\u001b[1;33m\u001b[0m\u001b[1;33m\u001b[0m\u001b[0m\n\u001b[0m",
      "\u001b[1;31mNameError\u001b[0m: name 'data_merged' is not defined"
     ]
    }
   ],
   "source": [
    "data_merged"
   ]
  },
  {
   "cell_type": "code",
   "execution_count": 49,
   "metadata": {},
   "outputs": [],
   "source": [
    "#~3.1.1\n",
    "dataset_final_2020 = dataset_final[dataset_final['year'] == 2020]\n",
    "data_merged = pd.merge(propensity_scores,dataset_final_2020, on='paper')"
   ]
  },
  {
   "cell_type": "markdown",
   "metadata": {},
   "source": [
    "~3.1.2\n",
    "this classifier is based on arxiv, previous is based on features"
   ]
  },
  {
   "cell_type": "markdown",
   "metadata": {},
   "source": [
    "### Task 3.2\n",
    "\n",
    "Now is time to match users! You will be implementing a technique called *caliper matching*. \n",
    "\n",
    "Create pairs of users as follows. For each treated subject (here a paper that was submitted to arxiv), find a non-treated subject (a paper that was not submitted to arxiv) with similar propensity score. Namely, if the propensity score of the treated unit is $p_t$, you must find a non-treated unit $p_c$ with propensity score $|p_{c} - p_t| < \\epsilon$. If there is no such a non-treated unit, you may ignore the treated unit and move forward with the matching. Notice that your output must be a 1-to-1 matching. So each paper can only be matched once.\n",
    "\n",
    "1. Perform this matching procedure using $\\epsilon = 0.05$.\n",
    "2. Report how many pairs did you manage to match? How many didn't you?"
   ]
  },
  {
   "cell_type": "code",
   "execution_count": 56,
   "metadata": {
    "scrolled": true
   },
   "outputs": [
    {
     "data": {
      "text/html": [
       "<div>\n",
       "<style scoped>\n",
       "    .dataframe tbody tr th:only-of-type {\n",
       "        vertical-align: middle;\n",
       "    }\n",
       "\n",
       "    .dataframe tbody tr th {\n",
       "        vertical-align: top;\n",
       "    }\n",
       "\n",
       "    .dataframe thead th {\n",
       "        text-align: right;\n",
       "    }\n",
       "</style>\n",
       "<table border=\"1\" class=\"dataframe\">\n",
       "  <thead>\n",
       "    <tr style=\"text-align: right;\">\n",
       "      <th></th>\n",
       "      <th>propensity_score</th>\n",
       "    </tr>\n",
       "  </thead>\n",
       "  <tbody>\n",
       "    <tr>\n",
       "      <th>2</th>\n",
       "      <td>0.334322</td>\n",
       "    </tr>\n",
       "    <tr>\n",
       "      <th>5</th>\n",
       "      <td>0.363916</td>\n",
       "    </tr>\n",
       "    <tr>\n",
       "      <th>12</th>\n",
       "      <td>0.324035</td>\n",
       "    </tr>\n",
       "    <tr>\n",
       "      <th>17</th>\n",
       "      <td>0.324041</td>\n",
       "    </tr>\n",
       "    <tr>\n",
       "      <th>18</th>\n",
       "      <td>0.365442</td>\n",
       "    </tr>\n",
       "    <tr>\n",
       "      <th>...</th>\n",
       "      <td>...</td>\n",
       "    </tr>\n",
       "    <tr>\n",
       "      <th>2025</th>\n",
       "      <td>0.281881</td>\n",
       "    </tr>\n",
       "    <tr>\n",
       "      <th>2030</th>\n",
       "      <td>0.223022</td>\n",
       "    </tr>\n",
       "    <tr>\n",
       "      <th>2033</th>\n",
       "      <td>0.265456</td>\n",
       "    </tr>\n",
       "    <tr>\n",
       "      <th>2049</th>\n",
       "      <td>0.208421</td>\n",
       "    </tr>\n",
       "    <tr>\n",
       "      <th>2050</th>\n",
       "      <td>0.213840</td>\n",
       "    </tr>\n",
       "  </tbody>\n",
       "</table>\n",
       "<p>590 rows × 1 columns</p>\n",
       "</div>"
      ],
      "text/plain": [
       "      propensity_score\n",
       "2             0.334322\n",
       "5             0.363916\n",
       "12            0.324035\n",
       "17            0.324041\n",
       "18            0.365442\n",
       "...                ...\n",
       "2025          0.281881\n",
       "2030          0.223022\n",
       "2033          0.265456\n",
       "2049          0.208421\n",
       "2050          0.213840\n",
       "\n",
       "[590 rows x 1 columns]"
      ]
     },
     "execution_count": 56,
     "metadata": {},
     "output_type": "execute_result"
    }
   ],
   "source": [
    "(data_merged['arxiv'] == True).astype(int)\n",
    "treated_df"
   ]
  },
  {
   "cell_type": "code",
   "execution_count": 58,
   "metadata": {},
   "outputs": [
    {
     "data": {
      "text/plain": [
       "<matplotlib.legend.Legend at 0x15e2fb11280>"
      ]
     },
     "execution_count": 58,
     "metadata": {},
     "output_type": "execute_result"
    },
    {
     "data": {
      "image/png": "[encoded data removed]",
      "text/plain": [
       "<Figure size 576x432 with 1 Axes>"
      ]
     },
     "metadata": {
      "needs_background": "light"
     },
     "output_type": "display_data"
    }
   ],
   "source": [
    "from sklearn.preprocessing import StandardScaler\n",
    "from sklearn.neighbors import NearestNeighbors\n",
    "\n",
    "def get_matching_pairs(treated_df, non_treated_df, scaler=True):\n",
    "\n",
    "    treated_x = treated_df.values\n",
    "    non_treated_x = non_treated_df.values\n",
    "    if scaler == True:\n",
    "        scaler = StandardScaler()\n",
    "    if scaler:\n",
    "        scaler.fit(treated_x)\n",
    "        treated_x = scaler.transform(treated_x)\n",
    "        non_treated_x = scaler.transform(non_treated_x)\n",
    "\n",
    "    nbrs = NearestNeighbors(n_neighbors=1, algorithm='ball_tree').fit(non_treated_x)\n",
    "    distances, indices = nbrs.kneighbors(treated_x)\n",
    "    indices = indices.reshape(indices.shape[0])\n",
    "    matched = non_treated_df.iloc[indices]\n",
    "    return matched\n",
    "\n",
    "treated_df = data_merged[data_merged['arxiv']==True][['propensity_score']]\n",
    "non_treated_df = data_merged[data_merged['arxiv']==False][['propensity_score']]\n",
    "\n",
    "matched_df = get_matching_pairs(treated_df, non_treated_df)\n",
    "\n",
    "plt.rcParams['figure.figsize'] = 8, 6\n",
    "\n",
    "sns.distplot(treated_df,label = 'Treated')\n",
    "sns.distplot(non_treated_df,label = 'Non-treated')\n",
    "sns.distplot(matched_df,label = 'Matched')\n",
    "#plt.plot(treated_df, label = 'Treated')\n",
    "#plt.scatter(non_treated_df, label = 'Non-treated')\n",
    "#plt.scatter(matched_df, label = 'Matched')\n",
    "plt.title('Propensity Score Distribution of Control vs Treatment')\n",
    "plt.ylabel('Density')\n",
    "plt.xlabel('Scores')\n",
    "plt.legend()"
   ]
  },
  {
   "cell_type": "code",
   "execution_count": null,
   "metadata": {},
   "outputs": [],
   "source": [
    "len(non_treated_df)"
   ]
  },
  {
   "cell_type": "code",
   "execution_count": null,
   "metadata": {},
   "outputs": [],
   "source": [
    "#~3.2.1\n",
    "from causualinference import CausalModel\n",
    "\n",
    "X = \n",
    "Y = \n",
    "\n",
    "model = CausalModel(Y,X,confounders)\n",
    "model.est_via_matching(bias_adj = True)\n",
    "print(model.estimates)"
   ]
  },
  {
   "cell_type": "markdown",
   "metadata": {
    "pycharm": {
     "name": "#%% md\n"
    }
   },
   "source": [
    "### Task 3.3\n",
    "\n",
    "Let's evaluate your matching! There are more rigorous ways to do it, but we'll go the easy path.\n",
    "\n",
    "\n",
    "1. Using one or several appropriate plot types, visualize the distributions of the variables reputation and ratings, for treated and non-treated subjects that you matched.\n",
    "2. Visualize the distributions of these variables for all papers from 2020 that appeared on arxiv, and all papers that did not (including those you did not manage to match).\n",
    "3. **Discuss:** According to your visual analysis (no statistical tests needed here), did the matching do a good job at balancing covariates?"
   ]
  },
  {
   "cell_type": "code",
   "execution_count": null,
   "metadata": {
    "pycharm": {
     "name": "#%%\n"
    }
   },
   "outputs": [],
   "source": [
    "### Your code here! ###"
   ]
  },
  {
   "cell_type": "markdown",
   "metadata": {
    "pycharm": {
     "name": "#%% md\n"
    }
   },
   "source": [
    "### Task 3.4\n",
    "\n",
    "Finally, it's time to estimate the treatment effect. Given that we have pairs of matched samples, one that received treatment and one that did not, and that they have associated outcomes $y_{treat}$ and $y_{\\neg treat}$. We can calculate the average treatment effect as:\n",
    "\n",
    "$$\n",
    "ATE = \\frac{1}{N} \\sum_i^N  y_{treat}^{(i)} - y_{\\neg treat}^{(i)}\n",
    "$$\n",
    "\n",
    "Notice that here the outcome is a simple binary variable which equals 1 if the paper has been accepted and equals 0 if the paper has been rejected, and $N$ is the total number of matched samples in our analysis.\n",
    "\n",
    "According to your matched sample, estimate the treatment effect of publishing a paper on arxiv. Report the 95% CI through bootstrapping.\n"
   ]
  },
  {
   "cell_type": "code",
   "execution_count": null,
   "metadata": {
    "pycharm": {
     "name": "#%%\n"
    }
   },
   "outputs": [],
   "source": [
    "te_array = np.zeros(590)\n",
    "tw_iter = 0\n",
    "for i in matched_df.index:\n",
    "    te_array[te_iter] = (treated_df.['decisions'])"
   ]
  },
  {
   "cell_type": "markdown",
   "metadata": {
    "pycharm": {
     "name": "#%% md\n"
    }
   },
   "source": [
    "### Task 3.5\n",
    "\n",
    "Wait, but what about prestigious institutions? \n",
    "\n",
    "1.  To understand what is going on there, repeat tasks 3.2 to 3.4 considering *only* the top 10 institutions. Notice that you can use the same propensity scores and re-do the steps in a reduced dataframe containing only top-institutions.\n",
    "2. **Discuss:** Is this evidence that arxiv breaks double-blind submissions?"
   ]
  },
  {
   "cell_type": "code",
   "execution_count": null,
   "metadata": {
    "pycharm": {
     "name": "#%%\n"
    }
   },
   "outputs": [],
   "source": [
    "### Your code here! ###"
   ]
  }
 ],
 "metadata": {
  "kernelspec": {
   "display_name": "Python 3",
   "language": "python",
   "name": "python3"
  },
  "language_info": {
   "codemirror_mode": {
    "name": "ipython",
    "version": 3
   },
   "file_extension": ".py",
   "mimetype": "text/x-python",
   "name": "python",
   "nbconvert_exporter": "python",
   "pygments_lexer": "ipython3",
   "version": "3.8.3"
  },
  "pycharm": {
   "stem_cell": {
    "cell_type": "raw",
    "metadata": {
     "collapsed": false
    },
    "source": []
   }
  }
 },
 "nbformat": 4,
 "nbformat_minor": 4
}
